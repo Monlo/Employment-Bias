{
 "cells": [
  {
   "cell_type": "markdown",
   "id": "3cf51d5a-0992-49e5-9c5d-57b7bb8d8d78",
   "metadata": {},
   "source": [
    "### READ ME\n",
    "File created by Gayatri.  \n",
    "I'm checking for alternative variables that can help reduce/impute missing values."
   ]
  },
  {
   "cell_type": "code",
   "execution_count": 1,
   "id": "5f399edd-8c17-49f9-83e2-6b744fdcdbc3",
   "metadata": {},
   "outputs": [],
   "source": [
    "import pandas as pd\n",
    "import numpy as np\n",
    "import pyreadr\n",
    "\n",
    "from sklearn.linear_model import LinearRegression\n",
    "import matplotlib.pyplot as plt\n",
    "import seaborn as sns"
   ]
  },
  {
   "cell_type": "code",
   "execution_count": 2,
   "id": "2ba2c723-28bf-43e1-9621-eae4a5d95016",
   "metadata": {},
   "outputs": [
    {
     "name": "stdout",
     "output_type": "stream",
     "text": [
      "odict_keys(['min_dis'])\n"
     ]
    }
   ],
   "source": [
    "result = pyreadr.read_r('../01_data/minorities_discrimination_survey.RData')\n",
    "print(result.keys())\n",
    "# Activate automatic conversion from R to pandas\n",
    "df_full = result[\"min_dis\"] # extract the pandas data frame for object df1\n",
    "#df_full.head()"
   ]
  },
  {
   "cell_type": "code",
   "execution_count": 3,
   "id": "dcb85ced-9fc9-4986-a216-b58d47e1550a",
   "metadata": {},
   "outputs": [
    {
     "ename": "NameError",
     "evalue": "name 'df1' is not defined",
     "output_type": "error",
     "traceback": [
      "\u001b[0;31m---------------------------------------------------------------------------\u001b[0m",
      "\u001b[0;31mNameError\u001b[0m                                 Traceback (most recent call last)",
      "Cell \u001b[0;32mIn[3], line 2\u001b[0m\n\u001b[1;32m      1\u001b[0m \u001b[38;5;66;03m# Filter the subset to include only people seeking for a job (EU05=1 or EU07=1)\u001b[39;00m\n\u001b[0;32m----> 2\u001b[0m df_job \u001b[38;5;241m=\u001b[39m \u001b[43mdf1\u001b[49m[(df1[\u001b[38;5;124m'\u001b[39m\u001b[38;5;124mEU05\u001b[39m\u001b[38;5;124m'\u001b[39m] \u001b[38;5;241m==\u001b[39m \u001b[38;5;241m1\u001b[39m) \u001b[38;5;241m|\u001b[39m (df1[\u001b[38;5;124m'\u001b[39m\u001b[38;5;124mEU07\u001b[39m\u001b[38;5;124m'\u001b[39m] \u001b[38;5;241m==\u001b[39m \u001b[38;5;241m1\u001b[39m)]\n\u001b[1;32m      4\u001b[0m df_job\u001b[38;5;241m.\u001b[39mhead()\n\u001b[1;32m      5\u001b[0m df_job\u001b[38;5;241m.\u001b[39mshape\n",
      "\u001b[0;31mNameError\u001b[0m: name 'df1' is not defined"
     ]
    }
   ],
   "source": [
    "# Filter the subset to include only people seeking for a job (EU05=1 or EU07=1)\n",
    "df_job = df1[(df1['EU05'] == 1) | (df1['EU07'] == 1)]\n",
    "\n",
    "df_job.head()\n",
    "df_job.shape"
   ]
  },
  {
   "cell_type": "code",
   "execution_count": null,
   "id": "0e4e4ead-281b-46b9-be0d-cac0ff84b30d",
   "metadata": {},
   "outputs": [],
   "source": [
    "# Manually variables of interest \n",
    "db_filtered = [\n",
    "    'country',\n",
    "    'country2',\n",
    "    'DEGURBA',\n",
    "    'IN02', # Target group\n",
    "    'IN05', # COUNTRY OF BIRTH (immigrants and their descendants)\n",
    "    'IN06', # COUNTRY OF BIRTH (Recent immigrants)\n",
    "    'Generation', # 1st or 2nd generation migrant\n",
    "    'HH02', # Age\n",
    "    'HH03', # Gender\n",
    "    'HH04', # Current situation (Job)\n",
    "    'HH05', # Is that full-time, part-time or just occasionally?\n",
    "    'HH06', # Year arrived to live in country\n",
    "    'HH09_1', # Highest level of education completed? RECODE\n",
    "    'HH10', # Years spent in education?\n",
    "    'HH10a', # Currently attending school or vocational training?\n",
    "    'HH10c', # What is the main reason why you did not continue at school?\n",
    "    'HLS02', # Do you own or rent this accommodation?\n",
    "    'RA03_1', # Prevalance of discrimination on the basis of skin colour in [country]\n",
    "    'RA03_2', # Prevalance of discrimination on the basis of ethnic origin or immigrant background in [country]\n",
    "    'RA03_3', # Prevalance of discrimination on the basis of religion or religious beliefs in [country]\n",
    "    'RA04', # Do you know of any organisations in [COUNTRY] that offer support or advice to people who have been discriminated against - for whatever reason?\n",
    "    'EU01', # In what year was the last time you were in work?\n",
    "    'EU02', # What was your last job or occupation?\n",
    "    'EU03', # Are you currently registered as unemployed? \n",
    "    'EU05', # Are you currently looking for work?\n",
    "    'EU07', # Have you ever looked for work in the past 5 years in  [COUNTRY] (or since you have been in [country])?\n",
    "    'EUD01_01', ### Discriminated when looking for work in the past 5 years: Skin colour \n",
    "    'EUD01_02', ### Discriminated when looking for work in the past 5 years:  [ethnic origin or immigrant background / ethnic origin (tailored to target group)] \n",
    "    'EUD01_03', ### Discriminated when looking for work in the past 5 years: Religion or religious beliefs \n",
    "    'EUD01_04', ### Discriminated when looking for work in the past 5 years: Age (such as being too young or too old) \n",
    "    'EUD01_05', ### Discriminated when looking for work in the past 5 years: Sex/gender (such as being a man or a woman) \n",
    "    'EUD01_06', ### Discriminated when looking for work in the past 5 years: Disability \n",
    "    'EUD01_07', ### Discriminated when looking for work in the past 5 years: Sexual orientation (such as being gay lesbian or bisexual) \n",
    "    'EUD01_08', ### Discriminated when looking for work in the past 5 years: Other (please specify) \n",
    "    'EUD01_09', ### Discriminated when looking for work in the past 5 years: I haven't felt discriminated against on any ground when looking for work in the past 5 years\n",
    "    'EUD01_96', ### Discriminated when looking for work in the past 5 years: Refused  \n",
    "    'EUD01_97', ### Discriminated when looking for work in the past 5 years: Doesn't understand the question \n",
    "    'EUD01_99', ### Discriminated when looking for work in the past 5 years: Don't know  \n",
    "    'EUD06_01', ### Report or complaint made to Police  \n",
    "    'EA01', ### What is your current job or occupation?\n",
    "    'EA02', ### \"What kind of employment contract do you have in your main job? Is it a…?\n",
    "    'EA04', ### To what extent does your current job or the work you do correspond to your level of education?\n",
    "    'EA05', ### How many hours per week do you work in your (main) job? (allow from 0 to 999)\n",
    "    'EAD01_01', ### Discriminated at work in the past 5 years: Skin colour \n",
    "    'EAD01_02', ### Discriminated at work in the past 5 years: [ethnic origin or immigrant background / ethnic origin (tailored to target group)] \n",
    "    'EAD01_03', ### Discriminated at work in the past 5 years: Religion or religious beliefs \n",
    "    'EAD01_04', ### Discriminated at work in the past 5 years: Age \n",
    "    'EAD01_05', ### Discriminated at work in the past 5 years: Sex/gender (such as being a man or a woman) \n",
    "    'EAD01_06', ### Discriminated at work in the past 5 years: Disability\n",
    "    'EAD01_07', ### Discriminated at work in the past 5 years: Sexual orientation  (such as being gay, lesbian or bisexual)\n",
    "    'EAD01_08', ### Discriminated at work in the past 5 years: Other (please specify)\n",
    "    'EAD01_09', ### Discriminated at work in the past 5 years: I haven't felt discriminated against on any ground when at work in the past 5 years \n",
    "    'EAD01_96', ### Discriminated at work in the past 5 years: Refused  \n",
    "    'EAD01_97', ### Discriminated at work in the past 5 years: Doesn't understand the question\n",
    "    'EAD01_99', ### Discriminated at work in the past 5 years: Don't know\n",
    "    'res_stat', ### Residence and citizenship status\n",
    "    'id', # unique identification number for a respondent\n",
    "    'arop', # At risk of poverty after social transfers\n",
    "    'PB06_01', # What language do you mainly speak at home? Language 1\n",
    "    'PB04', # Do you usually wear a headscarf or niqab outside the house? \n",
    "    'PB01', # What is your religion?\n",
    "\n",
    "]\n"
   ]
  },
  {
   "cell_type": "code",
   "execution_count": null,
   "id": "5a9dbdbb-46d8-41e2-b0ba-c5da459dae97",
   "metadata": {},
   "outputs": [],
   "source": [
    "df_subset_job_seekers = pd.read_pickle('../01_data/df_subset_job_seekers.pkl')"
   ]
  },
  {
   "cell_type": "code",
   "execution_count": 17,
   "id": "b760b261-95f6-4d6e-bbc7-0a87cbbfa7c8",
   "metadata": {},
   "outputs": [
    {
     "data": {
      "text/html": [
       "<div>\n",
       "<style scoped>\n",
       "    .dataframe tbody tr th:only-of-type {\n",
       "        vertical-align: middle;\n",
       "    }\n",
       "\n",
       "    .dataframe tbody tr th {\n",
       "        vertical-align: top;\n",
       "    }\n",
       "\n",
       "    .dataframe thead th {\n",
       "        text-align: right;\n",
       "    }\n",
       "</style>\n",
       "<table border=\"1\" class=\"dataframe\">\n",
       "  <thead>\n",
       "    <tr style=\"text-align: right;\">\n",
       "      <th></th>\n",
       "      <th>country</th>\n",
       "      <th>country2</th>\n",
       "      <th>DEGURBA</th>\n",
       "      <th>IN02</th>\n",
       "      <th>HH02</th>\n",
       "      <th>HH03</th>\n",
       "      <th>HH04</th>\n",
       "      <th>HLS02</th>\n",
       "      <th>RA03_1</th>\n",
       "      <th>RA03_2</th>\n",
       "      <th>...</th>\n",
       "      <th>PB10_2</th>\n",
       "      <th>PB11</th>\n",
       "      <th>S01</th>\n",
       "      <th>SI02</th>\n",
       "      <th>SI06</th>\n",
       "      <th>activ</th>\n",
       "      <th>Encount_police_5y</th>\n",
       "      <th>res_stat</th>\n",
       "      <th>id</th>\n",
       "      <th>arop</th>\n",
       "    </tr>\n",
       "  </thead>\n",
       "  <tbody>\n",
       "    <tr>\n",
       "      <th>0</th>\n",
       "      <td>1.0</td>\n",
       "      <td>1.0</td>\n",
       "      <td>1.0</td>\n",
       "      <td>8.0</td>\n",
       "      <td>37.0</td>\n",
       "      <td>1.0</td>\n",
       "      <td>1.0</td>\n",
       "      <td>4.0</td>\n",
       "      <td>4.0</td>\n",
       "      <td>4.0</td>\n",
       "      <td>...</td>\n",
       "      <td>1.0</td>\n",
       "      <td>3.0</td>\n",
       "      <td>1.0</td>\n",
       "      <td>1.0</td>\n",
       "      <td>3.0</td>\n",
       "      <td>1.0</td>\n",
       "      <td>2.0</td>\n",
       "      <td>3.0</td>\n",
       "      <td>165.0</td>\n",
       "      <td>1.0</td>\n",
       "    </tr>\n",
       "    <tr>\n",
       "      <th>12</th>\n",
       "      <td>1.0</td>\n",
       "      <td>1.0</td>\n",
       "      <td>1.0</td>\n",
       "      <td>8.0</td>\n",
       "      <td>30.0</td>\n",
       "      <td>1.0</td>\n",
       "      <td>1.0</td>\n",
       "      <td>3.0</td>\n",
       "      <td>1.0</td>\n",
       "      <td>2.0</td>\n",
       "      <td>...</td>\n",
       "      <td>1.0</td>\n",
       "      <td>2.0</td>\n",
       "      <td>1.0</td>\n",
       "      <td>1.0</td>\n",
       "      <td>5.0</td>\n",
       "      <td>1.0</td>\n",
       "      <td>2.0</td>\n",
       "      <td>5.0</td>\n",
       "      <td>317.0</td>\n",
       "      <td>0.0</td>\n",
       "    </tr>\n",
       "    <tr>\n",
       "      <th>16</th>\n",
       "      <td>1.0</td>\n",
       "      <td>1.0</td>\n",
       "      <td>1.0</td>\n",
       "      <td>8.0</td>\n",
       "      <td>35.0</td>\n",
       "      <td>1.0</td>\n",
       "      <td>1.0</td>\n",
       "      <td>3.0</td>\n",
       "      <td>4.0</td>\n",
       "      <td>2.0</td>\n",
       "      <td>...</td>\n",
       "      <td>1.0</td>\n",
       "      <td>3.0</td>\n",
       "      <td>1.0</td>\n",
       "      <td>1.0</td>\n",
       "      <td>4.0</td>\n",
       "      <td>1.0</td>\n",
       "      <td>1.0</td>\n",
       "      <td>5.0</td>\n",
       "      <td>321.0</td>\n",
       "      <td>0.0</td>\n",
       "    </tr>\n",
       "    <tr>\n",
       "      <th>17</th>\n",
       "      <td>1.0</td>\n",
       "      <td>1.0</td>\n",
       "      <td>1.0</td>\n",
       "      <td>8.0</td>\n",
       "      <td>42.0</td>\n",
       "      <td>1.0</td>\n",
       "      <td>4.0</td>\n",
       "      <td>3.0</td>\n",
       "      <td>3.0</td>\n",
       "      <td>4.0</td>\n",
       "      <td>...</td>\n",
       "      <td>1.0</td>\n",
       "      <td>3.0</td>\n",
       "      <td>1.0</td>\n",
       "      <td>6.0</td>\n",
       "      <td>1.0</td>\n",
       "      <td>2.0</td>\n",
       "      <td>1.0</td>\n",
       "      <td>3.0</td>\n",
       "      <td>322.0</td>\n",
       "      <td>1.0</td>\n",
       "    </tr>\n",
       "    <tr>\n",
       "      <th>22</th>\n",
       "      <td>1.0</td>\n",
       "      <td>1.0</td>\n",
       "      <td>1.0</td>\n",
       "      <td>8.0</td>\n",
       "      <td>39.0</td>\n",
       "      <td>1.0</td>\n",
       "      <td>5.0</td>\n",
       "      <td>4.0</td>\n",
       "      <td>3.0</td>\n",
       "      <td>3.0</td>\n",
       "      <td>...</td>\n",
       "      <td>2.0</td>\n",
       "      <td>3.0</td>\n",
       "      <td>5.0</td>\n",
       "      <td>9.0</td>\n",
       "      <td>2.0</td>\n",
       "      <td>7.0</td>\n",
       "      <td>2.0</td>\n",
       "      <td>5.0</td>\n",
       "      <td>327.0</td>\n",
       "      <td>1.0</td>\n",
       "    </tr>\n",
       "  </tbody>\n",
       "</table>\n",
       "<p>5 rows × 53 columns</p>\n",
       "</div>"
      ],
      "text/plain": [
       "    country  country2  DEGURBA  IN02  HH02  HH03  HH04  HLS02  RA03_1  RA03_2  \\\n",
       "0       1.0       1.0      1.0   8.0  37.0   1.0   1.0    4.0     4.0     4.0   \n",
       "12      1.0       1.0      1.0   8.0  30.0   1.0   1.0    3.0     1.0     2.0   \n",
       "16      1.0       1.0      1.0   8.0  35.0   1.0   1.0    3.0     4.0     2.0   \n",
       "17      1.0       1.0      1.0   8.0  42.0   1.0   4.0    3.0     3.0     4.0   \n",
       "22      1.0       1.0      1.0   8.0  39.0   1.0   5.0    4.0     3.0     3.0   \n",
       "\n",
       "    ...  PB10_2  PB11  S01  SI02  SI06  activ  Encount_police_5y  res_stat  \\\n",
       "0   ...     1.0   3.0  1.0   1.0   3.0    1.0                2.0       3.0   \n",
       "12  ...     1.0   2.0  1.0   1.0   5.0    1.0                2.0       5.0   \n",
       "16  ...     1.0   3.0  1.0   1.0   4.0    1.0                1.0       5.0   \n",
       "17  ...     1.0   3.0  1.0   6.0   1.0    2.0                1.0       3.0   \n",
       "22  ...     2.0   3.0  5.0   9.0   2.0    7.0                2.0       5.0   \n",
       "\n",
       "       id  arop  \n",
       "0   165.0   1.0  \n",
       "12  317.0   0.0  \n",
       "16  321.0   0.0  \n",
       "17  322.0   1.0  \n",
       "22  327.0   1.0  \n",
       "\n",
       "[5 rows x 53 columns]"
      ]
     },
     "execution_count": 17,
     "metadata": {},
     "output_type": "execute_result"
    }
   ],
   "source": [
    "df_subset_job_seekers.head()"
   ]
  },
  {
   "cell_type": "code",
   "execution_count": 18,
   "id": "264a71dc-4347-4403-81d4-45150b0dfddc",
   "metadata": {},
   "outputs": [
    {
     "data": {
      "text/plain": [
       "(13406, 1283)"
      ]
     },
     "execution_count": 18,
     "metadata": {},
     "output_type": "execute_result"
    }
   ],
   "source": []
  },
  {
   "cell_type": "markdown",
   "id": "8266b76d-67c2-4071-b690-6e16a89210d5",
   "metadata": {},
   "source": [
    "### <u>Main source of income of household</u>  \n",
    "And which of these is the main source of income in your household?  \n",
    "**SI02**"
   ]
  },
  {
   "cell_type": "markdown",
   "id": "d6a4fd22-d90f-41c0-99f5-b64e94df4cc1",
   "metadata": {},
   "source": [
    "<span style=\"color:red\"><b>DEAL WITH MISSINGNESS! Wait for Gayatri to see if we can use a different variable.</b></span>"
   ]
  },
  {
   "cell_type": "code",
   "execution_count": 19,
   "id": "905d661e-c570-4db8-b309-85d72b610f8e",
   "metadata": {},
   "outputs": [
    {
     "name": "stdout",
     "output_type": "stream",
     "text": [
      "Data type of SI02: float64\n",
      "Number of missing values in SI02: 3863\n",
      "Number of missing values in SI01: 3863\n",
      "SI02\n",
      "1.0     4958\n",
      "8.0     1212\n",
      "6.0     1003\n",
      "2.0      523\n",
      "3.0      521\n",
      "5.0      421\n",
      "7.0      387\n",
      "4.0      190\n",
      "9.0      148\n",
      "96.0      77\n",
      "99.0      73\n",
      "10.0      16\n",
      "97.0      14\n",
      "Name: count, dtype: int64\n"
     ]
    }
   ],
   "source": [
    "# Print data type of variable SI02\n",
    "print(\"Data type of SI02:\", df_subset_job_seekers['SI02'].dtype)\n",
    "\n",
    "# Check for missing values in variable SI02\n",
    "print(\"Number of missing values in SI02:\", df_subset_job_seekers['SI02'].isnull().sum())\n",
    "print(\"Number of missing values in SI01:\", df_subset_job_seekers['SI02'].isnull().sum())\n",
    "\n",
    "# Print frequency table\n",
    "print(df_subset_job_seekers['SI02'].value_counts())"
   ]
  },
  {
   "cell_type": "code",
   "execution_count": 20,
   "id": "a1c48faf-443a-44cb-a192-54ea3bd49d27",
   "metadata": {},
   "outputs": [
    {
     "name": "stdout",
     "output_type": "stream",
     "text": [
      "SI02_inc_work\n",
      "0    7404\n",
      "1    6002\n",
      "Name: count, dtype: int64\n",
      "SI02_inc_ben\n",
      "0    10193\n",
      "1     3213\n",
      "Name: count, dtype: int64\n"
     ]
    }
   ],
   "source": [
    "# Create new variables SI02_inc_work and SI02_inc_ben based on conditions\n",
    "df_subset_job_seekers['SI02_inc_work'] = df_subset_job_seekers['SI02'].apply(lambda x: 1 if x in [1, 2, 3] else 0) # salary, self-employement or occasional work\n",
    "df_subset_job_seekers['SI02_inc_ben'] = df_subset_job_seekers['SI02'].apply(lambda x: 1 if x in [4, 5, 6, 7, 8] else 0) # education allowance, pensions, unemployment benefits, child benefits, other social benefits\n",
    "\n",
    "# Print frequency table\n",
    "print(df_subset_job_seekers['SI02_inc_work'].value_counts())\n",
    "print(df_subset_job_seekers['SI02_inc_ben'].value_counts())"
   ]
  },
  {
   "attachments": {},
   "cell_type": "markdown",
   "id": "02727fe3-0d4b-4e7a-b181-ad18360922f6",
   "metadata": {},
   "source": [
    "<span style=\"color:blue\">**Alternative:**  \n",
    "**SI03_3_H: Household combined net monthly income**  "
   ]
  },
  {
   "cell_type": "markdown",
   "id": "a6978c92-6b21-4e54-ad6e-ad10c1edbab2",
   "metadata": {},
   "source": [
    "**Monthly income in income bands**  \n",
    "1 | D less than 25 Euro (or equivalent) |  \n",
    "2 | B 26 - 50 (or equivalent) |  \n",
    "3 | I 51 - 100 (or equivalent) |  \n",
    "4 | O 101 - 150 (or equivalent) |  \n",
    "5 | T 151 - 200 (or equivalent) |  \n",
    "6 | G 201 - 250 (or equivalent) |  \n",
    "7 | P 251 - 300 (or equivalent) |  \n",
    "8 | A 301 - 400 (or equivalent) |  \n",
    "9 | F 401 - 500 (or equivalent) |  \n",
    "10 | E 501 - 600 (or equivalent) |  \n",
    "11 | Q 601 - 750 (or equivalent) |  \n",
    "12 | H 751 - 900 (or equivalent) |  \n",
    "13 | C 901 - 1100 (or equivalent) |  \n",
    "14 | L 1101 - 1300 (or equivalent) |  \n",
    "15 | N 1301 - 1500 (or equivalent) |  \n",
    "16 | R 1501 - 1750 (or equivalent) |  \n",
    "17 | M 1751 - 2000 (or equivalent) |  \n",
    "18 | S 2001 - 2250 (or equivalent) |  \n",
    "19 | K 2251 - 2600 (or equivalent) |  \n",
    "20 | U 2601 - 3000 (or equivalent) |  \n",
    "21 | V 3001 - 4000 (or equivalent) |  \n",
    "22 | J 4001 Euro (or equvivalent) or more |  \n",
    "(No entries for 96, 97, 99)"
   ]
  },
  {
   "cell_type": "code",
   "execution_count": 21,
   "id": "b190b434-d940-471b-9e20-d7e0e3d0ee77",
   "metadata": {},
   "outputs": [
    {
     "name": "stdout",
     "output_type": "stream",
     "text": [
      "Data type of SI03_3_H: float64\n",
      "Number of missing values in SI03_3_H: 0\n",
      "SI03_3_H\n",
      "13.0    984\n",
      "9.0     958\n",
      "12.0    922\n",
      "14.0    897\n",
      "8.0     896\n",
      "17.0    859\n",
      "11.0    835\n",
      "10.0    810\n",
      "15.0    771\n",
      "16.0    682\n",
      "19.0    645\n",
      "7.0     611\n",
      "21.0    596\n",
      "20.0    525\n",
      "5.0     467\n",
      "18.0    400\n",
      "22.0    397\n",
      "6.0     380\n",
      "4.0     307\n",
      "3.0     266\n",
      "1.0     126\n",
      "2.0      72\n",
      "Name: count, dtype: int64\n"
     ]
    }
   ],
   "source": [
    "# Print data type of variable SI03 \n",
    "print(\"Data type of SI03_3_H:\", df_job['SI03_3_H'].dtype)\n",
    "\n",
    "# Check for missing values in variable SI02\n",
    "print(\"Number of missing values in SI03_3_H:\", df_job['SI03_3_H'].isnull().sum())\n",
    "\n",
    "# Print frequency table\n",
    "print(df_job['SI03_3_H'].value_counts())"
   ]
  },
  {
   "cell_type": "markdown",
   "id": "f62323d4-c10b-43fe-90e2-373d94f5a36b",
   "metadata": {},
   "source": [
    "**Option to exclude imputed values (imputation indicator - SI03_2_H_stat)**"
   ]
  },
  {
   "cell_type": "code",
   "execution_count": 22,
   "id": "5df269ce-e79e-4078-b562-87d3f426a1ba",
   "metadata": {},
   "outputs": [
    {
     "name": "stdout",
     "output_type": "stream",
     "text": [
      "Data type of SI03_2_H_stat: float64\n",
      "Number of missing values in SI03_2_H_stat: 0\n",
      "SI03_2_H_stat\n",
      "0.0    8069\n",
      "1.0    5337\n",
      "Name: count, dtype: int64\n"
     ]
    }
   ],
   "source": [
    "# Print data type of variable SI03 \n",
    "print(\"Data type of SI03_2_H_stat:\", df_job['SI03_2_H_stat'].dtype)\n",
    "\n",
    "# Check for missing values in variable SI02\n",
    "print(\"Number of missing values in SI03_2_H_stat:\", df_job['SI03_2_H_stat'].isnull().sum())\n",
    "\n",
    "# Print frequency table\n",
    "print(df_job['SI03_2_H_stat'].value_counts())"
   ]
  },
  {
   "cell_type": "markdown",
   "id": "68fb6dd1-d7ef-414b-9e93-41b3a0d3ab7e",
   "metadata": {},
   "source": [
    "### <u> Residence / citizenship status </u>  \n",
    "\n",
    "<span style=\"color:red\"><b>New variable:</b></span> Binary. From EU or not.  \n",
    "<span style=\"color:red\"><b>Wait for Gayatri to see if we can use a different variable.</b></span>  \n",
    "**res_stat:** Residence / citizenship status  \n",
    "1\tNational citizen  \n",
    "2\tEU citizen, but not national  \n",
    "3\tUnlimited residence permit  \n",
    "4\tLimited residence permit, valid for more than 5 years  \n",
    "5\tLimited residence permit, valid for less than 5 years  \n",
    "6\tNo residence permit  \n",
    "99\tOther (e.g. currently renewing, don't know)"
   ]
  },
  {
   "cell_type": "code",
   "execution_count": 23,
   "id": "c7a803e4-b0d0-4221-9c28-cd9ec7b1a44c",
   "metadata": {},
   "outputs": [
    {
     "name": "stdout",
     "output_type": "stream",
     "text": [
      "Data type of res_stat: float64\n",
      "Number of missing values in res_stat: 3987\n",
      "res_stat\n",
      "1.0     4196\n",
      "5.0     2299\n",
      "3.0     1417\n",
      "99.0     629\n",
      "6.0      366\n",
      "2.0      288\n",
      "4.0      224\n",
      "Name: count, dtype: int64\n"
     ]
    }
   ],
   "source": [
    "# Print data type of variable res_stat\n",
    "print(\"Data type of res_stat:\", df_job['res_stat'].dtype)\n",
    "\n",
    "# Check for missing values in variable res_stat\n",
    "print(\"Number of missing values in res_stat:\", df_job['res_stat'].isnull().sum())\n",
    "\n",
    "# Print frequency table\n",
    "print(df_job['res_stat'].value_counts())"
   ]
  },
  {
   "attachments": {},
   "cell_type": "markdown",
   "id": "060c83e0-247d-4cde-9dfa-e0bd301cd828",
   "metadata": {},
   "source": [
    "<span style=\"color:blue\">**Possible alternatives:**  \n",
    "<span style=\"color:black\"> HH07 - variable not included in dataset due to sensitivity  XXXX  \n",
    "<span style=\"color:black\">HH07_1 - Number of citizenships (derived variable)  \n",
    "<span style=\"color:red\">HH07_2 - Has citizenship of survey country (derived variable)  \n",
    "<span style=\"color:red\">HH07_3 - Other country citizenship country 1)  \n",
    "<span style=\"color:black\">HH07_4 - Other country citizenship country 2)  \n",
    "<span style=\"color:black\">HH19 Possession of country citizenship (household members)  \n",
    "<span style=\"color:black\">HH30 Confirmation of entered information (household members) - does not exist  \n",
    "<span style=\"color:red\">PR03 Current possession of a residence permit - variable not included in dataset due to sensitivity  XXXX  \n",
    "<span style=\"color:black\">PR15 Applied for country citizenship in the past  \n",
    "<span style=\"color:black\">PR16 Outcome of country citizenship application\n",
    "<span style=\"color:black\">IN05 Country of birth (from contact sheet)  \n",
    "<span style=\"color:black\">PR02 Type of permit/documents/status when first arriving to country - variable not included in dataset due to sensitivity  XXXX  \n",
    "<span style=\"color:red\">PR01 Reasons for coming to country:  \n",
    "PR01_01 Employment/work  \n",
    "PR01_02 Family reasons/joined a partner/marriage  \n",
    "PR01_03 Came with my parents when I was a child  \n",
    "PR01_04 Study  \n",
    "PR01_05 Seeking asylum/protection  \n",
    "PR01_06/PR01_06_Other Other (please specify):  \n",
    "PR01_07 I did not plan to stay in [COUNTRY]  "
   ]
  },
  {
   "cell_type": "code",
   "execution_count": 47,
   "id": "2bfb1810-70df-4608-9143-cc8cc396d456",
   "metadata": {
    "scrolled": true
   },
   "outputs": [
    {
     "name": "stdout",
     "output_type": "stream",
     "text": [
      "Data type of HH07_3: float64\n",
      "Data type of HH07_4: float64\n",
      "Number of missing values in HH07_3: 7931\n",
      "Number of missing values in HH07_4: 13365\n",
      "HH07_3\n",
      "143.0    965\n",
      "207.0    777\n",
      "187.0    344\n",
      "157.0    315\n",
      "154.0    295\n",
      "        ... \n",
      "996.0      1\n",
      "40.0       1\n",
      "110.0      1\n",
      "142.0      1\n",
      "79.0       1\n",
      "Name: count, Length: 119, dtype: int64\n",
      "HH07_4\n",
      "22.0     7\n",
      "26.0     7\n",
      "207.0    4\n",
      "10.0     3\n",
      "2.0      2\n",
      "3.0      2\n",
      "143.0    2\n",
      "94.0     2\n",
      "28.0     1\n",
      "15.0     1\n",
      "154.0    1\n",
      "12.0     1\n",
      "101.0    1\n",
      "71.0     1\n",
      "58.0     1\n",
      "23.0     1\n",
      "155.0    1\n",
      "82.0     1\n",
      "30.0     1\n",
      "157.0    1\n",
      "Name: count, dtype: int64\n"
     ]
    }
   ],
   "source": [
    "# Print data type of variable res_stat\n",
    "print(\"Data type of HH07_3:\", df_job['HH07_3'].dtype)\n",
    "print(\"Data type of HH07_4:\", df_job['HH07_4'].dtype)\n",
    "\n",
    "# Check for missing values in variable res_stat\n",
    "print(\"Number of missing values in HH07_3:\", df_job['HH07_3'].isnull().sum())\n",
    "print(\"Number of missing values in HH07_4:\", df_job['HH07_4'].isnull().sum())\n",
    "\n",
    "# Print frequency table\n",
    "print(df_job['HH07_3'].value_counts())\n",
    "print(df_job['HH07_4'].value_counts())\n"
   ]
  },
  {
   "cell_type": "markdown",
   "id": "5719875e-08ec-4ad6-b7c1-a662a3602cf9",
   "metadata": {},
   "source": [
    "EU countries list: no. 1 to 27  \n",
    "Austria, Belgium, Bulgaria, Croatia, Republic of Cyprus, Czech Republic, Denmark, Estonia, Finland, France, Germany, Greece, Hungary, Ireland, Italy, Latvia, Lithuania, Luxembourg, Malta, Netherlands, Poland, Portugal, Romania, Slovakia, Slovenia, Spain and Sweden.  \n",
    "  \n",
    "2nd citizenship can be used to impute NAs along with PR01 variables.  "
   ]
  },
  {
   "cell_type": "code",
   "execution_count": 67,
   "id": "a64fc754-3683-40ef-89d7-94180b501087",
   "metadata": {},
   "outputs": [
    {
     "name": "stdout",
     "output_type": "stream",
     "text": [
      "is_eu_citizen_2\n",
      "0    13135\n",
      "1      271\n",
      "Name: count, dtype: int64\n"
     ]
    }
   ],
   "source": [
    "eu_countries = list(range(1, 28))  # Generates a list of integers from 1 to 27\n",
    "\n",
    "def is_eu_citizen_2(citizenship):\n",
    "    return 0 if citizenship not in eu_countries else 1  # 1 for eu, 0 for others\n",
    "    \n",
    "# Apply the function to create a new column indicating if the citizenship is in EU countries\n",
    "df_job.loc[:, 'is_eu_citizen_2'] = df_job['HH07_3'].apply(is_eu_citizen_2)\n",
    "print(df_job['is_eu_citizen_2'].value_counts())\n"
   ]
  },
  {
   "cell_type": "code",
   "execution_count": 68,
   "id": "9da7ef55-3609-45a8-aa87-134aa5235e37",
   "metadata": {},
   "outputs": [],
   "source": [
    "# Create new variable based on conditions\n",
    "# df_job['2nd_citizenship'] = df_job['HH07_3'].apply(lambda x: 0 if pd.isna(x) or x == -2 else 1)\n",
    "# df_job['3rd_citizenship'] = df_job['HH07_4'].apply(lambda x: 0 if pd.isna(x) or x == -2 else 1)\n",
    "\n",
    "# Print frequency table\n",
    "# print(df_job['2nd_citizenship'].value_counts())\n",
    "# print(df_job['3rd_citizenship'].value_counts())\n",
    "\n",
    "# NAs in citizenship = 0 and if EU citizen = 1"
   ]
  },
  {
   "cell_type": "code",
   "execution_count": 69,
   "id": "575f5df1-4e62-403e-bb21-1a418eec0b2c",
   "metadata": {},
   "outputs": [],
   "source": [
    "# Encode such that NAs will become 1 for EU citizens (question not applicable to EU citizens)\n",
    "# Everything else will become 0 (both response and non-response if from a non-EU person)\n",
    "df_job.loc[:, 'PR01_01_mod'] = df_job['PR01_01'].apply(lambda x: 1 if pd.isna(x) else 0)\n",
    "df_job.loc[:, 'PR01_02_mod'] = df_job['PR01_02'].apply(lambda x: 1 if pd.isna(x) else 0)\n",
    "df_job.loc[:, 'PR01_03_mod'] = df_job['PR01_03'].apply(lambda x: 1 if pd.isna(x) else 0)\n",
    "df_job.loc[:, 'PR01_04_mod'] = df_job['PR01_04'].apply(lambda x: 1 if pd.isna(x) else 0)\n",
    "df_job.loc[:, 'PR01_05_mod'] = df_job['PR01_05'].apply(lambda x: 1 if pd.isna(x) else 0)\n",
    "df_job.loc[:, 'PR01_06_mod'] = df_job['PR01_06'].apply(lambda x: 1 if pd.isna(x) else 0)\n",
    "df_job.loc[:, 'PR01_07_mod'] = df_job['PR01_07'].apply(lambda x: 1 if pd.isna(x) else 0)"
   ]
  },
  {
   "cell_type": "code",
   "execution_count": 77,
   "id": "cba3dc83-bf03-4093-8364-45fb2ca64898",
   "metadata": {},
   "outputs": [
    {
     "name": "stdout",
     "output_type": "stream",
     "text": [
      "0     0.0\n",
      "12    0.0\n",
      "16    0.0\n",
      "17    0.0\n",
      "22    0.0\n",
      "Name: non_eu, dtype: object\n",
      "0\n"
     ]
    },
    {
     "name": "stderr",
     "output_type": "stream",
     "text": [
      "C:\\Users\\gayat\\AppData\\Local\\Temp\\ipykernel_12568\\865696598.py:10: FutureWarning: The behavior of array concatenation with empty entries is deprecated. In a future version, this will no longer exclude empty items when determining the result dtype. To retain the old behavior, exclude the empty entries before the concat operation.\n",
      "  df_job.loc[:, 'non_eu'] = df_job['non_eu'].combine_first(df_job[column])\n"
     ]
    }
   ],
   "source": [
    "# List all the columns you want to combine\n",
    "columns_to_combine = [\"PR01_01\", \"PR01_02\", \"PR01_03\", \"PR01_04\", \"PR01_05\", \"PR01_06\", \"PR01_07\", \"is_eu_citizen_2\"]\n",
    "                      # \"3rd_citizenship\"]\n",
    "                      # \"EAD01_01\", \"EAD01_02\", \"EAD01_03\", \"EAD01_04\", \"EAD01_05\",\n",
    "                      # \"EAD01_06\", \"EAD01_07\", \"EAD01_08\", \"EAD01_09\"]\n",
    "\n",
    "# Create a new column \"non_eu\" by combining the specified columns\n",
    "df_job.loc[:, 'non_eu'] = None\n",
    "for column in columns_to_combine:\n",
    "    df_job.loc[:, 'non_eu'] = df_job['non_eu'].combine_first(df_job[column])\n",
    "\n",
    "# Print the head of the new column \"non_eu\"\n",
    "print(df_job['non_eu'].head())\n",
    "\n",
    "# Check for missing values in the new column\n",
    "print(df_job['non_eu'].isnull().sum())\n"
   ]
  },
  {
   "cell_type": "code",
   "execution_count": null,
   "id": "bdd63d09-fe79-40dd-bac8-6c96fc7b010c",
   "metadata": {},
   "outputs": [],
   "source": [
    "# impute this to res_stat\n"
   ]
  },
  {
   "cell_type": "markdown",
   "id": "ad0447c7-a1f1-4c06-a18b-34e796aa81b7",
   "metadata": {},
   "source": [
    "**HH07_2 - Has citizenship of survey country (derived variable)**  \n",
    "This one has the same number of NAs as res_stat. I don't think it'll be useful."
   ]
  },
  {
   "cell_type": "code",
   "execution_count": 26,
   "id": "9dc1d60d-97a3-4592-94aa-75083c7fb2c0",
   "metadata": {},
   "outputs": [
    {
     "name": "stdout",
     "output_type": "stream",
     "text": [
      "Data type of HH07_2: float64\n",
      "Number of missing values in HH07_2: 3987\n",
      "HH07_2\n",
      "2.0     5158\n",
      "1.0     4196\n",
      "96.0      35\n",
      "99.0      18\n",
      "97.0      12\n",
      "Name: count, dtype: int64\n"
     ]
    }
   ],
   "source": [
    "# Print data type of variable res_stat\n",
    "print(\"Data type of HH07_2:\", df_job['HH07_2'].dtype)\n",
    "\n",
    "# Check for missing values in variable res_stat\n",
    "print(\"Number of missing values in HH07_2:\", df_job['HH07_2'].isnull().sum())\n",
    "\n",
    "# Print frequency table\n",
    "print(df_job['HH07_2'].value_counts())"
   ]
  },
  {
   "cell_type": "markdown",
   "id": "ce036025-547f-44bb-a175-1b3d7b1072ab",
   "metadata": {},
   "source": [
    "**IN05 - Country of birth**  \n",
    "List of 233 countries + not recognised + stateless"
   ]
  },
  {
   "cell_type": "code",
   "execution_count": 27,
   "id": "fcbb4363-513f-484e-8ede-842900684c07",
   "metadata": {},
   "outputs": [
    {
     "name": "stdout",
     "output_type": "stream",
     "text": [
      "Data type of IN05: float64\n",
      "Number of missing values in IN05: 4776\n",
      "IN05\n",
      "143.0    1196\n",
      "207.0     858\n",
      "187.0     815\n",
      "20.0      526\n",
      "154.0     445\n",
      "         ... \n",
      "111.0       1\n",
      "21.0        1\n",
      "115.0       1\n",
      "6.0         1\n",
      "79.0        1\n",
      "Name: count, Length: 98, dtype: int64\n"
     ]
    }
   ],
   "source": [
    "# Print data type of variable res_stat\n",
    "print(\"Data type of IN05:\", df_job['IN05'].dtype)\n",
    "\n",
    "# Check for missing values in variable res_stat\n",
    "print(\"Number of missing values in IN05:\", df_job['IN05'].isnull().sum())\n",
    "\n",
    "# Print frequency table\n",
    "print(df_job['IN05'].value_counts())"
   ]
  },
  {
   "cell_type": "code",
   "execution_count": 28,
   "id": "c04de745-4f4d-4a90-9f67-55c01adef10f",
   "metadata": {},
   "outputs": [
    {
     "name": "stdout",
     "output_type": "stream",
     "text": [
      "Data type of IN06: float64\n",
      "Number of missing values in IN06: 12967\n",
      "IN06\n",
      "212.0    135\n",
      "51.0     101\n",
      "200.0     44\n",
      "182.0     25\n",
      "45.0      25\n",
      "233.0     22\n",
      "168.0     20\n",
      "116.0      6\n",
      "138.0      4\n",
      "117.0      4\n",
      "30.0       4\n",
      "196.0      3\n",
      "207.0      3\n",
      "206.0      3\n",
      "94.0       3\n",
      "82.0       3\n",
      "221.0      3\n",
      "37.0       3\n",
      "141.0      2\n",
      "180.0      2\n",
      "107.0      2\n",
      "215.0      2\n",
      "154.0      2\n",
      "125.0      2\n",
      "163.0      2\n",
      "66.0       1\n",
      "40.0       1\n",
      "199.0      1\n",
      "29.0       1\n",
      "197.0      1\n",
      "143.0      1\n",
      "106.0      1\n",
      "191.0      1\n",
      "33.0       1\n",
      "208.0      1\n",
      "217.0      1\n",
      "39.0       1\n",
      "122.0      1\n",
      "53.0       1\n",
      "Name: count, dtype: int64\n"
     ]
    }
   ],
   "source": [
    "# Print data type of variable res_stat\n",
    "print(\"Data type of IN06:\", df_job['IN06'].dtype)\n",
    "\n",
    "# Check for missing values in variable res_stat\n",
    "print(\"Number of missing values in IN06:\", df_job['IN06'].isnull().sum())\n",
    "\n",
    "# Print frequency table\n",
    "print(df_job['IN06'].value_counts())"
   ]
  },
  {
   "cell_type": "code",
   "execution_count": 29,
   "id": "39109392-0508-43f4-91e6-77a1fadc844b",
   "metadata": {},
   "outputs": [
    {
     "name": "stdout",
     "output_type": "stream",
     "text": [
      "Number of missing values in origin_country: 4337\n",
      "origin_country\n",
      "143.0    1197\n",
      "207.0     861\n",
      "187.0     815\n",
      "20.0      526\n",
      "154.0     447\n",
      "         ... \n",
      "996.0       1\n",
      "191.0       1\n",
      "115.0       1\n",
      "999.0       1\n",
      "79.0        1\n",
      "Name: count, Length: 128, dtype: int64\n"
     ]
    },
    {
     "name": "stderr",
     "output_type": "stream",
     "text": [
      "C:\\Users\\gayat\\AppData\\Local\\Temp\\ipykernel_12568\\3098879301.py:1: SettingWithCopyWarning: \n",
      "A value is trying to be set on a copy of a slice from a DataFrame.\n",
      "Try using .loc[row_indexer,col_indexer] = value instead\n",
      "\n",
      "See the caveats in the documentation: https://pandas.pydata.org/pandas-docs/stable/user_guide/indexing.html#returning-a-view-versus-a-copy\n",
      "  df_job['origin_country'] = df_job['IN05'].fillna(df_job['IN05'])\n",
      "C:\\Users\\gayat\\AppData\\Local\\Temp\\ipykernel_12568\\3098879301.py:2: SettingWithCopyWarning: \n",
      "A value is trying to be set on a copy of a slice from a DataFrame.\n",
      "Try using .loc[row_indexer,col_indexer] = value instead\n",
      "\n",
      "See the caveats in the documentation: https://pandas.pydata.org/pandas-docs/stable/user_guide/indexing.html#returning-a-view-versus-a-copy\n",
      "  df_job['origin_country'] = df_job['origin_country'].fillna(df1['IN08'])\n",
      "C:\\Users\\gayat\\AppData\\Local\\Temp\\ipykernel_12568\\3098879301.py:3: SettingWithCopyWarning: \n",
      "A value is trying to be set on a copy of a slice from a DataFrame.\n",
      "Try using .loc[row_indexer,col_indexer] = value instead\n",
      "\n",
      "See the caveats in the documentation: https://pandas.pydata.org/pandas-docs/stable/user_guide/indexing.html#returning-a-view-versus-a-copy\n",
      "  df_job['origin_country'] = df_job['origin_country'].fillna(df1['IN07'])\n"
     ]
    }
   ],
   "source": [
    "df_job['origin_country'] = df_job['IN05'].fillna(df_job['IN05'])\n",
    "df_job['origin_country'] = df_job['origin_country'].fillna(df1['IN08'])\n",
    "df_job['origin_country'] = df_job['origin_country'].fillna(df1['IN07'])\n",
    "\n",
    "df_job['origin_country'].head()\n",
    "\n",
    "# Check for missing values in variable res_stat\n",
    "print(\"Number of missing values in origin_country:\", df_job['origin_country'].isnull().sum())\n",
    "\n",
    "# Print frequency table\n",
    "print(df_job['origin_country'].value_counts())"
   ]
  },
  {
   "cell_type": "code",
   "execution_count": null,
   "id": "61223f47-5c73-4aec-8e7a-01605d116da0",
   "metadata": {},
   "outputs": [],
   "source": []
  },
  {
   "cell_type": "code",
   "execution_count": null,
   "id": "7ba1e685-cd88-4c43-9a8b-bdca2875c9f5",
   "metadata": {},
   "outputs": [],
   "source": []
  },
  {
   "cell_type": "markdown",
   "id": "54e4df7c-202e-4b30-a57e-0878c97cce3a",
   "metadata": {},
   "source": [
    "### <u> At risk of poverty after social transfers </u>"
   ]
  },
  {
   "cell_type": "markdown",
   "id": "d2f58215-c18f-42ca-8096-eeee6bcdd0dd",
   "metadata": {},
   "source": [
    "<span style=\"color:red\"><b>Keep it as it is:</b></span> Binary.  \n",
    "<span style=\"color:red\"><b>DEAL WITH MISSINGNESS. Gayatri should look for a better variable.</b></span>  \n",
    "**arop**"
   ]
  },
  {
   "cell_type": "markdown",
   "id": "09bbed59-f1ad-468c-920c-3f293055d918",
   "metadata": {},
   "source": []
  },
  {
   "cell_type": "code",
   "execution_count": 30,
   "id": "0c0f8ae8-9ace-44fd-b023-01d90dc58c15",
   "metadata": {},
   "outputs": [
    {
     "name": "stdout",
     "output_type": "stream",
     "text": [
      "Data type of arop: float64\n",
      "Number of missing values in arop: 2700\n",
      "arop\n",
      "1.0    7411\n",
      "0.0    3295\n",
      "Name: count, dtype: int64\n"
     ]
    }
   ],
   "source": [
    "# Print data type of variable arop\n",
    "print(\"Data type of arop:\", df_job['arop'].dtype)\n",
    "\n",
    "# Check for missing values in variable arop\n",
    "print(\"Number of missing values in arop:\", df_job['arop'].isnull().sum())\n",
    "\n",
    "# Print frequency table\n",
    "print(df_job['arop'].value_counts())"
   ]
  },
  {
   "cell_type": "code",
   "execution_count": 31,
   "id": "1b0fc5e5-4dab-46f6-8f18-ca3d9b32b1ef",
   "metadata": {},
   "outputs": [
    {
     "data": {
      "text/plain": [
       "2700"
      ]
     },
     "execution_count": 31,
     "metadata": {},
     "output_type": "execute_result"
    }
   ],
   "source": [
    "# df_job_arop = df_job[df_job['SI03_3_H'] > 8] \n",
    "df_job_arop = df_job[~df_job['origin_country'].isin(['22', '20', '15', '27'])]\n",
    "\n",
    "df_job_arop.head()\n",
    "\n",
    "df_job_arop['arop'].isnull().sum()"
   ]
  },
  {
   "cell_type": "code",
   "execution_count": 43,
   "id": "296c79e8-1ec5-4d03-ab7f-1d0b19e87e0c",
   "metadata": {},
   "outputs": [
    {
     "data": {
      "text/plain": [
       "0"
      ]
     },
     "execution_count": 43,
     "metadata": {},
     "output_type": "execute_result"
    }
   ],
   "source": [
    "# Taking the reference of Macedonia as the country with the lowest minimum wage at 360 euros per month (band 8 in our data)\n",
    "# Define a function to impute 'arop' based on 'SI03_3_H'\n",
    "def impute_arop(row):\n",
    "    if pd.isna(row['arop']):  # Check if 'arop' is missing\n",
    "        if row['SI03_3_H'] >= 8:  # Check if 'SI03_3_H' is greater than or equal to 8\n",
    "            return 0  # Impute 0 for 'arop'\n",
    "        else:\n",
    "            return 1  # Impute 1 for 'arop'\n",
    "    else:\n",
    "        return row['arop']  # Return original value if not missing\n",
    "\n",
    "# Apply the function to impute 'arop'\n",
    "df_job.loc[:, 'arop'] = df_job.apply(impute_arop, axis=1)"
   ]
  },
  {
   "cell_type": "code",
   "execution_count": 44,
   "id": "3ff999c9-77a6-4bc9-88c5-8b65f51996e2",
   "metadata": {},
   "outputs": [
    {
     "name": "stdout",
     "output_type": "stream",
     "text": [
      "Data type of arop: float64\n",
      "Number of missing values in arop: 0\n",
      "arop\n",
      "1.0    7612\n",
      "0.0    5794\n",
      "Name: count, dtype: int64\n"
     ]
    }
   ],
   "source": [
    "# Print data type of variable arop\n",
    "print(\"Data type of arop:\", df_job['arop'].dtype)\n",
    "\n",
    "# Check for missingness again\n",
    "print(\"Number of missing values in arop:\", df_job['arop'].isnull().sum())\n",
    "\n",
    "# Print frequency table\n",
    "print(df_job['arop'].value_counts())"
   ]
  },
  {
   "cell_type": "markdown",
   "id": "9cf04bd0-a7ba-4efd-975f-b9fb125c156c",
   "metadata": {},
   "source": [
    "**Alternatively: Can impute 'arop' values using income + social transfer variables:  \n",
    "SI01_04 Income from education allowance (grants, stipends)  \n",
    "SI01_05 Pensions  \n",
    "SI01_06 Unemployment benefits  \n",
    "SI01_07 Child benefits (including alimonies)  \n",
    "SI01_08 Other social benefits (social assistance, rent support, donations from charity)**  \n",
    "\n",
    "Might cause collinearity issue but since it's 6 different variables + only 2000-ish missing values, maybe that won't be a problem."
   ]
  },
  {
   "cell_type": "code",
   "execution_count": null,
   "id": "2f999b96-3b07-4741-b1a6-ed9f797a3df3",
   "metadata": {},
   "outputs": [],
   "source": []
  },
  {
   "cell_type": "code",
   "execution_count": null,
   "id": "7efa83c3-1cf9-467a-b51d-f31aaae10dd2",
   "metadata": {},
   "outputs": [],
   "source": []
  }
 ],
 "metadata": {
  "kernelspec": {
   "display_name": "Python 3 (ipykernel)",
   "language": "python",
   "name": "python3"
  },
  "language_info": {
   "codemirror_mode": {
    "name": "ipython",
    "version": 3
   },
   "file_extension": ".py",
   "mimetype": "text/x-python",
   "name": "python",
   "nbconvert_exporter": "python",
   "pygments_lexer": "ipython3",
   "version": "3.10.13"
  }
 },
 "nbformat": 4,
 "nbformat_minor": 5
}
