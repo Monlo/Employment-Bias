{
 "cells": [
  {
   "cell_type": "markdown",
   "id": "3cf51d5a-0992-49e5-9c5d-57b7bb8d8d78",
   "metadata": {},
   "source": [
    "### READ ME\n",
    "File created by Leti.  \n",
    "I'm treating the variables contained in the Feature Importance model run in the file \"01_ML\". I treated them in order of importance, except for variables of the same group of questions (e.g.: VH01a_1, VH01a_2, VH01a_3...). Results of how the final variable was put together are marked in red, and so are other observations."
   ]
  },
  {
   "cell_type": "code",
   "execution_count": 2,
   "id": "5f399edd-8c17-49f9-83e2-6b744fdcdbc3",
   "metadata": {},
   "outputs": [],
   "source": [
    "import pandas as pd\n",
    "import numpy as np"
   ]
  },
  {
   "cell_type": "code",
   "execution_count": 3,
   "id": "2ba2c723-28bf-43e1-9621-eae4a5d95016",
   "metadata": {},
   "outputs": [],
   "source": [
    "df_subset_job_seekers = pd.read_pickle('../01_data/df_subset_job_seekers.pkl')"
   ]
  },
  {
   "cell_type": "code",
   "execution_count": 4,
   "id": "b760b261-95f6-4d6e-bbc7-0a87cbbfa7c8",
   "metadata": {},
   "outputs": [
    {
     "data": {
      "text/html": [
       "<div>\n",
       "<style scoped>\n",
       "    .dataframe tbody tr th:only-of-type {\n",
       "        vertical-align: middle;\n",
       "    }\n",
       "\n",
       "    .dataframe tbody tr th {\n",
       "        vertical-align: top;\n",
       "    }\n",
       "\n",
       "    .dataframe thead th {\n",
       "        text-align: right;\n",
       "    }\n",
       "</style>\n",
       "<table border=\"1\" class=\"dataframe\">\n",
       "  <thead>\n",
       "    <tr style=\"text-align: right;\">\n",
       "      <th></th>\n",
       "      <th>country</th>\n",
       "      <th>country2</th>\n",
       "      <th>DEGURBA</th>\n",
       "      <th>IN02</th>\n",
       "      <th>HH02</th>\n",
       "      <th>HH03</th>\n",
       "      <th>HH04</th>\n",
       "      <th>HLS02</th>\n",
       "      <th>RA03_1</th>\n",
       "      <th>RA03_2</th>\n",
       "      <th>...</th>\n",
       "      <th>PB10_2</th>\n",
       "      <th>PB11</th>\n",
       "      <th>S01</th>\n",
       "      <th>SI02</th>\n",
       "      <th>SI06</th>\n",
       "      <th>activ</th>\n",
       "      <th>Encount_police_5y</th>\n",
       "      <th>res_stat</th>\n",
       "      <th>id</th>\n",
       "      <th>arop</th>\n",
       "    </tr>\n",
       "  </thead>\n",
       "  <tbody>\n",
       "    <tr>\n",
       "      <th>0</th>\n",
       "      <td>1.0</td>\n",
       "      <td>1.0</td>\n",
       "      <td>1.0</td>\n",
       "      <td>8.0</td>\n",
       "      <td>37.0</td>\n",
       "      <td>1.0</td>\n",
       "      <td>1.0</td>\n",
       "      <td>4.0</td>\n",
       "      <td>4.0</td>\n",
       "      <td>4.0</td>\n",
       "      <td>...</td>\n",
       "      <td>1.0</td>\n",
       "      <td>3.0</td>\n",
       "      <td>1.0</td>\n",
       "      <td>1.0</td>\n",
       "      <td>3.0</td>\n",
       "      <td>1.0</td>\n",
       "      <td>2.0</td>\n",
       "      <td>3.0</td>\n",
       "      <td>165.0</td>\n",
       "      <td>1.0</td>\n",
       "    </tr>\n",
       "    <tr>\n",
       "      <th>12</th>\n",
       "      <td>1.0</td>\n",
       "      <td>1.0</td>\n",
       "      <td>1.0</td>\n",
       "      <td>8.0</td>\n",
       "      <td>30.0</td>\n",
       "      <td>1.0</td>\n",
       "      <td>1.0</td>\n",
       "      <td>3.0</td>\n",
       "      <td>1.0</td>\n",
       "      <td>2.0</td>\n",
       "      <td>...</td>\n",
       "      <td>1.0</td>\n",
       "      <td>2.0</td>\n",
       "      <td>1.0</td>\n",
       "      <td>1.0</td>\n",
       "      <td>5.0</td>\n",
       "      <td>1.0</td>\n",
       "      <td>2.0</td>\n",
       "      <td>5.0</td>\n",
       "      <td>317.0</td>\n",
       "      <td>0.0</td>\n",
       "    </tr>\n",
       "    <tr>\n",
       "      <th>16</th>\n",
       "      <td>1.0</td>\n",
       "      <td>1.0</td>\n",
       "      <td>1.0</td>\n",
       "      <td>8.0</td>\n",
       "      <td>35.0</td>\n",
       "      <td>1.0</td>\n",
       "      <td>1.0</td>\n",
       "      <td>3.0</td>\n",
       "      <td>4.0</td>\n",
       "      <td>2.0</td>\n",
       "      <td>...</td>\n",
       "      <td>1.0</td>\n",
       "      <td>3.0</td>\n",
       "      <td>1.0</td>\n",
       "      <td>1.0</td>\n",
       "      <td>4.0</td>\n",
       "      <td>1.0</td>\n",
       "      <td>1.0</td>\n",
       "      <td>5.0</td>\n",
       "      <td>321.0</td>\n",
       "      <td>0.0</td>\n",
       "    </tr>\n",
       "    <tr>\n",
       "      <th>17</th>\n",
       "      <td>1.0</td>\n",
       "      <td>1.0</td>\n",
       "      <td>1.0</td>\n",
       "      <td>8.0</td>\n",
       "      <td>42.0</td>\n",
       "      <td>1.0</td>\n",
       "      <td>4.0</td>\n",
       "      <td>3.0</td>\n",
       "      <td>3.0</td>\n",
       "      <td>4.0</td>\n",
       "      <td>...</td>\n",
       "      <td>1.0</td>\n",
       "      <td>3.0</td>\n",
       "      <td>1.0</td>\n",
       "      <td>6.0</td>\n",
       "      <td>1.0</td>\n",
       "      <td>2.0</td>\n",
       "      <td>1.0</td>\n",
       "      <td>3.0</td>\n",
       "      <td>322.0</td>\n",
       "      <td>1.0</td>\n",
       "    </tr>\n",
       "    <tr>\n",
       "      <th>22</th>\n",
       "      <td>1.0</td>\n",
       "      <td>1.0</td>\n",
       "      <td>1.0</td>\n",
       "      <td>8.0</td>\n",
       "      <td>39.0</td>\n",
       "      <td>1.0</td>\n",
       "      <td>5.0</td>\n",
       "      <td>4.0</td>\n",
       "      <td>3.0</td>\n",
       "      <td>3.0</td>\n",
       "      <td>...</td>\n",
       "      <td>2.0</td>\n",
       "      <td>3.0</td>\n",
       "      <td>5.0</td>\n",
       "      <td>9.0</td>\n",
       "      <td>2.0</td>\n",
       "      <td>7.0</td>\n",
       "      <td>2.0</td>\n",
       "      <td>5.0</td>\n",
       "      <td>327.0</td>\n",
       "      <td>1.0</td>\n",
       "    </tr>\n",
       "  </tbody>\n",
       "</table>\n",
       "<p>5 rows × 53 columns</p>\n",
       "</div>"
      ],
      "text/plain": [
       "    country  country2  DEGURBA  IN02  HH02  HH03  HH04  HLS02  RA03_1  RA03_2  \\\n",
       "0       1.0       1.0      1.0   8.0  37.0   1.0   1.0    4.0     4.0     4.0   \n",
       "12      1.0       1.0      1.0   8.0  30.0   1.0   1.0    3.0     1.0     2.0   \n",
       "16      1.0       1.0      1.0   8.0  35.0   1.0   1.0    3.0     4.0     2.0   \n",
       "17      1.0       1.0      1.0   8.0  42.0   1.0   4.0    3.0     3.0     4.0   \n",
       "22      1.0       1.0      1.0   8.0  39.0   1.0   5.0    4.0     3.0     3.0   \n",
       "\n",
       "    ...  PB10_2  PB11  S01  SI02  SI06  activ  Encount_police_5y  res_stat  \\\n",
       "0   ...     1.0   3.0  1.0   1.0   3.0    1.0                2.0       3.0   \n",
       "12  ...     1.0   2.0  1.0   1.0   5.0    1.0                2.0       5.0   \n",
       "16  ...     1.0   3.0  1.0   1.0   4.0    1.0                1.0       5.0   \n",
       "17  ...     1.0   3.0  1.0   6.0   1.0    2.0                1.0       3.0   \n",
       "22  ...     2.0   3.0  5.0   9.0   2.0    7.0                2.0       5.0   \n",
       "\n",
       "       id  arop  \n",
       "0   165.0   1.0  \n",
       "12  317.0   0.0  \n",
       "16  321.0   0.0  \n",
       "17  322.0   1.0  \n",
       "22  327.0   1.0  \n",
       "\n",
       "[5 rows x 53 columns]"
      ]
     },
     "execution_count": 4,
     "metadata": {},
     "output_type": "execute_result"
    }
   ],
   "source": [
    "df_subset_job_seekers.head()"
   ]
  },
  {
   "cell_type": "markdown",
   "id": "34409744-ba6a-4615-a3bb-766616a92fc5",
   "metadata": {},
   "source": [
    "# <u>Frequency of specific experiences of harassment in country in past 5 years <u>    \n",
    "\n",
    "In the past 5 years in [COUNTRY] (or since you have been in [COUNTRY], how many times has somebody...?1: "
   ]
  },
  {
   "cell_type": "markdown",
   "id": "fd644ab3-70c8-42ba-a7ae-e8a94fa1607d",
   "metadata": {},
   "source": [
    "<span style=\"color:red\"><b>New variables:</b></span> Discrete, 0-8. Values 96, 97 and 99 were transformed into 0. Higher number = discrimination lived more times.  \n",
    "<span style=\"color:red\"><b>Observations:</b></span> There might be high correlation between the variables, should we maybe build a single one from this group of variables?"
   ]
  },
  {
   "cell_type": "markdown",
   "id": "a49421aa-c9ba-4a10-a3ec-c14440389938",
   "metadata": {},
   "source": [
    "**VH01a_1:** made offensive or threatening comments to you in person such as insulting you or calling you names?"
   ]
  },
  {
   "cell_type": "code",
   "execution_count": 5,
   "id": "6efbfe6c-f0ed-4eaa-9b73-3bd0ef5d6fe2",
   "metadata": {},
   "outputs": [
    {
     "name": "stdout",
     "output_type": "stream",
     "text": [
      "Data type of VH01a_1: float64\n",
      "Number of missing values in VH01a_1: 0\n",
      "VH01a_1\n",
      "0.0     8499\n",
      "1.0     1082\n",
      "2.0      881\n",
      "7.0      756\n",
      "3.0      593\n",
      "6.0      401\n",
      "5.0      352\n",
      "4.0      300\n",
      "99.0     246\n",
      "8.0      209\n",
      "96.0      76\n",
      "97.0      11\n",
      "Name: count, dtype: int64\n"
     ]
    }
   ],
   "source": [
    "# Print data type of variable VH01a_1\n",
    "print(\"Data type of VH01a_1:\", df_subset_job_seekers['VH01a_1'].dtype)\n",
    "\n",
    "# Check for missing values in variable VH01a_1\n",
    "print(\"Number of missing values in VH01a_1:\", df_subset_job_seekers['VH01a_1'].isnull().sum())\n",
    "\n",
    "# Print frequency table\n",
    "print(df_subset_job_seekers['VH01a_1'].value_counts())"
   ]
  },
  {
   "cell_type": "code",
   "execution_count": 6,
   "id": "110bd997-e196-470e-aefa-4ee6ba3a9b77",
   "metadata": {},
   "outputs": [
    {
     "name": "stdout",
     "output_type": "stream",
     "text": [
      "VH01a_1_mod\n",
      "0.0    8832\n",
      "1.0    1082\n",
      "2.0     881\n",
      "7.0     756\n",
      "3.0     593\n",
      "6.0     401\n",
      "5.0     352\n",
      "4.0     300\n",
      "8.0     209\n",
      "Name: count, dtype: int64\n"
     ]
    }
   ],
   "source": [
    "# Create new variable VH01a_1_mod based on conditions\n",
    "df_subset_job_seekers['VH01a_1_mod'] = df_subset_job_seekers['VH01a_1'].apply(lambda x: 0 if x in [96, 97, 99] else x) ##\n",
    "\n",
    "# Print frequency table\n",
    "print(df_subset_job_seekers['VH01a_1_mod'].value_counts())"
   ]
  },
  {
   "cell_type": "markdown",
   "id": "bd79fb2b-9466-48b6-b16b-b5070aa77b03",
   "metadata": {},
   "source": [
    "**VH01a_2:** threatened you with \n",
    "violence in person?"
   ]
  },
  {
   "cell_type": "code",
   "execution_count": 7,
   "id": "2070aea6-959e-4d61-b50a-7bb4bc36ffc0",
   "metadata": {},
   "outputs": [
    {
     "name": "stdout",
     "output_type": "stream",
     "text": [
      "Data type of VH01a_2: float64\n",
      "Number of missing values in VH01a_2: 0\n",
      "VH01a_2\n",
      "0.0     11580\n",
      "1.0       737\n",
      "2.0       335\n",
      "3.0       203\n",
      "7.0       124\n",
      "5.0        94\n",
      "99.0       84\n",
      "6.0        80\n",
      "4.0        77\n",
      "96.0       53\n",
      "8.0        36\n",
      "97.0        3\n",
      "Name: count, dtype: int64\n"
     ]
    }
   ],
   "source": [
    "# Check data type of variable VH01a_2\n",
    "print(\"Data type of VH01a_2:\", df_subset_job_seekers['VH01a_2'].dtype)\n",
    "\n",
    "# Check for missing values in variable VH01a_2\n",
    "print(\"Number of missing values in VH01a_2:\", df_subset_job_seekers['VH01a_2'].isnull().sum())\n",
    "\n",
    "# Print frequency table\n",
    "print(df_subset_job_seekers['VH01a_2'].value_counts())"
   ]
  },
  {
   "cell_type": "code",
   "execution_count": 9,
   "id": "71107d20-c100-41ef-88a5-c8cfff0bac8a",
   "metadata": {},
   "outputs": [
    {
     "name": "stdout",
     "output_type": "stream",
     "text": [
      "VH01a_2_mod\n",
      "0.0    11720\n",
      "1.0      737\n",
      "2.0      335\n",
      "3.0      203\n",
      "7.0      124\n",
      "5.0       94\n",
      "6.0       80\n",
      "4.0       77\n",
      "8.0       36\n",
      "Name: count, dtype: int64\n"
     ]
    }
   ],
   "source": [
    "# Create new variable VH01a_2_mod based on conditions\n",
    "df_subset_job_seekers['VH01a_2_mod'] = df_subset_job_seekers['VH01a_2'].apply(lambda x: 0 if x in [96, 97, 99] else x) ##\n",
    "\n",
    "# Print frequency table\n",
    "print(df_subset_job_seekers['VH01a_2_mod'].value_counts())"
   ]
  },
  {
   "cell_type": "markdown",
   "id": "affe15d7-03ba-458e-ae69-8eaa56d3369a",
   "metadata": {},
   "source": [
    "**VH01a_3:** made offensive gestures to you or stared at you inappropriately?"
   ]
  },
  {
   "cell_type": "code",
   "execution_count": 10,
   "id": "bec1989e-bea4-4f84-b5b3-877d0c4a54b0",
   "metadata": {},
   "outputs": [
    {
     "name": "stdout",
     "output_type": "stream",
     "text": [
      "Data type of VH01a_3: float64\n",
      "Number of missing values in VH01a_3: 0\n",
      "VH01a_3\n",
      "0.0     8406\n",
      "7.0     1023\n",
      "1.0      766\n",
      "2.0      766\n",
      "3.0      554\n",
      "6.0      466\n",
      "8.0      430\n",
      "5.0      392\n",
      "4.0      277\n",
      "99.0     251\n",
      "96.0      67\n",
      "97.0       8\n",
      "Name: count, dtype: int64\n"
     ]
    }
   ],
   "source": [
    "# Check data type of variable VH01a_3\n",
    "print(\"Data type of VH01a_3:\", df_subset_job_seekers['VH01a_3'].dtype)\n",
    "\n",
    "# Check for missing values in variable VH01a_3\n",
    "print(\"Number of missing values in VH01a_3:\", df_subset_job_seekers['VH01a_3'].isnull().sum())\n",
    "\n",
    "# Print frequency table\n",
    "print(df_subset_job_seekers['VH01a_3'].value_counts())"
   ]
  },
  {
   "cell_type": "code",
   "execution_count": 11,
   "id": "8679d7f8-c224-4fa5-98ea-83df9a8b187d",
   "metadata": {},
   "outputs": [
    {
     "name": "stdout",
     "output_type": "stream",
     "text": [
      "VH01a_3_mod\n",
      "0.0    8732\n",
      "7.0    1023\n",
      "1.0     766\n",
      "2.0     766\n",
      "3.0     554\n",
      "6.0     466\n",
      "8.0     430\n",
      "5.0     392\n",
      "4.0     277\n",
      "Name: count, dtype: int64\n"
     ]
    }
   ],
   "source": [
    "# Create new variable VH01a_3_mod based on conditions\n",
    "df_subset_job_seekers['VH01a_3_mod'] = df_subset_job_seekers['VH01a_3'].apply(lambda x: 0 if x in [96, 97, 99] else x) ##\n",
    "\n",
    "# Print frequency table\n",
    "print(df_subset_job_seekers['VH01a_3_mod'].value_counts())"
   ]
  },
  {
   "cell_type": "markdown",
   "id": "d3ea344a-7758-4d32-8a02-d86be586387b",
   "metadata": {},
   "source": [
    "**VH01a_4:** sent you emails or text \n",
    "messages (SMS) that wer \r\n",
    "offensive or threatening?"
   ]
  },
  {
   "cell_type": "code",
   "execution_count": 12,
   "id": "c9e9611b-2826-497a-bc09-f53adfd93ada",
   "metadata": {},
   "outputs": [
    {
     "name": "stdout",
     "output_type": "stream",
     "text": [
      "Data type of VH01a_4: float64\n",
      "Number of missing values in VH01a_4: 0\n",
      "VH01a_4\n",
      "0.0     12771\n",
      "1.0       172\n",
      "2.0       104\n",
      "99.0       67\n",
      "7.0        67\n",
      "3.0        53\n",
      "97.0       40\n",
      "6.0        35\n",
      "5.0        32\n",
      "96.0       27\n",
      "4.0        23\n",
      "8.0        15\n",
      "Name: count, dtype: int64\n"
     ]
    }
   ],
   "source": [
    "# Check data type of variable VH01a_4\n",
    "print(\"Data type of VH01a_4:\", df_subset_job_seekers['VH01a_4'].dtype)\n",
    "\n",
    "# Check for missing values in variable VH01a_4\n",
    "print(\"Number of missing values in VH01a_4:\", df_subset_job_seekers['VH01a_4'].isnull().sum())\n",
    "\n",
    "# Print frequency table\n",
    "print(df_subset_job_seekers['VH01a_4'].value_counts())"
   ]
  },
  {
   "cell_type": "code",
   "execution_count": 13,
   "id": "ff75d55f-7293-4707-80f1-f98c725108ed",
   "metadata": {},
   "outputs": [
    {
     "name": "stdout",
     "output_type": "stream",
     "text": [
      "VH01a_4_mod\n",
      "0.0    12905\n",
      "1.0      172\n",
      "2.0      104\n",
      "7.0       67\n",
      "3.0       53\n",
      "6.0       35\n",
      "5.0       32\n",
      "4.0       23\n",
      "8.0       15\n",
      "Name: count, dtype: int64\n"
     ]
    }
   ],
   "source": [
    "# Create new variable VH01a_4_mod based on conditions\n",
    "df_subset_job_seekers['VH01a_4_mod'] = df_subset_job_seekers['VH01a_4'].apply(lambda x: 0 if x in [96, 97, 99] else x) ##\n",
    "\n",
    "# Print frequency table\n",
    "print(df_subset_job_seekers['VH01a_4_mod'].value_counts())"
   ]
  },
  {
   "cell_type": "markdown",
   "id": "50a71aae-7137-408b-88b8-6d40041e3590",
   "metadata": {},
   "source": [
    "**VH01a_5:**  posted offensive \n",
    "comments about you o \r\n",
    "the internet, for examp e\r\n",
    "on Facebook or Twitter?]?"
   ]
  },
  {
   "cell_type": "code",
   "execution_count": 14,
   "id": "adcc9b4f-3b70-4540-877d-fca2cfc1bc38",
   "metadata": {},
   "outputs": [
    {
     "name": "stdout",
     "output_type": "stream",
     "text": [
      "Data type of VH01a_5: float64\n",
      "Number of missing values in VH01a_5: 0\n",
      "VH01a_5\n",
      "0.0     12673\n",
      "1.0       147\n",
      "99.0      143\n",
      "7.0        95\n",
      "2.0        86\n",
      "97.0       70\n",
      "3.0        51\n",
      "6.0        40\n",
      "5.0        33\n",
      "8.0        30\n",
      "4.0        20\n",
      "96.0       18\n",
      "Name: count, dtype: int64\n"
     ]
    }
   ],
   "source": [
    "# Check data type of variable VH01a_5\n",
    "print(\"Data type of VH01a_5:\", df_subset_job_seekers['VH01a_5'].dtype)\n",
    "\n",
    "# Check for missing values in variable VH01a_5\n",
    "print(\"Number of missing values in VH01a_5:\", df_subset_job_seekers['VH01a_5'].isnull().sum())\n",
    "\n",
    "# Print frequency table\n",
    "print(df_subset_job_seekers['VH01a_5'].value_counts())"
   ]
  },
  {
   "cell_type": "code",
   "execution_count": 15,
   "id": "d230bd03-4df3-45c6-af08-49c80ac32aa2",
   "metadata": {},
   "outputs": [
    {
     "name": "stdout",
     "output_type": "stream",
     "text": [
      "VH01a_5_mod\n",
      "0.0    12904\n",
      "1.0      147\n",
      "7.0       95\n",
      "2.0       86\n",
      "3.0       51\n",
      "6.0       40\n",
      "5.0       33\n",
      "8.0       30\n",
      "4.0       20\n",
      "Name: count, dtype: int64\n"
     ]
    }
   ],
   "source": [
    "# Create new variable VH01a_5_mod based on conditions\n",
    "df_subset_job_seekers['VH01a_5_mod'] = df_subset_job_seekers['VH01a_5'].apply(lambda x: 0 if x in [96, 97, 99] else x) ##\n",
    "\n",
    "# Print frequency table\n",
    "print(df_subset_job_seekers['VH01a_5_mod'].value_counts())"
   ]
  },
  {
   "cell_type": "markdown",
   "id": "b9707f25-6165-47c9-aee7-833eedd03883",
   "metadata": {},
   "source": [
    "<span style=\"color:red\"><b>Check new variables:</b></span>"
   ]
  },
  {
   "cell_type": "code",
   "execution_count": 16,
   "id": "8cd75e59-0ad2-4f52-b6e0-9f2d8ad55a85",
   "metadata": {},
   "outputs": [
    {
     "data": {
      "text/html": [
       "<div>\n",
       "<style scoped>\n",
       "    .dataframe tbody tr th:only-of-type {\n",
       "        vertical-align: middle;\n",
       "    }\n",
       "\n",
       "    .dataframe tbody tr th {\n",
       "        vertical-align: top;\n",
       "    }\n",
       "\n",
       "    .dataframe thead th {\n",
       "        text-align: right;\n",
       "    }\n",
       "</style>\n",
       "<table border=\"1\" class=\"dataframe\">\n",
       "  <thead>\n",
       "    <tr style=\"text-align: right;\">\n",
       "      <th></th>\n",
       "      <th>VH01a_1_mod</th>\n",
       "      <th>VH01a_1</th>\n",
       "      <th>VH01a_2_mod</th>\n",
       "      <th>VH01a_2</th>\n",
       "      <th>VH01a_3_mod</th>\n",
       "      <th>VH01a_3</th>\n",
       "      <th>VH01a_4_mod</th>\n",
       "      <th>VH01a_4</th>\n",
       "      <th>VH01a_5_mod</th>\n",
       "      <th>VH01a_5</th>\n",
       "    </tr>\n",
       "  </thead>\n",
       "  <tbody>\n",
       "    <tr>\n",
       "      <th>0</th>\n",
       "      <td>2.0</td>\n",
       "      <td>2.0</td>\n",
       "      <td>1.0</td>\n",
       "      <td>1.0</td>\n",
       "      <td>0.0</td>\n",
       "      <td>99.0</td>\n",
       "      <td>0.0</td>\n",
       "      <td>99.0</td>\n",
       "      <td>0.0</td>\n",
       "      <td>99.0</td>\n",
       "    </tr>\n",
       "    <tr>\n",
       "      <th>12</th>\n",
       "      <td>0.0</td>\n",
       "      <td>0.0</td>\n",
       "      <td>0.0</td>\n",
       "      <td>0.0</td>\n",
       "      <td>0.0</td>\n",
       "      <td>0.0</td>\n",
       "      <td>0.0</td>\n",
       "      <td>0.0</td>\n",
       "      <td>0.0</td>\n",
       "      <td>0.0</td>\n",
       "    </tr>\n",
       "    <tr>\n",
       "      <th>16</th>\n",
       "      <td>1.0</td>\n",
       "      <td>1.0</td>\n",
       "      <td>0.0</td>\n",
       "      <td>0.0</td>\n",
       "      <td>0.0</td>\n",
       "      <td>0.0</td>\n",
       "      <td>0.0</td>\n",
       "      <td>0.0</td>\n",
       "      <td>0.0</td>\n",
       "      <td>0.0</td>\n",
       "    </tr>\n",
       "    <tr>\n",
       "      <th>17</th>\n",
       "      <td>7.0</td>\n",
       "      <td>7.0</td>\n",
       "      <td>0.0</td>\n",
       "      <td>0.0</td>\n",
       "      <td>7.0</td>\n",
       "      <td>7.0</td>\n",
       "      <td>0.0</td>\n",
       "      <td>0.0</td>\n",
       "      <td>0.0</td>\n",
       "      <td>0.0</td>\n",
       "    </tr>\n",
       "    <tr>\n",
       "      <th>22</th>\n",
       "      <td>0.0</td>\n",
       "      <td>0.0</td>\n",
       "      <td>0.0</td>\n",
       "      <td>0.0</td>\n",
       "      <td>1.0</td>\n",
       "      <td>1.0</td>\n",
       "      <td>0.0</td>\n",
       "      <td>0.0</td>\n",
       "      <td>0.0</td>\n",
       "      <td>0.0</td>\n",
       "    </tr>\n",
       "    <tr>\n",
       "      <th>23</th>\n",
       "      <td>0.0</td>\n",
       "      <td>0.0</td>\n",
       "      <td>0.0</td>\n",
       "      <td>0.0</td>\n",
       "      <td>6.0</td>\n",
       "      <td>6.0</td>\n",
       "      <td>0.0</td>\n",
       "      <td>0.0</td>\n",
       "      <td>0.0</td>\n",
       "      <td>0.0</td>\n",
       "    </tr>\n",
       "    <tr>\n",
       "      <th>25</th>\n",
       "      <td>6.0</td>\n",
       "      <td>6.0</td>\n",
       "      <td>0.0</td>\n",
       "      <td>0.0</td>\n",
       "      <td>0.0</td>\n",
       "      <td>0.0</td>\n",
       "      <td>0.0</td>\n",
       "      <td>0.0</td>\n",
       "      <td>0.0</td>\n",
       "      <td>0.0</td>\n",
       "    </tr>\n",
       "    <tr>\n",
       "      <th>27</th>\n",
       "      <td>0.0</td>\n",
       "      <td>0.0</td>\n",
       "      <td>0.0</td>\n",
       "      <td>0.0</td>\n",
       "      <td>0.0</td>\n",
       "      <td>0.0</td>\n",
       "      <td>0.0</td>\n",
       "      <td>0.0</td>\n",
       "      <td>0.0</td>\n",
       "      <td>0.0</td>\n",
       "    </tr>\n",
       "    <tr>\n",
       "      <th>30</th>\n",
       "      <td>0.0</td>\n",
       "      <td>0.0</td>\n",
       "      <td>0.0</td>\n",
       "      <td>0.0</td>\n",
       "      <td>0.0</td>\n",
       "      <td>0.0</td>\n",
       "      <td>0.0</td>\n",
       "      <td>0.0</td>\n",
       "      <td>0.0</td>\n",
       "      <td>0.0</td>\n",
       "    </tr>\n",
       "    <tr>\n",
       "      <th>33</th>\n",
       "      <td>6.0</td>\n",
       "      <td>6.0</td>\n",
       "      <td>0.0</td>\n",
       "      <td>0.0</td>\n",
       "      <td>6.0</td>\n",
       "      <td>6.0</td>\n",
       "      <td>0.0</td>\n",
       "      <td>0.0</td>\n",
       "      <td>0.0</td>\n",
       "      <td>0.0</td>\n",
       "    </tr>\n",
       "    <tr>\n",
       "      <th>35</th>\n",
       "      <td>4.0</td>\n",
       "      <td>4.0</td>\n",
       "      <td>0.0</td>\n",
       "      <td>0.0</td>\n",
       "      <td>6.0</td>\n",
       "      <td>6.0</td>\n",
       "      <td>0.0</td>\n",
       "      <td>0.0</td>\n",
       "      <td>0.0</td>\n",
       "      <td>0.0</td>\n",
       "    </tr>\n",
       "    <tr>\n",
       "      <th>38</th>\n",
       "      <td>3.0</td>\n",
       "      <td>3.0</td>\n",
       "      <td>0.0</td>\n",
       "      <td>0.0</td>\n",
       "      <td>7.0</td>\n",
       "      <td>7.0</td>\n",
       "      <td>0.0</td>\n",
       "      <td>0.0</td>\n",
       "      <td>0.0</td>\n",
       "      <td>0.0</td>\n",
       "    </tr>\n",
       "    <tr>\n",
       "      <th>41</th>\n",
       "      <td>2.0</td>\n",
       "      <td>2.0</td>\n",
       "      <td>0.0</td>\n",
       "      <td>0.0</td>\n",
       "      <td>3.0</td>\n",
       "      <td>3.0</td>\n",
       "      <td>0.0</td>\n",
       "      <td>0.0</td>\n",
       "      <td>0.0</td>\n",
       "      <td>0.0</td>\n",
       "    </tr>\n",
       "    <tr>\n",
       "      <th>42</th>\n",
       "      <td>0.0</td>\n",
       "      <td>0.0</td>\n",
       "      <td>0.0</td>\n",
       "      <td>0.0</td>\n",
       "      <td>0.0</td>\n",
       "      <td>0.0</td>\n",
       "      <td>0.0</td>\n",
       "      <td>0.0</td>\n",
       "      <td>0.0</td>\n",
       "      <td>0.0</td>\n",
       "    </tr>\n",
       "    <tr>\n",
       "      <th>44</th>\n",
       "      <td>0.0</td>\n",
       "      <td>0.0</td>\n",
       "      <td>0.0</td>\n",
       "      <td>0.0</td>\n",
       "      <td>0.0</td>\n",
       "      <td>0.0</td>\n",
       "      <td>0.0</td>\n",
       "      <td>0.0</td>\n",
       "      <td>0.0</td>\n",
       "      <td>0.0</td>\n",
       "    </tr>\n",
       "  </tbody>\n",
       "</table>\n",
       "</div>"
      ],
      "text/plain": [
       "    VH01a_1_mod  VH01a_1  VH01a_2_mod  VH01a_2  VH01a_3_mod  VH01a_3  \\\n",
       "0           2.0      2.0          1.0      1.0          0.0     99.0   \n",
       "12          0.0      0.0          0.0      0.0          0.0      0.0   \n",
       "16          1.0      1.0          0.0      0.0          0.0      0.0   \n",
       "17          7.0      7.0          0.0      0.0          7.0      7.0   \n",
       "22          0.0      0.0          0.0      0.0          1.0      1.0   \n",
       "23          0.0      0.0          0.0      0.0          6.0      6.0   \n",
       "25          6.0      6.0          0.0      0.0          0.0      0.0   \n",
       "27          0.0      0.0          0.0      0.0          0.0      0.0   \n",
       "30          0.0      0.0          0.0      0.0          0.0      0.0   \n",
       "33          6.0      6.0          0.0      0.0          6.0      6.0   \n",
       "35          4.0      4.0          0.0      0.0          6.0      6.0   \n",
       "38          3.0      3.0          0.0      0.0          7.0      7.0   \n",
       "41          2.0      2.0          0.0      0.0          3.0      3.0   \n",
       "42          0.0      0.0          0.0      0.0          0.0      0.0   \n",
       "44          0.0      0.0          0.0      0.0          0.0      0.0   \n",
       "\n",
       "    VH01a_4_mod  VH01a_4  VH01a_5_mod  VH01a_5  \n",
       "0           0.0     99.0          0.0     99.0  \n",
       "12          0.0      0.0          0.0      0.0  \n",
       "16          0.0      0.0          0.0      0.0  \n",
       "17          0.0      0.0          0.0      0.0  \n",
       "22          0.0      0.0          0.0      0.0  \n",
       "23          0.0      0.0          0.0      0.0  \n",
       "25          0.0      0.0          0.0      0.0  \n",
       "27          0.0      0.0          0.0      0.0  \n",
       "30          0.0      0.0          0.0      0.0  \n",
       "33          0.0      0.0          0.0      0.0  \n",
       "35          0.0      0.0          0.0      0.0  \n",
       "38          0.0      0.0          0.0      0.0  \n",
       "41          0.0      0.0          0.0      0.0  \n",
       "42          0.0      0.0          0.0      0.0  \n",
       "44          0.0      0.0          0.0      0.0  "
      ]
     },
     "execution_count": 16,
     "metadata": {},
     "output_type": "execute_result"
    }
   ],
   "source": [
    "col_check = ['VH01a_1_mod', 'VH01a_1', 'VH01a_2_mod', 'VH01a_2', 'VH01a_3_mod', 'VH01a_3', 'VH01a_4_mod', 'VH01a_4', 'VH01a_5_mod', 'VH01a_5']\n",
    "df_subset_job_seekers[col_check].head(15)"
   ]
  },
  {
   "cell_type": "markdown",
   "id": "fda1fdab-031c-4ebd-bb13-50f7847fd3bc",
   "metadata": {},
   "source": [
    "### <u>Extent of discrimination on different grounds in country</u>\n",
    "For each of the following types of discrimination, could you please tell me whether, in your \n",
    "opinion, it is very rare, fairly rare, fairly widespread, or very widespread in [COUNTRY]  \n",
    "<span style=\"color:red\"><b>New variables:</b></span> Discrete, 0-4. Values 96, 97, 98 and 99 were transformed into 0. Higher number = discrimination more widespread.  \n",
    "<span style=\"color:red\"><b>Problem (not big):</b></span> No 98 in the codebook for this variable (but it's probably the same as others)."
   ]
  },
  {
   "cell_type": "markdown",
   "id": "9aeeb6f3-6bd8-4c31-8ef4-c01368d553ce",
   "metadata": {},
   "source": [
    "**RA03_1:** Discrimination on the basis of skin colour"
   ]
  },
  {
   "cell_type": "code",
   "execution_count": 17,
   "id": "15968ec9-cc2e-4cce-aa84-c4fe27b4392f",
   "metadata": {},
   "outputs": [
    {
     "name": "stdout",
     "output_type": "stream",
     "text": [
      "Data type of RA03_1: float64\n",
      "Number of missing values in RA03_1: 0\n",
      "RA03_1\n",
      "3.0     3902\n",
      "2.0     3286\n",
      "1.0     3137\n",
      "4.0     1974\n",
      "5.0      908\n",
      "99.0     139\n",
      "98.0      24\n",
      "97.0      18\n",
      "96.0      18\n",
      "Name: count, dtype: int64\n"
     ]
    }
   ],
   "source": [
    "# Print data type of variable RA03_1\n",
    "print(\"Data type of RA03_1:\", df_subset_job_seekers['RA03_1'].dtype)\n",
    "\n",
    "# Check for missing values in variable RA03_1\n",
    "print(\"Number of missing values in RA03_1:\", df_subset_job_seekers['RA03_1'].isnull().sum())\n",
    "\n",
    "# Print frequency table\n",
    "print(df_subset_job_seekers['RA03_1'].value_counts())"
   ]
  },
  {
   "cell_type": "code",
   "execution_count": 18,
   "id": "bcc9fa13-60ae-4705-8cac-9a31e7fed42c",
   "metadata": {},
   "outputs": [
    {
     "name": "stdout",
     "output_type": "stream",
     "text": [
      "RA03_1_mod\n",
      "3.0    3902\n",
      "2.0    3286\n",
      "1.0    3137\n",
      "4.0    1974\n",
      "0.0    1107\n",
      "Name: count, dtype: int64\n"
     ]
    }
   ],
   "source": [
    "# Create new variable RA03_1_mod based on conditions\n",
    "df_subset_job_seekers['RA03_1_mod'] = df_subset_job_seekers['RA03_1'].apply(lambda x: 0 if x in [5, 96, 97, 98, 99] else x)\n",
    "\n",
    "# Print frequency table\n",
    "print(df_subset_job_seekers['RA03_1_mod'].value_counts())"
   ]
  },
  {
   "cell_type": "markdown",
   "id": "01490586-2a2a-4c8b-8d15-b5963a233ff4",
   "metadata": {},
   "source": [
    "**RA03_2:** Discrimination on the basis of ethnic origin or immigrant background"
   ]
  },
  {
   "cell_type": "code",
   "execution_count": 19,
   "id": "8eadd623-3408-4561-82e1-5a4dc57f06c3",
   "metadata": {},
   "outputs": [
    {
     "name": "stdout",
     "output_type": "stream",
     "text": [
      "Data type of RA03_2: float64\n",
      "Number of missing values in RA03_2: 0\n",
      "RA03_2\n",
      "3.0     4211\n",
      "2.0     3170\n",
      "1.0     2771\n",
      "4.0     2262\n",
      "5.0      774\n",
      "99.0     138\n",
      "97.0      40\n",
      "98.0      21\n",
      "96.0      19\n",
      "Name: count, dtype: int64\n"
     ]
    }
   ],
   "source": [
    "# Print data type of variable RA03_2\n",
    "print(\"Data type of RA03_2:\", df_subset_job_seekers['RA03_2'].dtype)\n",
    "\n",
    "# Check for missing values in variable RA03_2\n",
    "print(\"Number of missing values in RA03_2:\", df_subset_job_seekers['RA03_2'].isnull().sum())\n",
    "\n",
    "# Print frequency table\n",
    "print(df_subset_job_seekers['RA03_2'].value_counts())"
   ]
  },
  {
   "cell_type": "code",
   "execution_count": 20,
   "id": "78920cfa-2a58-432c-991d-8560fa8ea4c2",
   "metadata": {},
   "outputs": [
    {
     "name": "stdout",
     "output_type": "stream",
     "text": [
      "RA03_2_mod\n",
      "3.0    4211\n",
      "2.0    3170\n",
      "1.0    2771\n",
      "4.0    2262\n",
      "0.0     992\n",
      "Name: count, dtype: int64\n"
     ]
    }
   ],
   "source": [
    "# Create new variable RA03_2_mod based on conditions\n",
    "df_subset_job_seekers['RA03_2_mod'] = df_subset_job_seekers['RA03_2'].apply(lambda x: 0 if x in [5, 96, 97, 98, 99] else x)\n",
    "\n",
    "# Print frequency table\n",
    "print(df_subset_job_seekers['RA03_2_mod'].value_counts())"
   ]
  },
  {
   "cell_type": "markdown",
   "id": "7de0f9f3-cb60-4a40-a5d4-8c2500852f1e",
   "metadata": {},
   "source": [
    "**RA03_3:** Discrimination on the basis of religion or religious beliefs"
   ]
  },
  {
   "cell_type": "code",
   "execution_count": 76,
   "id": "20494897-7e06-4582-be76-0f9e93a17d0e",
   "metadata": {},
   "outputs": [
    {
     "name": "stdout",
     "output_type": "stream",
     "text": [
      "Data type of RA03_3: float64\n",
      "Number of missing values in RA03_3: 0\n",
      "RA03_3\n",
      "1.0     4187\n",
      "2.0     3006\n",
      "3.0     2593\n",
      "4.0     1845\n",
      "5.0     1390\n",
      "99.0     309\n",
      "97.0      32\n",
      "98.0      25\n",
      "96.0      19\n",
      "Name: count, dtype: int64\n"
     ]
    }
   ],
   "source": [
    "# Print data type of variable RA03_3\n",
    "print(\"Data type of RA03_3:\", df_subset_job_seekers['RA03_3'].dtype)\n",
    "\n",
    "# Check for missing values in variable RA03_2\n",
    "print(\"Number of missing values in RA03_3:\", df_subset_job_seekers['RA03_3'].isnull().sum())\n",
    "\n",
    "# Print frequency table\n",
    "print(df_subset_job_seekers['RA03_3'].value_counts())"
   ]
  },
  {
   "cell_type": "code",
   "execution_count": 77,
   "id": "568ff2f8-b15e-4785-8f14-b49dc0e785a9",
   "metadata": {},
   "outputs": [
    {
     "name": "stdout",
     "output_type": "stream",
     "text": [
      "RA03_3_mod\n",
      "1.0    4187\n",
      "2.0    3006\n",
      "3.0    2593\n",
      "4.0    1845\n",
      "0.0    1775\n",
      "Name: count, dtype: int64\n"
     ]
    }
   ],
   "source": [
    "# Create new variable RA03_3_mod based on conditions\n",
    "df_subset_job_seekers['RA03_3_mod'] = df_subset_job_seekers['RA03_3'].apply(lambda x: 0 if x in [5, 96, 97, 98, 99] else x)\n",
    "\n",
    "# Print frequency table\n",
    "print(df_subset_job_seekers['RA03_3_mod'].value_counts())"
   ]
  },
  {
   "cell_type": "markdown",
   "id": "8266b76d-67c2-4071-b690-6e16a89210d5",
   "metadata": {},
   "source": [
    "### <u>Main source of income of household</u>  \n",
    "And which of these is the main source of income in your household?  \n",
    "**SI02**"
   ]
  },
  {
   "cell_type": "markdown",
   "id": "d6a4fd22-d90f-41c0-99f5-b64e94df4cc1",
   "metadata": {},
   "source": [
    "<span style=\"color:red\"><b>DEAL WITH MISSINGNESS! Wait for Gayatri to see if we can use a different variable.</b></span>"
   ]
  },
  {
   "cell_type": "code",
   "execution_count": 23,
   "id": "905d661e-c570-4db8-b309-85d72b610f8e",
   "metadata": {},
   "outputs": [
    {
     "name": "stdout",
     "output_type": "stream",
     "text": [
      "Data type of SI02: float64\n",
      "Number of missing values in SI02: 3863\n",
      "Number of missing values in SI01: 3863\n",
      "SI02\n",
      "1.0     4958\n",
      "8.0     1212\n",
      "6.0     1003\n",
      "2.0      523\n",
      "3.0      521\n",
      "5.0      421\n",
      "7.0      387\n",
      "4.0      190\n",
      "9.0      148\n",
      "96.0      77\n",
      "99.0      73\n",
      "10.0      16\n",
      "97.0      14\n",
      "Name: count, dtype: int64\n"
     ]
    }
   ],
   "source": [
    "# Print data type of variable SI02\n",
    "print(\"Data type of SI02:\", df_subset_job_seekers['SI02'].dtype)\n",
    "\n",
    "# Check for missing values in variable SI02\n",
    "print(\"Number of missing values in SI02:\", df_subset_job_seekers['SI02'].isnull().sum())\n",
    "print(\"Number of missing values in SI01:\", df_subset_job_seekers['SI02'].isnull().sum())\n",
    "\n",
    "# Print frequency table\n",
    "print(df_subset_job_seekers['SI02'].value_counts())"
   ]
  },
  {
   "cell_type": "code",
   "execution_count": 24,
   "id": "a1c48faf-443a-44cb-a192-54ea3bd49d27",
   "metadata": {},
   "outputs": [
    {
     "name": "stdout",
     "output_type": "stream",
     "text": [
      "SI02_inc_work\n",
      "0    7404\n",
      "1    6002\n",
      "Name: count, dtype: int64\n",
      "SI02_inc_ben\n",
      "0    10193\n",
      "1     3213\n",
      "Name: count, dtype: int64\n"
     ]
    }
   ],
   "source": [
    "# Create new variables SI02_inc_work and SI02_inc_ben based on conditions\n",
    "df_subset_job_seekers['SI02_inc_work'] = df_subset_job_seekers['SI02'].apply(lambda x: 1 if x in [1, 2, 3] else 0) # salary, self-employement or occasional work\n",
    "df_subset_job_seekers['SI02_inc_ben'] = df_subset_job_seekers['SI02'].apply(lambda x: 1 if x in [4, 5, 6, 7, 8] else 0) # education allowance, pensions, unemployment benefits, child benefits, other social benefits\n",
    "\n",
    "# Print frequency table\n",
    "print(df_subset_job_seekers['SI02_inc_work'].value_counts())\n",
    "print(df_subset_job_seekers['SI02_inc_ben'].value_counts())"
   ]
  },
  {
   "cell_type": "markdown",
   "id": "4416890b-c0cb-4e1e-b13e-648a7a0f1d5a",
   "metadata": {},
   "source": [
    "### <u> Ability of household to make ends meet </u>  \n",
    "\n",
    "<span style=\"color:red\"><b>New variable:</b></span> Binary.  \n",
    "**SI06:** Thinking of your household’s total income, is your household able to make ends meet?  "
   ]
  },
  {
   "cell_type": "code",
   "execution_count": 25,
   "id": "037a07bc-6e31-4267-9e7c-2f247930e16e",
   "metadata": {},
   "outputs": [
    {
     "name": "stdout",
     "output_type": "stream",
     "text": [
      "Data type of SI06: float64\n",
      "Number of missing values in SI06: 0\n",
      "SI06\n",
      "1.0     3934\n",
      "3.0     3192\n",
      "2.0     2776\n",
      "4.0     2102\n",
      "5.0      945\n",
      "6.0      262\n",
      "96.0      95\n",
      "99.0      93\n",
      "97.0       7\n",
      "Name: count, dtype: int64\n"
     ]
    }
   ],
   "source": [
    "# Print data type of variable SI06\n",
    "print(\"Data type of SI06:\", df_subset_job_seekers['SI06'].dtype)\n",
    "\n",
    "# Check for missing values in variable SI06\n",
    "print(\"Number of missing values in SI06:\", df_subset_job_seekers['SI06'].isnull().sum())\n",
    "\n",
    "# Print frequency table\n",
    "print(df_subset_job_seekers['SI06'].value_counts())"
   ]
  },
  {
   "cell_type": "code",
   "execution_count": 26,
   "id": "e3beb4f4-fe0a-4157-941a-08b19278dfda",
   "metadata": {},
   "outputs": [
    {
     "name": "stdout",
     "output_type": "stream",
     "text": [
      "SI06_mod\n",
      "0    10097\n",
      "1     3309\n",
      "Name: count, dtype: int64\n"
     ]
    }
   ],
   "source": [
    "# Create new variable SI06_mod based on conditions\n",
    "df_subset_job_seekers['SI06_mod'] = df_subset_job_seekers['SI06'].apply(lambda x: 1 if x >= 4 and x <= 6 else 0) # fairly easily, easily or very easily\n",
    "\n",
    "# Print frequency table\n",
    "print(df_subset_job_seekers['SI06_mod'].value_counts())"
   ]
  },
  {
   "cell_type": "markdown",
   "id": "565170cc-0531-4fec-80d9-c54aab72d73a",
   "metadata": {},
   "source": [
    "### <u>Housing tenure</u>  \n",
    "<span style=\"color:red\"><b>New variable:</b></span> Binary.  \n",
    "**HLS02:** Do you own or rent your accommodation?"
   ]
  },
  {
   "cell_type": "code",
   "execution_count": 27,
   "id": "244f216f-0d1d-436f-9c62-66283febf421",
   "metadata": {},
   "outputs": [
    {
     "name": "stdout",
     "output_type": "stream",
     "text": [
      "Data type of HLS02: float64\n",
      "Number of missing values in HLS02: 2\n",
      "HLS02\n",
      "4.0     4212\n",
      "3.0     4188\n",
      "1.0     2667\n",
      "2.0     1048\n",
      "5.0      985\n",
      "6.0      178\n",
      "96.0      84\n",
      "99.0      39\n",
      "97.0       3\n",
      "Name: count, dtype: int64\n"
     ]
    }
   ],
   "source": [
    "# Print data type of variable HLS02\n",
    "print(\"Data type of HLS02:\", df_subset_job_seekers['HLS02'].dtype)\n",
    "\n",
    "# Check for missing values in variable HLS02\n",
    "print(\"Number of missing values in HLS02:\", df_subset_job_seekers['HLS02'].isnull().sum())\n",
    "\n",
    "# Print frequency table\n",
    "print(df_subset_job_seekers['HLS02'].value_counts())"
   ]
  },
  {
   "cell_type": "code",
   "execution_count": 28,
   "id": "57568dc6-bdbf-408f-91ab-61b8a14fcf0a",
   "metadata": {},
   "outputs": [
    {
     "name": "stdout",
     "output_type": "stream",
     "text": [
      "HLS02_mod\n",
      "0    9691\n",
      "1    3715\n",
      "Name: count, dtype: int64\n"
     ]
    }
   ],
   "source": [
    "# Create new variable HLS02_mod based on conditions\n",
    "df_subset_job_seekers['HLS02_mod'] = df_subset_job_seekers['HLS02'].apply(lambda x: 1 if x == 1 or x == 2 else 0) # own with or without mortgage\n",
    "\n",
    "# Print frequency table\n",
    "print(df_subset_job_seekers['HLS02_mod'].value_counts())"
   ]
  },
  {
   "cell_type": "markdown",
   "id": "6dafb28a-1865-4fc6-b47f-ee5d779d4f6a",
   "metadata": {},
   "source": [
    "### <u>Subjective assessment of own health condition</u>  \n",
    "<span style=\"color:red\"><b>New variable:</b></span> Discrete, 0-5. Values 96, 97 and 99 were transformed into 0. Higher number = better health.  \n",
    "**DHE01:** How is your health in general? Is it…  "
   ]
  },
  {
   "cell_type": "code",
   "execution_count": 29,
   "id": "6b7f92c2-9159-4bb5-b872-5e31f64d5689",
   "metadata": {},
   "outputs": [
    {
     "name": "stdout",
     "output_type": "stream",
     "text": [
      "Data type of DHE01: float64\n",
      "Number of missing values in DHE01: 0\n",
      "DHE01\n",
      "1.0     5642\n",
      "2.0     5230\n",
      "3.0     1807\n",
      "4.0      596\n",
      "5.0      120\n",
      "96.0       7\n",
      "99.0       3\n",
      "97.0       1\n",
      "Name: count, dtype: int64\n"
     ]
    }
   ],
   "source": [
    "# Print data type of variable DHE01\n",
    "print(\"Data type of DHE01:\", df_subset_job_seekers['DHE01'].dtype)\n",
    "\n",
    "# Check for missing values in variable DHE01\n",
    "print(\"Number of missing values in DHE01:\", df_subset_job_seekers['DHE01'].isnull().sum())\n",
    "\n",
    "# Print frequency table\n",
    "print(df_subset_job_seekers['DHE01'].value_counts())"
   ]
  },
  {
   "cell_type": "code",
   "execution_count": 30,
   "id": "18845fb3-82fd-4793-ae48-a76ab5d7514f",
   "metadata": {},
   "outputs": [
    {
     "name": "stdout",
     "output_type": "stream",
     "text": [
      "DHE01_mod\n",
      "5.0    5642\n",
      "4.0    5230\n",
      "3.0    1807\n",
      "2.0     596\n",
      "1.0     120\n",
      "0.0      11\n",
      "Name: count, dtype: int64\n"
     ]
    }
   ],
   "source": [
    "# Define the mapping dictionary for the new variable\n",
    "map_DHE01 = {96: 0, 97: 0, 99: 0, 1: 5, 5: 1, 2: 4, 4: 2}\n",
    "\n",
    "# Create new variable DHE01_mod based on the mapping\n",
    "df_subset_job_seekers['DHE01_mod'] = df_subset_job_seekers['DHE01'].map(map_DHE01).fillna(df_subset_job_seekers['DHE01'])\n",
    "print(df_subset_job_seekers['DHE01_mod'].value_counts())\n",
    "# Growing from non-existing answer (0) and very bad health (1) to very good health (5)"
   ]
  },
  {
   "cell_type": "markdown",
   "id": "4689b933-e9c4-41b9-a9ed-76b7f48cc5f2",
   "metadata": {},
   "source": [
    "### <u>Ethnic or immigrant background of residents of neighbourhood</u>  \n",
    "<span style=\"color:red\"><b>New variable:</b></span> Binary. Is the majority of your neighbourhood from the same ethnic background as you? Yes or no.  \n",
    "**PB11:** In the neighbourhood where you live, how many of the residents would you say are of the same: [TAILORED TO TARGET GROUP CATEGORIES ethnic or immigrant background / Roma background / ethnic minority background] as you: all of the residents, most of them, some or none of them?"
   ]
  },
  {
   "cell_type": "code",
   "execution_count": 31,
   "id": "3ceae9ca-ea34-47ee-9028-443c92edd085",
   "metadata": {},
   "outputs": [
    {
     "name": "stdout",
     "output_type": "stream",
     "text": [
      "Data type of PB11: float64\n",
      "Number of missing values in PB11: 0\n",
      "PB11\n",
      "3.0     6624\n",
      "2.0     4482\n",
      "1.0     1304\n",
      "4.0      671\n",
      "99.0     288\n",
      "97.0      20\n",
      "96.0      17\n",
      "Name: count, dtype: int64\n"
     ]
    }
   ],
   "source": [
    "# Print data type of variable PB11\n",
    "print(\"Data type of PB11:\", df_subset_job_seekers['PB11'].dtype)\n",
    "\n",
    "# Check for missing values in variable PB11\n",
    "print(\"Number of missing values in PB11:\", df_subset_job_seekers['PB11'].isnull().sum())\n",
    "\n",
    "# Print frequency table\n",
    "print(df_subset_job_seekers['PB11'].value_counts())"
   ]
  },
  {
   "cell_type": "code",
   "execution_count": 32,
   "id": "14f220fc-7143-4338-97ec-61aee7ee88e8",
   "metadata": {},
   "outputs": [
    {
     "name": "stdout",
     "output_type": "stream",
     "text": [
      "PB11_mod\n",
      "0    7620\n",
      "1    5786\n",
      "Name: count, dtype: int64\n"
     ]
    }
   ],
   "source": [
    "# New variable: is the majority of your neighbourhood from the same ethnic background as you?\n",
    "# Create new variable PB11_mod based on conditions\n",
    "df_subset_job_seekers['PB11_mod'] = df_subset_job_seekers['PB11'].apply(lambda x: 1 if x == 1 or x == 2 else 0) # all or most of the neighbourhood\n",
    "\n",
    "# Print frequency table\n",
    "print(df_subset_job_seekers['PB11_mod'].value_counts())"
   ]
  },
  {
   "cell_type": "code",
   "execution_count": 33,
   "id": "48685614-c6aa-4c38-84b6-18ac556d4c76",
   "metadata": {},
   "outputs": [],
   "source": [
    "## UNUSED ##\n",
    "# New variable 2: is your neighbourhood of mixed ethnicity?\n",
    "# Create new variable PB11_mod2 based on conditions\n",
    "# df_subset_job_seekers['PB11_mod2'] = df_subset_job_seekers['PB11'].apply(lambda x: 1 if x == 2 or x == 3 else 0) # all or most of the neighbourhood\n",
    "\n",
    "# Print frequency table\n",
    "# print(df_subset_job_seekers['PB11_mod2'].value_counts())"
   ]
  },
  {
   "attachments": {},
   "cell_type": "markdown",
   "id": "870508b7-0108-416b-9540-2d9f30bd809f",
   "metadata": {},
   "source": [
    "### <u>Employment situation</u>  \n",
    "\n",
    "<span style=\"color:red\"><b>New variables:</b></span> Binaries. Employed or nor, student or not.  \n",
    "<span style=\"color:red\"><b>Observations:</b></span> Almost the same info as variable 'activ'. I'm keeping this one because I can separate who is a student. Also important to note I'm considering military a job, even though in the other variable it's considered \"inactive\".  \n",
    "**HH04:** Employment situation  \n",
    "1\temployed  \r\n",
    "2\tunemploy   d\r\n",
    "3\tnot working due to illness or disabi   y \r\n",
    "4\tdomestiow   rk \r\n",
    "6et    ired\r\n",
    "7\tother inactive (education, military service, her)\r\n"
   ]
  },
  {
   "cell_type": "code",
   "execution_count": 34,
   "id": "6c09e59e-7e09-4ffe-a30d-acb9ca4cf6c4",
   "metadata": {},
   "outputs": [
    {
     "name": "stdout",
     "output_type": "stream",
     "text": [
      "Data type of HH04: float64\n",
      "Number of missing values in HH04: 0\n",
      "HH04\n",
      "1.0     5155\n",
      "4.0     4861\n",
      "5.0     1213\n",
      "7.0      959\n",
      "2.0      540\n",
      "8.0      215\n",
      "10.0     194\n",
      "6.0      193\n",
      "3.0       33\n",
      "9.0       20\n",
      "96.0      20\n",
      "99.0       2\n",
      "97.0       1\n",
      "Name: count, dtype: int64\n"
     ]
    }
   ],
   "source": [
    "# Print data type of variable HH04\n",
    "print(\"Data type of HH04:\", df_subset_job_seekers['HH04'].dtype)\n",
    "\n",
    "# Check for missing values in variable HH04\n",
    "print(\"Number of missing values in HH04:\", df_subset_job_seekers['HH04'].isnull().sum())\n",
    "\n",
    "# Print frequency table\n",
    "print(df_subset_job_seekers['HH04'].value_counts())"
   ]
  },
  {
   "cell_type": "code",
   "execution_count": 35,
   "id": "2d16d812-c5dc-4851-846f-6a8b9fe15d79",
   "metadata": {},
   "outputs": [
    {
     "name": "stdout",
     "output_type": "stream",
     "text": [
      "Frequency table for HH04_empl:\n",
      "HH04_empl\n",
      "0    7691\n",
      "1    5715\n",
      "Name: count, dtype: int64\n",
      "\n",
      "Frequency table for HH04_stud:\n",
      "HH04_stud\n",
      "0    12193\n",
      "1     1213\n",
      "Name: count, dtype: int64\n"
     ]
    }
   ],
   "source": [
    "# Create new variables HH04_empl and HH04_stud based on conditions\n",
    "df_subset_job_seekers['HH04_empl'] = df_subset_job_seekers['HH04'].apply(lambda x: 1 if x in [1, 2, 9] else 0) # employed, self-employed or military\n",
    "df_subset_job_seekers['HH04_stud'] = np.where(df_subset_job_seekers['HH04'] == 5, 1, 0) # student\n",
    "\n",
    "# Print frequency table for HH04_empl\n",
    "print(\"Frequency table for HH04_empl:\")\n",
    "print(df_subset_job_seekers['HH04_empl'].value_counts())\n",
    "\n",
    "# Print frequency table for HH04_stud\n",
    "print(\"\\nFrequency table for HH04_stud:\")\n",
    "print(df_subset_job_seekers['HH04_stud'].value_counts())"
   ]
  },
  {
   "cell_type": "markdown",
   "id": "5d97ffc6-2b19-4f97-9997-804163a58649",
   "metadata": {},
   "source": [
    "### <u> Awareness of experiences of violence among friends and family because of ethnic minority background in past 12 months </u>  \n",
    "And in the past 12 months, have you heard of anyone in your circle of family or friends being…  \n",
    "\n",
    "**VV10_1:** insulted or called names because of their [TAILORED TO TARGET GROUP CATEGORIES ethnic or immigrant background / Roma background / ethnic minority background]?"
   ]
  },
  {
   "cell_type": "code",
   "execution_count": 36,
   "id": "2068e21d-901c-44a2-8712-924ec967ce16",
   "metadata": {},
   "outputs": [
    {
     "name": "stdout",
     "output_type": "stream",
     "text": [
      "Data type of VV10_1: float64\n",
      "Number of missing values in VV10_1: 0\n",
      "VV10_1\n",
      "2.0     8833\n",
      "1.0     4194\n",
      "99.0     291\n",
      "96.0      43\n",
      "98.0      37\n",
      "97.0       8\n",
      "Name: count, dtype: int64\n"
     ]
    }
   ],
   "source": [
    "# Print data type of variable VV10_1\n",
    "print(\"Data type of VV10_1:\", df_subset_job_seekers['VV10_1'].dtype)\n",
    "\n",
    "# Check for missing values in variable VV10_1\n",
    "print(\"Number of missing values in VV10_1:\", df_subset_job_seekers['VV10_1'].isnull().sum())\n",
    "\n",
    "# Print frequency table\n",
    "print(df_subset_job_seekers['VV10_1'].value_counts())"
   ]
  },
  {
   "cell_type": "code",
   "execution_count": 37,
   "id": "4f9a1da4-74a0-4a8d-9e8d-0c79ad9be309",
   "metadata": {},
   "outputs": [
    {
     "name": "stdout",
     "output_type": "stream",
     "text": [
      "Frequency table for VV10_1_mod:\n",
      "VV10_1_mod\n",
      "0    9212\n",
      "1    4194\n",
      "Name: count, dtype: int64\n"
     ]
    }
   ],
   "source": [
    "# Create new variable VV10_1_mod based on conditions\n",
    "df_subset_job_seekers['VV10_1_mod'] = df_subset_job_seekers['VV10_1'].apply(lambda x: 1 if x in [1] else 0)\n",
    "\n",
    "# Print frequency table\n",
    "print(\"Frequency table for VV10_1_mod:\")\n",
    "print(df_subset_job_seekers['VV10_1_mod'].value_counts())"
   ]
  },
  {
   "cell_type": "markdown",
   "id": "68fb6dd1-d7ef-414b-9e93-41b3a0d3ab7e",
   "metadata": {},
   "source": [
    "### <u> Residence / citizenship status </u>  \n",
    "\n",
    "<span style=\"color:red\"><b>New variable:</b></span> Binary. From EU or not.  \n",
    "<span style=\"color:red\"><b>Wait for Gayatri to see if we can use a different variable.</b></span>  \n",
    "**res_stat:** Residence / citizenship status  \n",
    "1\tNational citizen  \n",
    "2\tEU citizen, but not national  \n",
    "3\tUnlimited residence permit  \n",
    "4\tLimited residence permit, valid for more than 5 years  \n",
    "5\tLimited residence permit, valid for less than 5 years  \n",
    "6\tNo residence permit  \n",
    "99\tOther (e.g. currently renewing, don't know)"
   ]
  },
  {
   "cell_type": "code",
   "execution_count": 38,
   "id": "c7a803e4-b0d0-4221-9c28-cd9ec7b1a44c",
   "metadata": {},
   "outputs": [
    {
     "name": "stdout",
     "output_type": "stream",
     "text": [
      "Data type of res_stat: float64\n",
      "Number of missing values in res_stat: 3987\n",
      "res_stat\n",
      "1.0     4196\n",
      "5.0     2299\n",
      "3.0     1417\n",
      "99.0     629\n",
      "6.0      366\n",
      "2.0      288\n",
      "4.0      224\n",
      "Name: count, dtype: int64\n"
     ]
    }
   ],
   "source": [
    "# Print data type of variable res_stat\n",
    "print(\"Data type of res_stat:\", df_subset_job_seekers['res_stat'].dtype)\n",
    "\n",
    "# Check for missing values in variable res_stat\n",
    "print(\"Number of missing values in res_stat:\", df_subset_job_seekers['res_stat'].isnull().sum())\n",
    "\n",
    "# Print frequency table\n",
    "print(df_subset_job_seekers['res_stat'].value_counts())"
   ]
  },
  {
   "cell_type": "markdown",
   "id": "d932e9e3-2886-4789-a90b-1daab61e7e63",
   "metadata": {},
   "source": [
    "### <u> Target group (derived from country of origin or self-identification) </u>  \n",
    "\n",
    "<span style=\"color:red\"><b>Keep it as a categorical variable.</b></span>  \n",
    "**IN02**  \n",
    "1\tAsians and their descendants  \n",
    "2\tImmigrants from  Turkey and their descendants  \n",
    "3\tImmigrants from North Africa and their descendants  \n",
    "4\tRecent immigrants  \n",
    "5\tRoma  \n",
    "6\tRussian  \n",
    "7\tSouth Asians and their descendants  \n",
    "8\tSub-Saharans and people of African descent"
   ]
  },
  {
   "cell_type": "code",
   "execution_count": 39,
   "id": "434f67e3-5bfa-412d-bf07-fb9e95ddc252",
   "metadata": {},
   "outputs": [
    {
     "name": "stdout",
     "output_type": "stream",
     "text": [
      "Data type of IN02: float64\n",
      "Number of missing values in IN02: 0\n",
      "IN02\n",
      "5.0    3987\n",
      "8.0    3732\n",
      "3.0    2192\n",
      "2.0    1688\n",
      "7.0     914\n",
      "4.0     439\n",
      "6.0     350\n",
      "1.0     104\n",
      "Name: count, dtype: int64\n"
     ]
    }
   ],
   "source": [
    "# Print data type of variable IN02\n",
    "print(\"Data type of IN02:\", df_subset_job_seekers['IN02'].dtype)\n",
    "\n",
    "# Check for missing values in variable IN02\n",
    "print(\"Number of missing values in IN02:\", df_subset_job_seekers['IN02'].isnull().sum())\n",
    "\n",
    "# Print frequency table\n",
    "print(df_subset_job_seekers['IN02'].value_counts())"
   ]
  },
  {
   "attachments": {},
   "cell_type": "markdown",
   "id": "7ace496a-53f0-4b78-a0e3-f71d090387e1",
   "metadata": {},
   "source": [
    "### <u> Current marrital status </u>  \n",
    "\n",
    "<span style=\"color:red\"><b>New variable:</b></span> Binary. Married or not. Values 96, 97 and 99 were added to zero.  \n",
    "**S01:** What is your current marital status?    "
   ]
  },
  {
   "cell_type": "code",
   "execution_count": 40,
   "id": "37cb8fd4-a5aa-4008-a62d-30f08e208a53",
   "metadata": {},
   "outputs": [
    {
     "name": "stdout",
     "output_type": "stream",
     "text": [
      "Data type of S01: float64\n",
      "Number of missing values in S01: 0\n",
      "S01\n",
      "1.0     6728\n",
      "5.0     5124\n",
      "3.0      792\n",
      "2.0      392\n",
      "4.0      264\n",
      "96.0      91\n",
      "99.0       9\n",
      "97.0       6\n",
      "Name: count, dtype: int64\n"
     ]
    }
   ],
   "source": [
    "# Print data type of variable S01\n",
    "print(\"Data type of S01:\", df_subset_job_seekers['S01'].dtype)\n",
    "\n",
    "# Check for missing values in variable S01\n",
    "print(\"Number of missing values in S01:\", df_subset_job_seekers['S01'].isnull().sum())\n",
    "\n",
    "# Print frequency table\n",
    "print(df_subset_job_seekers['S01'].value_counts())"
   ]
  },
  {
   "cell_type": "code",
   "execution_count": 41,
   "id": "87148fde-31d2-4b18-9329-39b227056514",
   "metadata": {},
   "outputs": [
    {
     "name": "stdout",
     "output_type": "stream",
     "text": [
      "S01_mod\n",
      "1    6728\n",
      "0    6678\n",
      "Name: count, dtype: int64\n"
     ]
    }
   ],
   "source": [
    "# Create new variable S01_mod based on condition\n",
    "df_subset_job_seekers['S01_mod'] = np.where(df_subset_job_seekers['S01'] == 1, 1, 0)\n",
    "\n",
    "# Print frequency table\n",
    "print(df_subset_job_seekers['S01_mod'].value_counts())"
   ]
  },
  {
   "cell_type": "markdown",
   "id": "62c3d406-2dda-4f3b-b608-e382ceba19ee",
   "metadata": {},
   "source": [
    "### <u> Religion </u>  \n",
    "\n",
    "<span style=\"color:red\"><b>Keep it as a categorial variable. New variable: </b></span> Categorical, but 96, 97 and 99 were added to zero.  \n",
    "<span style=\"color:red\"><b>Observations: </b></span> We don't really have all the religions in the answers, kinda weird variable.  \n",
    "**PB01:** What is your religion?"
   ]
  },
  {
   "cell_type": "code",
   "execution_count": 42,
   "id": "9bfa8627-cb9e-43e2-997d-97c60a11ea37",
   "metadata": {},
   "outputs": [
    {
     "name": "stdout",
     "output_type": "stream",
     "text": [
      "Data type of PB01: float64\n",
      "Number of missing values in PB01: 0\n",
      "PB01\n",
      "2.0     6384\n",
      "1.0     5528\n",
      "0.0     1095\n",
      "99.0     399\n",
      "Name: count, dtype: int64\n"
     ]
    }
   ],
   "source": [
    "# Print data type of variable PB01\n",
    "print(\"Data type of PB01:\", df_subset_job_seekers['PB01'].dtype)\n",
    "\n",
    "# Check for missing values in variable PB01\n",
    "print(\"Number of missing values in PB01:\", df_subset_job_seekers['PB01'].isnull().sum())\n",
    "\n",
    "# Print frequency table\n",
    "print(df_subset_job_seekers['PB01'].value_counts())"
   ]
  },
  {
   "cell_type": "code",
   "execution_count": 43,
   "id": "4d02788a-178a-4a17-beab-b41a250dc394",
   "metadata": {},
   "outputs": [
    {
     "name": "stdout",
     "output_type": "stream",
     "text": [
      "PB01_mod\n",
      "2.0    6384\n",
      "1.0    5528\n",
      "0.0    1494\n",
      "Name: count, dtype: int64\n"
     ]
    }
   ],
   "source": [
    "# Create new variable PB01_mod based on conditions\n",
    "df_subset_job_seekers['PB01_mod'] = df_subset_job_seekers['PB01'].apply(lambda x: 0 if x in [96, 97, 99] else x)\n",
    "\n",
    "# Print frequency table\n",
    "print(df_subset_job_seekers['PB01_mod'].value_counts())"
   ]
  },
  {
   "cell_type": "markdown",
   "id": "7bea2ecc-3e07-4cfb-8d54-b2e46c185213",
   "metadata": {},
   "source": [
    "### <u> Degree of urbanisation </u>  \n",
    "\n",
    "<span style=\"color:red\"><b>New variable:</b></span> Discrete. Higher number = more urbanization.  \n",
    "**DEGURBA** (original)  \n",
    "1\tDensely populated area  \n",
    "2\tIntermediate density area  \n",
    "3\tThinly populated area  \n",
    "-2\tNot on route"
   ]
  },
  {
   "cell_type": "code",
   "execution_count": 44,
   "id": "8c419156-f0ef-4b50-a3ae-16951f6be32f",
   "metadata": {},
   "outputs": [
    {
     "name": "stdout",
     "output_type": "stream",
     "text": [
      "Data type of DEGURBA: float64\n",
      "Number of missing values in DEGURBA: 0\n",
      "DEGURBA\n",
      "1.0    8233\n",
      "2.0    2789\n",
      "3.0    2384\n",
      "Name: count, dtype: int64\n"
     ]
    }
   ],
   "source": [
    "# Print data type of variable DEGURBA\n",
    "print(\"Data type of DEGURBA:\", df_subset_job_seekers['DEGURBA'].dtype)\n",
    "\n",
    "# Check for missing values in variable DEGURBA\n",
    "print(\"Number of missing values in DEGURBA:\", df_subset_job_seekers['DEGURBA'].isnull().sum())\n",
    "\n",
    "# Print frequency table\n",
    "print(df_subset_job_seekers['DEGURBA'].value_counts())"
   ]
  },
  {
   "cell_type": "code",
   "execution_count": 45,
   "id": "ba81e67d-772f-49c3-b712-33f18c1171c3",
   "metadata": {},
   "outputs": [
    {
     "name": "stdout",
     "output_type": "stream",
     "text": [
      "DEGURBA_mod\n",
      "3.0    8233\n",
      "2.0    2789\n",
      "1.0    2384\n",
      "Name: count, dtype: int64\n"
     ]
    }
   ],
   "source": [
    "# Define the mapping dictionary for the new variable\n",
    "map_DEGURBA = {1:3, 3:1}\n",
    "\n",
    "# Create new variable DEGURBA_mod based on the mapping\n",
    "df_subset_job_seekers['DEGURBA_mod'] = df_subset_job_seekers['DEGURBA'].map(map_DEGURBA).fillna(df_subset_job_seekers['DEGURBA'])\n",
    "print(df_subset_job_seekers['DEGURBA_mod'].value_counts())"
   ]
  },
  {
   "cell_type": "markdown",
   "id": "24ef8bc4-54ec-42c1-abdd-9a96bf75c369",
   "metadata": {},
   "source": [
    "### <u> Awareness of support organisations in country </u>"
   ]
  },
  {
   "cell_type": "markdown",
   "id": "6d05c9c5-2858-4a6e-842e-f33ae6558c0b",
   "metadata": {},
   "source": [
    "<span style=\"color:red\"><b>New variable:</b></span> Binary. Knows or doesn't know. Values 96, 97 and 99 were added to zero.  \n",
    "<span style=\"color:red\"><b>Observations:</b></span> I'm not convinced this variable is important.  \n",
    "**RA04:** Do you know of any organisations in [COUNTRY] that offer support or advice to people who have been discriminated against – for whatever reason?"
   ]
  },
  {
   "cell_type": "code",
   "execution_count": 46,
   "id": "6f0da5cd-3017-4704-8cff-d1d0da685348",
   "metadata": {},
   "outputs": [
    {
     "name": "stdout",
     "output_type": "stream",
     "text": [
      "Data type of RA04: float64\n",
      "Number of missing values in RA04: 0\n",
      "RA04\n",
      "2.0     10103\n",
      "1.0      2903\n",
      "99.0      348\n",
      "97.0       39\n",
      "96.0       13\n",
      "Name: count, dtype: int64\n"
     ]
    }
   ],
   "source": [
    "# Print data type of variable RA04\n",
    "print(\"Data type of RA04:\", df_subset_job_seekers['RA04'].dtype)\n",
    "\n",
    "# Check for missing values in variable RA04\n",
    "print(\"Number of missing values in RA04:\", df_subset_job_seekers['RA04'].isnull().sum())\n",
    "\n",
    "# Print frequency table\n",
    "print(df_subset_job_seekers['RA04'].value_counts())"
   ]
  },
  {
   "cell_type": "code",
   "execution_count": 47,
   "id": "1fa59430-c765-4129-8172-86183c42db43",
   "metadata": {},
   "outputs": [
    {
     "name": "stdout",
     "output_type": "stream",
     "text": [
      "RA04_mod\n",
      "0    10503\n",
      "1     2903\n",
      "Name: count, dtype: int64\n"
     ]
    }
   ],
   "source": [
    "# Create new variable RA04_mod based on condition\n",
    "df_subset_job_seekers['RA04_mod'] = np.where(df_subset_job_seekers['RA04'] == 1, 1, 0)\n",
    "\n",
    "# Print frequency table\n",
    "print(df_subset_job_seekers['RA04_mod'].value_counts())"
   ]
  },
  {
   "cell_type": "markdown",
   "id": "32f3631e-2bfe-4b30-bcca-2b7384b2c1c0",
   "metadata": {},
   "source": [
    "### <u> Stopped by the police in the past 5 years </u>"
   ]
  },
  {
   "cell_type": "markdown",
   "id": "36278fdd-9519-493c-b0d9-e36f18d0b251",
   "metadata": {},
   "source": [
    "<span style=\"color:red\"><b>New variable:</b></span> Binary. Was stopped or wasn't, without perception of racial profiling.  \n",
    "<span style=\"color:red\"><b>I SUGGEST WE DON'T USE IT</b></span> Variable DO27 is more objective (it appears later here in this file).  \n",
    "**Encount_police_5y:**  \n",
    "0\tNot stopped  \n",
    "1\tStopped, with perceived ethnic profiling  \n",
    "2\tStopped but no ethnic profiling "
   ]
  },
  {
   "cell_type": "code",
   "execution_count": 48,
   "id": "b65d9a68-dfa9-475b-9c30-81dbaebe0ca4",
   "metadata": {},
   "outputs": [
    {
     "name": "stdout",
     "output_type": "stream",
     "text": [
      "Data type of Encount_police_5y: float64\n",
      "Number of missing values in Encount_police_5y: 0\n",
      "Encount_police_5y\n",
      "0.0    9141\n",
      "2.0    2340\n",
      "1.0    1925\n",
      "Name: count, dtype: int64\n"
     ]
    }
   ],
   "source": [
    "# Print data type of variable Encount_police_5y\n",
    "print(\"Data type of Encount_police_5y:\", df_subset_job_seekers['Encount_police_5y'].dtype)\n",
    "\n",
    "# Check for missing values in variable Encount_police_5y\n",
    "print(\"Number of missing values in Encount_police_5y:\", df_subset_job_seekers['Encount_police_5y'].isnull().sum())\n",
    "\n",
    "# Print frequency table\n",
    "print(df_subset_job_seekers['Encount_police_5y'].value_counts())"
   ]
  },
  {
   "cell_type": "code",
   "execution_count": 49,
   "id": "5f9c4ed4-d580-4d76-bc09-9e10a5914faa",
   "metadata": {},
   "outputs": [
    {
     "name": "stdout",
     "output_type": "stream",
     "text": [
      "Encount_police_5y_mod\n",
      "0    9141\n",
      "1    4265\n",
      "Name: count, dtype: int64\n"
     ]
    }
   ],
   "source": [
    "# Create new variable Encount_police_5y_mod based on condition\n",
    "df_subset_job_seekers['Encount_police_5y_mod'] = np.where(df_subset_job_seekers['Encount_police_5y'] == 0, 0, 1)\n",
    "\n",
    "# Print frequency table\n",
    "print(df_subset_job_seekers['Encount_police_5y_mod'].value_counts())"
   ]
  },
  {
   "cell_type": "markdown",
   "id": "4bdd5481-3257-497d-a681-9069c1e5ab2d",
   "metadata": {},
   "source": [
    "### <u> Currently looking for work </u>"
   ]
  },
  {
   "cell_type": "markdown",
   "id": "b59bf16e-71dd-41c3-9325-9c5cd2dd3ad3",
   "metadata": {},
   "source": [
    "<span style=\"color:red\"><b>New variable:</b></span> Binary. Is looking or isn't. Values 96, 97, 98 and 99 were added to zero.  \n",
    "**EU05:** Are you currently looking for work?"
   ]
  },
  {
   "cell_type": "code",
   "execution_count": 50,
   "id": "f37c4cf7-55d4-4a4f-a39d-bb2752df44c4",
   "metadata": {},
   "outputs": [
    {
     "name": "stdout",
     "output_type": "stream",
     "text": [
      "Data type of EU05: float64\n",
      "Number of missing values in EU05: 0\n",
      "EU05\n",
      "1.0     7047\n",
      "2.0     6174\n",
      "98.0     137\n",
      "96.0      34\n",
      "99.0      13\n",
      "97.0       1\n",
      "Name: count, dtype: int64\n"
     ]
    }
   ],
   "source": [
    "# Print data type of variable EU05\n",
    "print(\"Data type of EU05:\", df_subset_job_seekers['EU05'].dtype)\n",
    "\n",
    "# Check for missing values in variable EU05\n",
    "print(\"Number of missing values in EU05:\", df_subset_job_seekers['EU05'].isnull().sum())\n",
    "\n",
    "# Print frequency table\n",
    "print(df_subset_job_seekers['EU05'].value_counts())"
   ]
  },
  {
   "cell_type": "code",
   "execution_count": 51,
   "id": "984906c6-a74d-4323-aee1-c36f2bbdb60a",
   "metadata": {},
   "outputs": [
    {
     "name": "stdout",
     "output_type": "stream",
     "text": [
      "EU05_mod\n",
      "1    7047\n",
      "0    6359\n",
      "Name: count, dtype: int64\n"
     ]
    }
   ],
   "source": [
    "# Create new variable EU05_mod based on condition\n",
    "df_subset_job_seekers['EU05_mod'] = np.where(df_subset_job_seekers['EU05'] == 1, 1, 0)\n",
    "\n",
    "# Print frequency table\n",
    "print(df_subset_job_seekers['EU05_mod'].value_counts())"
   ]
  },
  {
   "cell_type": "markdown",
   "id": "712576e4-9b3f-4cea-ad6e-ac28a529c5a1",
   "metadata": {},
   "source": [
    "### <u> Interethnic relationships </u>"
   ]
  },
  {
   "cell_type": "markdown",
   "id": "e8dd7de1-1c62-4adf-90ea-515afa447d85",
   "metadata": {},
   "source": [
    "<span style=\"color:red\"><b>New variables:</b></span> Binary. Yes or no. Values 96, 97 and 98 were added to zero.  \n",
    "<span style=\"color:red\"><b>Observations:</b></span> There might be high correlation between the variables, we could use only one of them.  \n",
    "Do you have friends who…  \n",
    "**PB10_1:** are of another ethnic minority \n",
    "background than you?"
   ]
  },
  {
   "cell_type": "code",
   "execution_count": 52,
   "id": "27c14072-6f03-416c-bd4c-9fe31dff92a9",
   "metadata": {},
   "outputs": [
    {
     "name": "stdout",
     "output_type": "stream",
     "text": [
      "Data type of PB10_1: float64\n",
      "Number of missing values in PB10_1: 0\n",
      "PB10_1\n",
      "1.0     9798\n",
      "2.0     3432\n",
      "97.0      80\n",
      "99.0      72\n",
      "96.0      24\n",
      "Name: count, dtype: int64\n"
     ]
    }
   ],
   "source": [
    "# Print data type of variable PB10_1\n",
    "print(\"Data type of PB10_1:\", df_subset_job_seekers['PB10_1'].dtype)\n",
    "\n",
    "# Check for missing values in variable PB10_1\n",
    "print(\"Number of missing values in PB10_1:\", df_subset_job_seekers['PB10_1'].isnull().sum())\n",
    "\n",
    "# Print frequency table\n",
    "print(df_subset_job_seekers['PB10_1'].value_counts())"
   ]
  },
  {
   "cell_type": "code",
   "execution_count": 53,
   "id": "4d51c351-25fd-4903-87a6-b26310fa4fbe",
   "metadata": {},
   "outputs": [
    {
     "name": "stdout",
     "output_type": "stream",
     "text": [
      "PB10_1_mod\n",
      "1    9798\n",
      "0    3608\n",
      "Name: count, dtype: int64\n"
     ]
    }
   ],
   "source": [
    "# Create new variable PB10_1_mod based on condition\n",
    "df_subset_job_seekers['PB10_1_mod'] = np.where(df_subset_job_seekers['PB10_1'] == 1, 1, 0)\n",
    "\n",
    "# Print frequency table\n",
    "print(df_subset_job_seekers['PB10_1_mod'].value_counts())"
   ]
  },
  {
   "cell_type": "markdown",
   "id": "92d37363-1170-4937-bbbe-0d5ccc8442c1",
   "metadata": {},
   "source": [
    "**PB10_2:** do not have a minority \n",
    "background \r\n",
    "I.E. FROM THE GENERA/\r\n",
    "MAJORITY POPULATION"
   ]
  },
  {
   "cell_type": "code",
   "execution_count": 54,
   "id": "90229987-54cb-4678-9b43-58907f558692",
   "metadata": {},
   "outputs": [
    {
     "name": "stdout",
     "output_type": "stream",
     "text": [
      "Data type of PB10_2: float64\n",
      "Number of missing values in PB10_2: 0\n",
      "PB10_2\n",
      "1.0     10308\n",
      "2.0      2873\n",
      "97.0       98\n",
      "99.0       97\n",
      "96.0       30\n",
      "Name: count, dtype: int64\n"
     ]
    }
   ],
   "source": [
    "# Print data type of variable PB10_2\n",
    "print(\"Data type of PB10_2:\", df_subset_job_seekers['PB10_2'].dtype)\n",
    "\n",
    "# Check for missing values in variable PB10_2\n",
    "print(\"Number of missing values in PB10_2:\", df_subset_job_seekers['PB10_2'].isnull().sum())\n",
    "\n",
    "# Print frequency table\n",
    "print(df_subset_job_seekers['PB10_2'].value_counts())"
   ]
  },
  {
   "cell_type": "code",
   "execution_count": 55,
   "id": "6d7d6b58-24a5-4c8e-a55a-ebc5a7f4e451",
   "metadata": {},
   "outputs": [
    {
     "name": "stdout",
     "output_type": "stream",
     "text": [
      "PB10_2_mod\n",
      "1    10308\n",
      "0     3098\n",
      "Name: count, dtype: int64\n"
     ]
    }
   ],
   "source": [
    "# Create new variable PB10_2_mod based on condition\n",
    "df_subset_job_seekers['PB10_2_mod'] = np.where(df_subset_job_seekers['PB10_2'] == 1, 1, 0)\n",
    "\n",
    "# Print frequency table\n",
    "print(df_subset_job_seekers['PB10_2_mod'].value_counts())"
   ]
  },
  {
   "cell_type": "markdown",
   "id": "c2ffe045-44a2-44ef-a039-5a7f9f31ef39",
   "metadata": {},
   "source": [
    "### <u> Trying to rent or buy an apartment or a house in country in past 5 years </u>"
   ]
  },
  {
   "cell_type": "markdown",
   "id": "a20453db-cf58-443d-bbb2-332a6238f6e5",
   "metadata": {},
   "source": [
    "<span style=\"color:red\"><b>New variable:</b></span> Binary. Yes or no. Values 96, 97 and 99 were added to zero.  \n",
    "**DHO01:** In the past 5 years in [COUNTRY] (or since you have been in [COUNTRY]), \n",
    "have you ever tried to rent or buy an apartment or a house  \n",
    "IF LESS THAN 5 YEARS IN COUNTRY, “SINCE YOU’VE BEEN IN THE COUNTRY”?"
   ]
  },
  {
   "cell_type": "code",
   "execution_count": 56,
   "id": "d20d1409-e1d9-4f82-9008-f8e2a2ff3060",
   "metadata": {},
   "outputs": [
    {
     "name": "stdout",
     "output_type": "stream",
     "text": [
      "Data type of DHO01: float64\n",
      "Number of missing values in DHO01: 0\n",
      "DHO01\n",
      "2.0     8148\n",
      "1.0     5216\n",
      "96.0      17\n",
      "97.0      14\n",
      "99.0      11\n",
      "Name: count, dtype: int64\n"
     ]
    }
   ],
   "source": [
    "# Print data type of variable DHO01\n",
    "print(\"Data type of DHO01:\", df_subset_job_seekers['DHO01'].dtype)\n",
    "\n",
    "# Check for missing values in variable DHO01\n",
    "print(\"Number of missing values in DHO01:\", df_subset_job_seekers['DHO01'].isnull().sum())\n",
    "\n",
    "# Print frequency table\n",
    "print(df_subset_job_seekers['DHO01'].value_counts())"
   ]
  },
  {
   "cell_type": "code",
   "execution_count": 57,
   "id": "49cee1cc-b65d-4dd1-ac39-7417e3f738e5",
   "metadata": {},
   "outputs": [
    {
     "name": "stdout",
     "output_type": "stream",
     "text": [
      "DHO01_mod\n",
      "0    8190\n",
      "1    5216\n",
      "Name: count, dtype: int64\n"
     ]
    }
   ],
   "source": [
    "# Create new variable DHO01_mod based on condition\n",
    "df_subset_job_seekers['DHO01_mod'] = np.where(df_subset_job_seekers['DHO01'] == 1, 1, 0)\n",
    "\n",
    "# Print frequency table\n",
    "print(df_subset_job_seekers['DHO01_mod'].value_counts())"
   ]
  },
  {
   "cell_type": "markdown",
   "id": "014ac4cf-f1e9-4ae3-8636-c862bc9b9251",
   "metadata": {},
   "source": [
    "### <u> Gender </u>"
   ]
  },
  {
   "cell_type": "markdown",
   "id": "efce35b0-ee59-4caa-9e39-55c5c2f5d50d",
   "metadata": {},
   "source": [
    "<span style=\"color:red\"><b>New variable:</b></span> Keep it as binary. 0 = male, 1 = female.  \n",
    "**HH03**"
   ]
  },
  {
   "cell_type": "code",
   "execution_count": 58,
   "id": "46adc1f8-5bb2-42a0-be6a-b5a53c84b63f",
   "metadata": {},
   "outputs": [
    {
     "name": "stdout",
     "output_type": "stream",
     "text": [
      "Data type of HH03: float64\n",
      "Number of missing values in HH03: 0\n",
      "HH03\n",
      "1.0    7768\n",
      "2.0    5638\n",
      "Name: count, dtype: int64\n"
     ]
    }
   ],
   "source": [
    "# Print data type of variable HH03\n",
    "print(\"Data type of HH03:\", df_subset_job_seekers['HH03'].dtype)\n",
    "\n",
    "# Check for missing values in variable HH03\n",
    "print(\"Number of missing values in HH03:\", df_subset_job_seekers['HH03'].isnull().sum())\n",
    "\n",
    "# Print frequency table\n",
    "print(df_subset_job_seekers['HH03'].value_counts())"
   ]
  },
  {
   "cell_type": "code",
   "execution_count": 59,
   "id": "28d36426-4a05-4f4e-98af-df98f2d13fed",
   "metadata": {},
   "outputs": [
    {
     "name": "stdout",
     "output_type": "stream",
     "text": [
      "HH03_mod\n",
      "0    7768\n",
      "1    5638\n",
      "Name: count, dtype: int64\n"
     ]
    }
   ],
   "source": [
    "# Create new variable HH03_mod based on condition\n",
    "df_subset_job_seekers['HH03_mod'] = np.where(df_subset_job_seekers['HH03'] == 2, 1, 0)\n",
    "\n",
    "# Print frequency table\n",
    "print(df_subset_job_seekers['HH03_mod'].value_counts())"
   ]
  },
  {
   "cell_type": "markdown",
   "id": "ffcaa18b-723b-485a-8293-043ca7115f08",
   "metadata": {},
   "source": [
    "### <u> Parent or guardian of child(ren) within national compulsory school age range </u>"
   ]
  },
  {
   "cell_type": "markdown",
   "id": "31dda2e7-0ac8-47ff-992e-ecb45d04a461",
   "metadata": {},
   "source": [
    "<span style=\"color:red\"><b>New variable:</b></span> Binary. Do you have kids in school age range? Yes or no. Values 96 and 97 were added to zero.  \n",
    "**DE06:** Are you the parent or guardian of a child or children aged between [NATIONAL COMPULSORY SCHOOL AGE RANGE] living in [COUNTRY]?"
   ]
  },
  {
   "cell_type": "code",
   "execution_count": 60,
   "id": "083b5983-d27b-44bb-81c3-38408afbe497",
   "metadata": {},
   "outputs": [
    {
     "name": "stdout",
     "output_type": "stream",
     "text": [
      "Data type of DE06: float64\n",
      "Number of missing values in DE06: 0\n",
      "DE06\n",
      "2.0     8775\n",
      "1.0     4608\n",
      "96.0      16\n",
      "97.0       7\n",
      "Name: count, dtype: int64\n"
     ]
    }
   ],
   "source": [
    "# Print data type of variable DE06\n",
    "print(\"Data type of DE06:\", df_subset_job_seekers['DE06'].dtype)\n",
    "\n",
    "# Check for missing values in variable DE06\n",
    "print(\"Number of missing values in DE06:\", df_subset_job_seekers['DE06'].isnull().sum())\n",
    "\n",
    "# Print frequency table\n",
    "print(df_subset_job_seekers['DE06'].value_counts())"
   ]
  },
  {
   "cell_type": "code",
   "execution_count": 61,
   "id": "5f2a0744-958d-4acd-8607-61c9882930a9",
   "metadata": {},
   "outputs": [
    {
     "name": "stdout",
     "output_type": "stream",
     "text": [
      "DE06_mod\n",
      "0    8798\n",
      "1    4608\n",
      "Name: count, dtype: int64\n"
     ]
    }
   ],
   "source": [
    "# Create new variable DE06_mod based on condition\n",
    "df_subset_job_seekers['DE06_mod'] = np.where(df_subset_job_seekers['DE06'] == 1, 1, 0)\n",
    "\n",
    "# Print frequency table\n",
    "print(df_subset_job_seekers['DE06_mod'].value_counts())"
   ]
  },
  {
   "cell_type": "markdown",
   "id": "e49d3763-d695-45c9-a0b2-d44b0a479ebb",
   "metadata": {},
   "source": [
    "### <u> Health insurance coverage </u>"
   ]
  },
  {
   "cell_type": "markdown",
   "id": "42614855-f763-4b18-a46b-8657f1e53b52",
   "metadata": {},
   "source": [
    "<span style=\"color:red\"><b>New variable:</b></span> Binary. Yes or no. Values 96, 97 and 99 were added to zero.  \n",
    "**DHE04:** Does the [NATIONAL BASIC HEALTH INSURANCE SCHEME] currently cover your health care expenses?"
   ]
  },
  {
   "cell_type": "code",
   "execution_count": 62,
   "id": "853d58db-ebc7-4aaf-8d15-f03aad782df4",
   "metadata": {},
   "outputs": [
    {
     "name": "stdout",
     "output_type": "stream",
     "text": [
      "Data type of DHE04: float64\n",
      "Number of missing values in DHE04: 0\n",
      "DHE04\n",
      "1.0     11009\n",
      "2.0      1979\n",
      "99.0      299\n",
      "97.0       76\n",
      "96.0       43\n",
      "Name: count, dtype: int64\n"
     ]
    }
   ],
   "source": [
    "# Print data type of variable DHE04\n",
    "print(\"Data type of DHE04:\", df_subset_job_seekers['DHE04'].dtype)\n",
    "\n",
    "# Check for missing values in variable DHE04\n",
    "print(\"Number of missing values in DHE04:\", df_subset_job_seekers['DHE04'].isnull().sum())\n",
    "\n",
    "# Print frequency table\n",
    "print(df_subset_job_seekers['DHE04'].value_counts())"
   ]
  },
  {
   "cell_type": "code",
   "execution_count": 63,
   "id": "bb1c1a41-de2f-42d1-919b-f3986953caa5",
   "metadata": {},
   "outputs": [
    {
     "name": "stdout",
     "output_type": "stream",
     "text": [
      "DHE04_mod\n",
      "1    11009\n",
      "0     2397\n",
      "Name: count, dtype: int64\n"
     ]
    }
   ],
   "source": [
    "# Create new variable DHE04_mod based on condition\n",
    "df_subset_job_seekers['DHE04_mod'] = np.where(df_subset_job_seekers['DHE04'] == 1, 1, 0)\n",
    "\n",
    "# Print frequency table\n",
    "print(df_subset_job_seekers['DHE04_mod'].value_counts())"
   ]
  },
  {
   "cell_type": "markdown",
   "id": "a77a903a-9149-4509-8489-6d99b839239e",
   "metadata": {},
   "source": [
    "### <u> Limitations in daily activities in past 6 month </u>"
   ]
  },
  {
   "cell_type": "markdown",
   "id": "ac3e469a-9246-4d4d-a8b5-094baf200586",
   "metadata": {},
   "source": [
    "<span style=\"color:red\"><b>New variable:</b></span> Discrete. From 0-3. Higher number = less limitations (higher is better).  \n",
    "**DHE03:** For at least the past six months, to what extent have you been limited because of a health problem in activities people usually do? Would you say you have been…?"
   ]
  },
  {
   "cell_type": "code",
   "execution_count": 64,
   "id": "157c7748-24cb-4beb-afde-c6583130840e",
   "metadata": {},
   "outputs": [
    {
     "name": "stdout",
     "output_type": "stream",
     "text": [
      "Data type of DHE03: float64\n",
      "Number of missing values in DHE03: 0\n",
      "DHE03\n",
      "3.0     11180\n",
      "2.0      1638\n",
      "1.0       521\n",
      "96.0       35\n",
      "99.0       22\n",
      "97.0       10\n",
      "Name: count, dtype: int64\n"
     ]
    }
   ],
   "source": [
    "# Print data type of variable DHE03\n",
    "print(\"Data type of DHE03:\", df_subset_job_seekers['DHE03'].dtype)\n",
    "\n",
    "# Check for missing values in variable DHE03\n",
    "print(\"Number of missing values in DHE03:\", df_subset_job_seekers['DHE03'].isnull().sum())\n",
    "\n",
    "# Print frequency table\n",
    "print(df_subset_job_seekers['DHE03'].value_counts())"
   ]
  },
  {
   "cell_type": "code",
   "execution_count": 65,
   "id": "072ffff7-e4d2-4502-aa3f-1f689d75f9c1",
   "metadata": {},
   "outputs": [
    {
     "name": "stdout",
     "output_type": "stream",
     "text": [
      "DHE03_mod\n",
      "3.0    11247\n",
      "2.0     1638\n",
      "1.0      521\n",
      "Name: count, dtype: int64\n"
     ]
    }
   ],
   "source": [
    "# Define the mapping dictionary for the new variable\n",
    "map_DHE03 = {96:3, 97:3, 99:3}\n",
    "\n",
    "# Create new variable DHE03_mod based on the mapping\n",
    "df_subset_job_seekers['DHE03_mod'] = df_subset_job_seekers['DHE03'].map(map_DHE03).fillna(df_subset_job_seekers['DHE03'])\n",
    "print(df_subset_job_seekers['DHE03_mod'].value_counts())"
   ]
  },
  {
   "cell_type": "markdown",
   "id": "edc6d69e-879f-4953-b49c-b41ce0dc0f2e",
   "metadata": {},
   "source": [
    "### <u> Longstanding illness or health problem </u>"
   ]
  },
  {
   "cell_type": "markdown",
   "id": "d4898c50-b4ed-43f6-8c22-623fb810cabd",
   "metadata": {},
   "source": [
    "<span style=\"color:red\"><b>New variables:</b></span> Binary. Yes or no. Values 96, 97 and 98 were added to zero.  \n",
    "<span style=\"color:red\"><b>Observations:</b></span> There might be high correlation between the DHE variables, we could use only one of them or merge them somewhow.  \n",
    "**DHE02:** Do you have any longstanding illness or health problem? LONGSTANDING MEANS ONE THAT LASTS (OR WILL LAST) 6 MONTHS OR MORE, OR THAT IT REGULARLY REAPPEARS"
   ]
  },
  {
   "cell_type": "code",
   "execution_count": 66,
   "id": "c94b2d22-1825-41dc-aae4-5733dc463e00",
   "metadata": {},
   "outputs": [
    {
     "name": "stdout",
     "output_type": "stream",
     "text": [
      "Data type of DHE02: float64\n",
      "Number of missing values in DHE02: 0\n",
      "DHE02\n",
      "2.0     11299\n",
      "1.0      2033\n",
      "96.0       48\n",
      "99.0       20\n",
      "97.0        6\n",
      "Name: count, dtype: int64\n"
     ]
    }
   ],
   "source": [
    "# Print data type of variable DHE02\n",
    "print(\"Data type of DHE02:\", df_subset_job_seekers['DHE02'].dtype)\n",
    "\n",
    "# Check for missing values in variable DHE02\n",
    "print(\"Number of missing values in DHE02:\", df_subset_job_seekers['DHE02'].isnull().sum())\n",
    "\n",
    "# Print frequency table\n",
    "print(df_subset_job_seekers['DHE02'].value_counts())"
   ]
  },
  {
   "cell_type": "code",
   "execution_count": 67,
   "id": "1c2c803e-d75e-4b5e-bf81-3d9d9d80bcb7",
   "metadata": {},
   "outputs": [
    {
     "name": "stdout",
     "output_type": "stream",
     "text": [
      "DHE02_mod\n",
      "0    11373\n",
      "1     2033\n",
      "Name: count, dtype: int64\n"
     ]
    }
   ],
   "source": [
    "# Create new variable DHE02_mod based on condition\n",
    "df_subset_job_seekers['DHE02_mod'] = np.where(df_subset_job_seekers['DHE02'] == 1, 1, 0)\n",
    "\n",
    "# Print frequency table\n",
    "print(df_subset_job_seekers['DHE02_mod'].value_counts())"
   ]
  },
  {
   "cell_type": "markdown",
   "id": "54e4df7c-202e-4b30-a57e-0878c97cce3a",
   "metadata": {},
   "source": [
    "### <u> At risk of poverty after social transfers </u>"
   ]
  },
  {
   "cell_type": "markdown",
   "id": "d2f58215-c18f-42ca-8096-eeee6bcdd0dd",
   "metadata": {},
   "source": [
    "<span style=\"color:red\"><b>Keep it as it is:</b></span> Binary.  \n",
    "<span style=\"color:red\"><b>DEAL WITH MISSINGNESS. Gayatri should look for a better variable.</b></span>  \n",
    "**arop**"
   ]
  },
  {
   "cell_type": "code",
   "execution_count": 68,
   "id": "0c0f8ae8-9ace-44fd-b023-01d90dc58c15",
   "metadata": {},
   "outputs": [
    {
     "name": "stdout",
     "output_type": "stream",
     "text": [
      "Data type of arop: float64\n",
      "Number of missing values in arop: 2700\n",
      "arop\n",
      "1.0    7411\n",
      "0.0    3295\n",
      "Name: count, dtype: int64\n"
     ]
    }
   ],
   "source": [
    "# Print data type of variable arop\n",
    "print(\"Data type of arop:\", df_subset_job_seekers['arop'].dtype)\n",
    "\n",
    "# Check for missing values in variable arop\n",
    "print(\"Number of missing values in arop:\", df_subset_job_seekers['arop'].isnull().sum())\n",
    "\n",
    "# Print frequency table\n",
    "print(df_subset_job_seekers['arop'].value_counts())"
   ]
  },
  {
   "cell_type": "markdown",
   "id": "a797e0c7-703f-4212-b992-4a6247c39122",
   "metadata": {},
   "source": [
    "### <u> Experiences of being stopped, searched or questioned by police in country in past 5 years </u>"
   ]
  },
  {
   "cell_type": "markdown",
   "id": "e978ea9e-8bf6-47d1-a16e-a98ac3e167cd",
   "metadata": {},
   "source": [
    "<span style=\"color:red\"><b>New variables:</b></span> Binary. Yes or no. Values 96, 97 and 98 were added to zero.  \n",
    "**DO27:** In the past 5 years in [COUNTRY] (or since you have been in [COUNTRY]), have you ever been stopped, searched, or questioned by the police? IF LESS THAN 5 YEARS IN COUNTRY, “SINCE YOU’VE BEEN IN THE COUNTRY”"
   ]
  },
  {
   "cell_type": "code",
   "execution_count": 69,
   "id": "784d8592-14bb-4942-ab7c-19275dc1ea05",
   "metadata": {},
   "outputs": [
    {
     "name": "stdout",
     "output_type": "stream",
     "text": [
      "Data type of DO27: float64\n",
      "Number of missing values in DO27: 0\n",
      "DO27\n",
      "2.0     9039\n",
      "1.0     4265\n",
      "96.0      89\n",
      "99.0       8\n",
      "97.0       5\n",
      "Name: count, dtype: int64\n"
     ]
    }
   ],
   "source": [
    "# Print data type of variable DO27\n",
    "print(\"Data type of DO27:\", df_subset_job_seekers['DO27'].dtype)\n",
    "\n",
    "# Check for missing values in variable DO27\n",
    "print(\"Number of missing values in DO27:\", df_subset_job_seekers['DO27'].isnull().sum())\n",
    "\n",
    "# Print frequency table\n",
    "print(df_subset_job_seekers['DO27'].value_counts())"
   ]
  },
  {
   "cell_type": "code",
   "execution_count": 70,
   "id": "e5456920-66be-4194-88ef-76a086cc14a0",
   "metadata": {},
   "outputs": [
    {
     "name": "stdout",
     "output_type": "stream",
     "text": [
      "DO27_mod\n",
      "0    9141\n",
      "1    4265\n",
      "Name: count, dtype: int64\n"
     ]
    }
   ],
   "source": [
    "# Create new variable DO27_mod based on condition\n",
    "df_subset_job_seekers['DO27_mod'] = np.where(df_subset_job_seekers['DO27'] == 1, 1, 0)\n",
    "\n",
    "# Print frequency table\n",
    "print(df_subset_job_seekers['DO27_mod'].value_counts())"
   ]
  },
  {
   "cell_type": "markdown",
   "id": "a90b1050-ed35-44b6-bc2a-c958c1d592e5",
   "metadata": {},
   "source": [
    "### <u> Experiences of being asked or expected to pay bribe to government official in country in past 5 years </u>"
   ]
  },
  {
   "cell_type": "markdown",
   "id": "c0048a9a-f5e3-412a-91dd-2f0dbd356cc6",
   "metadata": {},
   "source": [
    "<span style=\"color:red\"><b>New variables:</b></span> Binary. Yes or no. Values 96, 97 and 98 were added to zero. Both asked and expected are being put together in yes.  \n",
    "**DO24:** In the past 5 years did any government official in [COUNTRY], for example a customs or police officer, a judge or an inspector, ask you or expect you to pay a bribe for his or her services?  \n",
    "READ OUT “EXPECTED TO PAY” MEANS THAT THE GOVERNMENT OFFICIAL DID NOT ASK DIRECTLY, BUT IN ONE WAY OR ANOTHER IT WAS CLEAR TO THE RESPONDENT THAT A PAYMENT WAS EXPECTED."
   ]
  },
  {
   "cell_type": "code",
   "execution_count": 71,
   "id": "168ddb8a-d624-4cfc-ac94-292377074960",
   "metadata": {},
   "outputs": [
    {
     "name": "stdout",
     "output_type": "stream",
     "text": [
      "Data type of DO24: float64\n",
      "Number of missing values in DO24: 0\n",
      "DO24\n",
      "3.0     12970\n",
      "2.0       143\n",
      "1.0       132\n",
      "96.0       87\n",
      "97.0       49\n",
      "99.0       25\n",
      "Name: count, dtype: int64\n"
     ]
    }
   ],
   "source": [
    "# Print data type of variable DO24\n",
    "print(\"Data type of DO24:\", df_subset_job_seekers['DO24'].dtype)\n",
    "\n",
    "# Check for missing values in variable DO24\n",
    "print(\"Number of missing values in DO24:\", df_subset_job_seekers['DO24'].isnull().sum())\n",
    "\n",
    "# Print frequency table\n",
    "print(df_subset_job_seekers['DO24'].value_counts())"
   ]
  },
  {
   "cell_type": "code",
   "execution_count": 72,
   "id": "e4fc8290-826e-4eef-8a31-0c57c1534646",
   "metadata": {},
   "outputs": [
    {
     "name": "stdout",
     "output_type": "stream",
     "text": [
      "DO24_mod\n",
      "0    13131\n",
      "1      275\n",
      "Name: count, dtype: int64\n"
     ]
    }
   ],
   "source": [
    "# Create new variable DO24_mod based on conditions\n",
    "df_subset_job_seekers['DO24_mod'] = df_subset_job_seekers['DO24'].apply(lambda x: 0 if x in [3, 96, 97, 99] else 1)\n",
    "\n",
    "# Print frequency table\n",
    "print(df_subset_job_seekers['DO24_mod'].value_counts())"
   ]
  },
  {
   "cell_type": "code",
   "execution_count": 75,
   "id": "efbcc236-4aea-44a4-b05e-0d3866db5326",
   "metadata": {},
   "outputs": [
    {
     "data": {
      "text/html": [
       "<div>\n",
       "<style scoped>\n",
       "    .dataframe tbody tr th:only-of-type {\n",
       "        vertical-align: middle;\n",
       "    }\n",
       "\n",
       "    .dataframe tbody tr th {\n",
       "        vertical-align: top;\n",
       "    }\n",
       "\n",
       "    .dataframe thead th {\n",
       "        text-align: right;\n",
       "    }\n",
       "</style>\n",
       "<table border=\"1\" class=\"dataframe\">\n",
       "  <thead>\n",
       "    <tr style=\"text-align: right;\">\n",
       "      <th></th>\n",
       "      <th>country</th>\n",
       "      <th>country2</th>\n",
       "      <th>DEGURBA</th>\n",
       "      <th>IN02</th>\n",
       "      <th>HH02</th>\n",
       "      <th>HH03</th>\n",
       "      <th>HH04</th>\n",
       "      <th>HLS02</th>\n",
       "      <th>RA03_1</th>\n",
       "      <th>RA03_2</th>\n",
       "      <th>...</th>\n",
       "      <th>PB10_1_mod</th>\n",
       "      <th>PB10_2_mod</th>\n",
       "      <th>DHO01_mod</th>\n",
       "      <th>HH03_mod</th>\n",
       "      <th>DE06_mod</th>\n",
       "      <th>DHE04_mod</th>\n",
       "      <th>DHE03_mod</th>\n",
       "      <th>DHE02_mod</th>\n",
       "      <th>DO27_mod</th>\n",
       "      <th>DO24_mod</th>\n",
       "    </tr>\n",
       "  </thead>\n",
       "  <tbody>\n",
       "    <tr>\n",
       "      <th>0</th>\n",
       "      <td>1.0</td>\n",
       "      <td>1.0</td>\n",
       "      <td>1.0</td>\n",
       "      <td>8.0</td>\n",
       "      <td>37.0</td>\n",
       "      <td>1.0</td>\n",
       "      <td>1.0</td>\n",
       "      <td>4.0</td>\n",
       "      <td>4.0</td>\n",
       "      <td>4.0</td>\n",
       "      <td>...</td>\n",
       "      <td>1</td>\n",
       "      <td>1</td>\n",
       "      <td>1</td>\n",
       "      <td>0</td>\n",
       "      <td>1</td>\n",
       "      <td>1</td>\n",
       "      <td>3.0</td>\n",
       "      <td>0</td>\n",
       "      <td>1</td>\n",
       "      <td>0</td>\n",
       "    </tr>\n",
       "    <tr>\n",
       "      <th>12</th>\n",
       "      <td>1.0</td>\n",
       "      <td>1.0</td>\n",
       "      <td>1.0</td>\n",
       "      <td>8.0</td>\n",
       "      <td>30.0</td>\n",
       "      <td>1.0</td>\n",
       "      <td>1.0</td>\n",
       "      <td>3.0</td>\n",
       "      <td>1.0</td>\n",
       "      <td>2.0</td>\n",
       "      <td>...</td>\n",
       "      <td>0</td>\n",
       "      <td>1</td>\n",
       "      <td>1</td>\n",
       "      <td>0</td>\n",
       "      <td>1</td>\n",
       "      <td>1</td>\n",
       "      <td>3.0</td>\n",
       "      <td>0</td>\n",
       "      <td>1</td>\n",
       "      <td>0</td>\n",
       "    </tr>\n",
       "    <tr>\n",
       "      <th>16</th>\n",
       "      <td>1.0</td>\n",
       "      <td>1.0</td>\n",
       "      <td>1.0</td>\n",
       "      <td>8.0</td>\n",
       "      <td>35.0</td>\n",
       "      <td>1.0</td>\n",
       "      <td>1.0</td>\n",
       "      <td>3.0</td>\n",
       "      <td>4.0</td>\n",
       "      <td>2.0</td>\n",
       "      <td>...</td>\n",
       "      <td>1</td>\n",
       "      <td>1</td>\n",
       "      <td>1</td>\n",
       "      <td>0</td>\n",
       "      <td>0</td>\n",
       "      <td>1</td>\n",
       "      <td>3.0</td>\n",
       "      <td>0</td>\n",
       "      <td>1</td>\n",
       "      <td>0</td>\n",
       "    </tr>\n",
       "    <tr>\n",
       "      <th>17</th>\n",
       "      <td>1.0</td>\n",
       "      <td>1.0</td>\n",
       "      <td>1.0</td>\n",
       "      <td>8.0</td>\n",
       "      <td>42.0</td>\n",
       "      <td>1.0</td>\n",
       "      <td>4.0</td>\n",
       "      <td>3.0</td>\n",
       "      <td>3.0</td>\n",
       "      <td>4.0</td>\n",
       "      <td>...</td>\n",
       "      <td>1</td>\n",
       "      <td>1</td>\n",
       "      <td>0</td>\n",
       "      <td>0</td>\n",
       "      <td>1</td>\n",
       "      <td>1</td>\n",
       "      <td>1.0</td>\n",
       "      <td>1</td>\n",
       "      <td>1</td>\n",
       "      <td>0</td>\n",
       "    </tr>\n",
       "    <tr>\n",
       "      <th>22</th>\n",
       "      <td>1.0</td>\n",
       "      <td>1.0</td>\n",
       "      <td>1.0</td>\n",
       "      <td>8.0</td>\n",
       "      <td>39.0</td>\n",
       "      <td>1.0</td>\n",
       "      <td>5.0</td>\n",
       "      <td>4.0</td>\n",
       "      <td>3.0</td>\n",
       "      <td>3.0</td>\n",
       "      <td>...</td>\n",
       "      <td>1</td>\n",
       "      <td>0</td>\n",
       "      <td>1</td>\n",
       "      <td>0</td>\n",
       "      <td>0</td>\n",
       "      <td>1</td>\n",
       "      <td>3.0</td>\n",
       "      <td>0</td>\n",
       "      <td>1</td>\n",
       "      <td>0</td>\n",
       "    </tr>\n",
       "  </tbody>\n",
       "</table>\n",
       "<p>5 rows × 86 columns</p>\n",
       "</div>"
      ],
      "text/plain": [
       "    country  country2  DEGURBA  IN02  HH02  HH03  HH04  HLS02  RA03_1  RA03_2  \\\n",
       "0       1.0       1.0      1.0   8.0  37.0   1.0   1.0    4.0     4.0     4.0   \n",
       "12      1.0       1.0      1.0   8.0  30.0   1.0   1.0    3.0     1.0     2.0   \n",
       "16      1.0       1.0      1.0   8.0  35.0   1.0   1.0    3.0     4.0     2.0   \n",
       "17      1.0       1.0      1.0   8.0  42.0   1.0   4.0    3.0     3.0     4.0   \n",
       "22      1.0       1.0      1.0   8.0  39.0   1.0   5.0    4.0     3.0     3.0   \n",
       "\n",
       "    ...  PB10_1_mod  PB10_2_mod  DHO01_mod  HH03_mod  DE06_mod  DHE04_mod  \\\n",
       "0   ...           1           1          1         0         1          1   \n",
       "12  ...           0           1          1         0         1          1   \n",
       "16  ...           1           1          1         0         0          1   \n",
       "17  ...           1           1          0         0         1          1   \n",
       "22  ...           1           0          1         0         0          1   \n",
       "\n",
       "    DHE03_mod  DHE02_mod  DO27_mod  DO24_mod  \n",
       "0         3.0          0         1         0  \n",
       "12        3.0          0         1         0  \n",
       "16        3.0          0         1         0  \n",
       "17        1.0          1         1         0  \n",
       "22        3.0          0         1         0  \n",
       "\n",
       "[5 rows x 86 columns]"
      ]
     },
     "execution_count": 75,
     "metadata": {},
     "output_type": "execute_result"
    }
   ],
   "source": [
    "df_subset_job_seekers.head()"
   ]
  },
  {
   "cell_type": "code",
   "execution_count": 79,
   "id": "ced8e1bb-d5a3-4895-8fca-c7e7f61aef58",
   "metadata": {},
   "outputs": [
    {
     "name": "stdout",
     "output_type": "stream",
     "text": [
      "Index(['country', 'country2', 'DEGURBA', 'IN02', 'HH02', 'HH03', 'HH04',\n",
      "       'HLS02', 'RA03_1', 'RA03_2', 'RA03_3', 'RA04', 'EU05', 'EU07',\n",
      "       'EUD01_01', 'EUD01_02', 'EUD01_03', 'EUD01_04', 'EUD01_05', 'EUD01_06',\n",
      "       'EUD01_07', 'EUD01_08', 'EUD01_09', 'EUD01_96', 'EUD01_97', 'EUD01_99',\n",
      "       'DHE01', 'DHE02', 'DHE03', 'DHE04', 'DHO01', 'DE06', 'DO24', 'DO27',\n",
      "       'VH01a_1', 'VH01a_2', 'VH01a_3', 'VH01a_4', 'VH01a_5', 'VV10_1',\n",
      "       'VV10_2', 'PB01', 'PB10_1', 'PB10_2', 'PB11', 'S01', 'SI02', 'SI06',\n",
      "       'activ', 'Encount_police_5y', 'res_stat', 'id', 'arop', 'VH01a_1_mod',\n",
      "       'VH01a_2_mod', 'VH01a_3_mod', 'VH01a_4_mod', 'VH01a_5_mod',\n",
      "       'RA03_1_mod', 'RA03_2_mod', 'RA03_3_mod', 'SI02_inc_work',\n",
      "       'SI02_inc_ben', 'SI06_mod', 'HLS02_mod', 'DHE01_mod', 'PB11_mod',\n",
      "       'HH04_empl', 'HH04_stud', 'VV10_1_mod', 'S01_mod', 'PB01_mod',\n",
      "       'DEGURBA_mod', 'RA04_mod', 'Encount_police_5y_mod', 'EU05_mod',\n",
      "       'PB10_1_mod', 'PB10_2_mod', 'DHO01_mod', 'HH03_mod', 'DE06_mod',\n",
      "       'DHE04_mod', 'DHE03_mod', 'DHE02_mod', 'DO27_mod', 'DO24_mod'],\n",
      "      dtype='object')\n"
     ]
    }
   ],
   "source": [
    "print(df_subset_job_seekers.columns)\n"
   ]
  },
  {
   "cell_type": "code",
   "execution_count": null,
   "id": "1efad1bf-37ac-415a-85db-22b3671105a3",
   "metadata": {},
   "outputs": [],
   "source": []
  }
 ],
 "metadata": {
  "kernelspec": {
   "display_name": "Python 3 (ipykernel)",
   "language": "python",
   "name": "python3"
  },
  "language_info": {
   "codemirror_mode": {
    "name": "ipython",
    "version": 3
   },
   "file_extension": ".py",
   "mimetype": "text/x-python",
   "name": "python",
   "nbconvert_exporter": "python",
   "pygments_lexer": "ipython3",
   "version": "3.12.2"
  }
 },
 "nbformat": 4,
 "nbformat_minor": 5
}
