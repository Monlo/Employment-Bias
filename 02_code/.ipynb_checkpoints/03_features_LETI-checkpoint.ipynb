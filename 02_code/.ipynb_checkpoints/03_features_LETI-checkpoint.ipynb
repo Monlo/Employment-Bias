{
 "cells": [
  {
   "cell_type": "code",
   "execution_count": 25,
   "id": "5f399edd-8c17-49f9-83e2-6b744fdcdbc3",
   "metadata": {},
   "outputs": [],
   "source": [
    "import pandas as pd\n",
    "import numpy as np"
   ]
  },
  {
   "cell_type": "code",
   "execution_count": 2,
   "id": "2ba2c723-28bf-43e1-9621-eae4a5d95016",
   "metadata": {},
   "outputs": [],
   "source": [
    "df_subset_job_seekers = pd.read_pickle('../01_data/df_subset_job_seekers.pkl')"
   ]
  },
  {
   "cell_type": "code",
   "execution_count": 3,
   "id": "b760b261-95f6-4d6e-bbc7-0a87cbbfa7c8",
   "metadata": {},
   "outputs": [
    {
     "data": {
      "text/html": [
       "<div>\n",
       "<style scoped>\n",
       "    .dataframe tbody tr th:only-of-type {\n",
       "        vertical-align: middle;\n",
       "    }\n",
       "\n",
       "    .dataframe tbody tr th {\n",
       "        vertical-align: top;\n",
       "    }\n",
       "\n",
       "    .dataframe thead th {\n",
       "        text-align: right;\n",
       "    }\n",
       "</style>\n",
       "<table border=\"1\" class=\"dataframe\">\n",
       "  <thead>\n",
       "    <tr style=\"text-align: right;\">\n",
       "      <th></th>\n",
       "      <th>country</th>\n",
       "      <th>country2</th>\n",
       "      <th>DEGURBA</th>\n",
       "      <th>IN02</th>\n",
       "      <th>HH02</th>\n",
       "      <th>HH03</th>\n",
       "      <th>HH04</th>\n",
       "      <th>HLS02</th>\n",
       "      <th>RA03_1</th>\n",
       "      <th>RA03_2</th>\n",
       "      <th>...</th>\n",
       "      <th>PB10_2</th>\n",
       "      <th>PB11</th>\n",
       "      <th>S01</th>\n",
       "      <th>SI02</th>\n",
       "      <th>SI06</th>\n",
       "      <th>activ</th>\n",
       "      <th>Encount_police_5y</th>\n",
       "      <th>res_stat</th>\n",
       "      <th>id</th>\n",
       "      <th>arop</th>\n",
       "    </tr>\n",
       "  </thead>\n",
       "  <tbody>\n",
       "    <tr>\n",
       "      <th>0</th>\n",
       "      <td>1.0</td>\n",
       "      <td>1.0</td>\n",
       "      <td>1.0</td>\n",
       "      <td>8.0</td>\n",
       "      <td>37.0</td>\n",
       "      <td>1.0</td>\n",
       "      <td>1.0</td>\n",
       "      <td>4.0</td>\n",
       "      <td>4.0</td>\n",
       "      <td>4.0</td>\n",
       "      <td>...</td>\n",
       "      <td>1.0</td>\n",
       "      <td>3.0</td>\n",
       "      <td>1.0</td>\n",
       "      <td>1.0</td>\n",
       "      <td>3.0</td>\n",
       "      <td>1.0</td>\n",
       "      <td>2.0</td>\n",
       "      <td>3.0</td>\n",
       "      <td>165.0</td>\n",
       "      <td>1.0</td>\n",
       "    </tr>\n",
       "    <tr>\n",
       "      <th>12</th>\n",
       "      <td>1.0</td>\n",
       "      <td>1.0</td>\n",
       "      <td>1.0</td>\n",
       "      <td>8.0</td>\n",
       "      <td>30.0</td>\n",
       "      <td>1.0</td>\n",
       "      <td>1.0</td>\n",
       "      <td>3.0</td>\n",
       "      <td>1.0</td>\n",
       "      <td>2.0</td>\n",
       "      <td>...</td>\n",
       "      <td>1.0</td>\n",
       "      <td>2.0</td>\n",
       "      <td>1.0</td>\n",
       "      <td>1.0</td>\n",
       "      <td>5.0</td>\n",
       "      <td>1.0</td>\n",
       "      <td>2.0</td>\n",
       "      <td>5.0</td>\n",
       "      <td>317.0</td>\n",
       "      <td>0.0</td>\n",
       "    </tr>\n",
       "    <tr>\n",
       "      <th>16</th>\n",
       "      <td>1.0</td>\n",
       "      <td>1.0</td>\n",
       "      <td>1.0</td>\n",
       "      <td>8.0</td>\n",
       "      <td>35.0</td>\n",
       "      <td>1.0</td>\n",
       "      <td>1.0</td>\n",
       "      <td>3.0</td>\n",
       "      <td>4.0</td>\n",
       "      <td>2.0</td>\n",
       "      <td>...</td>\n",
       "      <td>1.0</td>\n",
       "      <td>3.0</td>\n",
       "      <td>1.0</td>\n",
       "      <td>1.0</td>\n",
       "      <td>4.0</td>\n",
       "      <td>1.0</td>\n",
       "      <td>1.0</td>\n",
       "      <td>5.0</td>\n",
       "      <td>321.0</td>\n",
       "      <td>0.0</td>\n",
       "    </tr>\n",
       "    <tr>\n",
       "      <th>17</th>\n",
       "      <td>1.0</td>\n",
       "      <td>1.0</td>\n",
       "      <td>1.0</td>\n",
       "      <td>8.0</td>\n",
       "      <td>42.0</td>\n",
       "      <td>1.0</td>\n",
       "      <td>4.0</td>\n",
       "      <td>3.0</td>\n",
       "      <td>3.0</td>\n",
       "      <td>4.0</td>\n",
       "      <td>...</td>\n",
       "      <td>1.0</td>\n",
       "      <td>3.0</td>\n",
       "      <td>1.0</td>\n",
       "      <td>6.0</td>\n",
       "      <td>1.0</td>\n",
       "      <td>2.0</td>\n",
       "      <td>1.0</td>\n",
       "      <td>3.0</td>\n",
       "      <td>322.0</td>\n",
       "      <td>1.0</td>\n",
       "    </tr>\n",
       "    <tr>\n",
       "      <th>22</th>\n",
       "      <td>1.0</td>\n",
       "      <td>1.0</td>\n",
       "      <td>1.0</td>\n",
       "      <td>8.0</td>\n",
       "      <td>39.0</td>\n",
       "      <td>1.0</td>\n",
       "      <td>5.0</td>\n",
       "      <td>4.0</td>\n",
       "      <td>3.0</td>\n",
       "      <td>3.0</td>\n",
       "      <td>...</td>\n",
       "      <td>2.0</td>\n",
       "      <td>3.0</td>\n",
       "      <td>5.0</td>\n",
       "      <td>9.0</td>\n",
       "      <td>2.0</td>\n",
       "      <td>7.0</td>\n",
       "      <td>2.0</td>\n",
       "      <td>5.0</td>\n",
       "      <td>327.0</td>\n",
       "      <td>1.0</td>\n",
       "    </tr>\n",
       "  </tbody>\n",
       "</table>\n",
       "<p>5 rows × 53 columns</p>\n",
       "</div>"
      ],
      "text/plain": [
       "    country  country2  DEGURBA  IN02  HH02  HH03  HH04  HLS02  RA03_1  RA03_2  \\\n",
       "0       1.0       1.0      1.0   8.0  37.0   1.0   1.0    4.0     4.0     4.0   \n",
       "12      1.0       1.0      1.0   8.0  30.0   1.0   1.0    3.0     1.0     2.0   \n",
       "16      1.0       1.0      1.0   8.0  35.0   1.0   1.0    3.0     4.0     2.0   \n",
       "17      1.0       1.0      1.0   8.0  42.0   1.0   4.0    3.0     3.0     4.0   \n",
       "22      1.0       1.0      1.0   8.0  39.0   1.0   5.0    4.0     3.0     3.0   \n",
       "\n",
       "    ...  PB10_2  PB11  S01  SI02  SI06  activ  Encount_police_5y  res_stat  \\\n",
       "0   ...     1.0   3.0  1.0   1.0   3.0    1.0                2.0       3.0   \n",
       "12  ...     1.0   2.0  1.0   1.0   5.0    1.0                2.0       5.0   \n",
       "16  ...     1.0   3.0  1.0   1.0   4.0    1.0                1.0       5.0   \n",
       "17  ...     1.0   3.0  1.0   6.0   1.0    2.0                1.0       3.0   \n",
       "22  ...     2.0   3.0  5.0   9.0   2.0    7.0                2.0       5.0   \n",
       "\n",
       "       id  arop  \n",
       "0   165.0   1.0  \n",
       "12  317.0   0.0  \n",
       "16  321.0   0.0  \n",
       "17  322.0   1.0  \n",
       "22  327.0   1.0  \n",
       "\n",
       "[5 rows x 53 columns]"
      ]
     },
     "execution_count": 3,
     "metadata": {},
     "output_type": "execute_result"
    }
   ],
   "source": [
    "df_subset_job_seekers.head()"
   ]
  },
  {
   "cell_type": "markdown",
   "id": "34409744-ba6a-4615-a3bb-766616a92fc5",
   "metadata": {},
   "source": [
    "# <u>Frequency of specific experiences of harassment in country in past 5 years <u>    \n",
    "\n",
    "In the past 5 years in [COUNTRY] (or since you have been in [COUNTRY], how many times has somebody...?1: "
   ]
  },
  {
   "cell_type": "markdown",
   "id": "a49421aa-c9ba-4a10-a3ec-c14440389938",
   "metadata": {},
   "source": [
    "**VH01a_1:** made offensive or threatening comments to you in person such as insulting you or calling you names?"
   ]
  },
  {
   "cell_type": "code",
   "execution_count": 7,
   "id": "6efbfe6c-f0ed-4eaa-9b73-3bd0ef5d6fe2",
   "metadata": {},
   "outputs": [
    {
     "name": "stdout",
     "output_type": "stream",
     "text": [
      "Data type of VH01a_1: float64\n",
      "Number of missing values in VH01a_1: 0\n",
      "VH01a_1\n",
      "0.0     8499\n",
      "1.0     1082\n",
      "2.0      881\n",
      "7.0      756\n",
      "3.0      593\n",
      "6.0      401\n",
      "5.0      352\n",
      "4.0      300\n",
      "99.0     246\n",
      "8.0      209\n",
      "96.0      76\n",
      "97.0      11\n",
      "Name: count, dtype: int64\n",
      "VH01a_1_mod\n",
      "0    8832\n",
      "1    4574\n",
      "Name: count, dtype: int64\n"
     ]
    }
   ],
   "source": [
    "# Print data type of variable VH01a_1\n",
    "print(\"Data type of VH01a_1:\", df_subset_job_seekers['VH01a_1'].dtype)\n",
    "\n",
    "# Check for missing values in variable VH01a_1\n",
    "print(\"Number of missing values in VH01a_1:\", df_subset_job_seekers['VH01a_1'].isnull().sum())\n",
    "\n",
    "# Print frequency table\n",
    "print(df_subset_job_seekers['VH01a_1'].value_counts())\n",
    "\n",
    "# Create new variable VH01a_1_mod based on conditions\n",
    "df_subset_job_seekers['VH01a_1_mod'] = df_subset_job_seekers['VH01a_1'].apply(lambda x: 1 if x >= 1 and x <= 8 else 0)\n",
    "\n",
    "# Print frequency table\n",
    "print(df_subset_job_seekers['VH01a_1_mod'].value_counts())"
   ]
  },
  {
   "cell_type": "markdown",
   "id": "bd79fb2b-9466-48b6-b16b-b5070aa77b03",
   "metadata": {},
   "source": [
    "**VH01a_3:** made offensive gestures to you or stared at you inappropriately?"
   ]
  },
  {
   "cell_type": "code",
   "execution_count": 5,
   "id": "2070aea6-959e-4d61-b50a-7bb4bc36ffc0",
   "metadata": {},
   "outputs": [
    {
     "name": "stdout",
     "output_type": "stream",
     "text": [
      "Data type of VH01a_3: float64\n",
      "Number of missing values in VH01a_3: 0\n",
      "VH01a_3\n",
      "0.0     8406\n",
      "7.0     1023\n",
      "1.0      766\n",
      "2.0      766\n",
      "3.0      554\n",
      "6.0      466\n",
      "8.0      430\n",
      "5.0      392\n",
      "4.0      277\n",
      "99.0     251\n",
      "96.0      67\n",
      "97.0       8\n",
      "Name: count, dtype: int64\n",
      "VH01a_3_mod\n",
      "0    8732\n",
      "1    4674\n",
      "Name: count, dtype: int64\n"
     ]
    }
   ],
   "source": [
    "# Check data type of variable VH01a_3\n",
    "print(\"Data type of VH01a_3:\", df_subset_job_seekers['VH01a_3'].dtype)\n",
    "\n",
    "# Check for missing values in variable VH01a_3\n",
    "print(\"Number of missing values in VH01a_3:\", df_subset_job_seekers['VH01a_3'].isnull().sum())\n",
    "\n",
    "# Print frequency table\n",
    "print(df_subset_job_seekers['VH01a_3'].value_counts())\n",
    "\n",
    "# Create new variable VH01a_3_mod based on conditions\n",
    "df_subset_job_seekers['VH01a_3_mod'] = df_subset_job_seekers['VH01a_3'].apply(lambda x: 1 if x >= 1 and x <= 8 else 0)\n",
    "\n",
    "# Print frequency table\n",
    "print(df_subset_job_seekers['VH01a_3_mod'].value_counts())"
   ]
  },
  {
   "cell_type": "markdown",
   "id": "1edec658-7ad7-458d-8795-84a30cbc69c0",
   "metadata": {},
   "source": [
    "<span style=\"color:red\"><b>Another option</b></span>"
   ]
  },
  {
   "cell_type": "code",
   "execution_count": 42,
   "id": "500dd9b8-3bc7-40f0-a148-194830396b86",
   "metadata": {},
   "outputs": [
    {
     "name": "stdout",
     "output_type": "stream",
     "text": [
      "VH01a_1_mod2\n",
      "0.0    9184\n",
      "1.0    1082\n",
      "2.0     881\n",
      "7.0     756\n",
      "3.0     593\n",
      "6.0     401\n",
      "4.0     300\n",
      "8.0     209\n",
      "Name: count, dtype: int64\n"
     ]
    }
   ],
   "source": [
    "# Create new variable VH01a_1_mod2 based on conditions\n",
    "df_subset_job_seekers['VH01a_1_mod2'] = df_subset_job_seekers['VH01a_1'].apply(lambda x: 0 if x in [5, 96, 97, 99] else x)\n",
    "\n",
    "# Print frequency table\n",
    "print(df_subset_job_seekers['VH01a_1_mod2'].value_counts())"
   ]
  },
  {
   "cell_type": "code",
   "execution_count": 23,
   "id": "8cd75e59-0ad2-4f52-b6e0-9f2d8ad55a85",
   "metadata": {},
   "outputs": [
    {
     "data": {
      "text/html": [
       "<div>\n",
       "<style scoped>\n",
       "    .dataframe tbody tr th:only-of-type {\n",
       "        vertical-align: middle;\n",
       "    }\n",
       "\n",
       "    .dataframe tbody tr th {\n",
       "        vertical-align: top;\n",
       "    }\n",
       "\n",
       "    .dataframe thead th {\n",
       "        text-align: right;\n",
       "    }\n",
       "</style>\n",
       "<table border=\"1\" class=\"dataframe\">\n",
       "  <thead>\n",
       "    <tr style=\"text-align: right;\">\n",
       "      <th></th>\n",
       "      <th>VH01a_1_mod</th>\n",
       "      <th>VH01a_1_mod2</th>\n",
       "      <th>VH01a_1</th>\n",
       "      <th>VH01a_3_mod</th>\n",
       "      <th>VH01a_3</th>\n",
       "    </tr>\n",
       "  </thead>\n",
       "  <tbody>\n",
       "    <tr>\n",
       "      <th>0</th>\n",
       "      <td>1</td>\n",
       "      <td>2.0</td>\n",
       "      <td>2.0</td>\n",
       "      <td>0</td>\n",
       "      <td>99.0</td>\n",
       "    </tr>\n",
       "    <tr>\n",
       "      <th>12</th>\n",
       "      <td>0</td>\n",
       "      <td>0.0</td>\n",
       "      <td>0.0</td>\n",
       "      <td>0</td>\n",
       "      <td>0.0</td>\n",
       "    </tr>\n",
       "    <tr>\n",
       "      <th>16</th>\n",
       "      <td>1</td>\n",
       "      <td>1.0</td>\n",
       "      <td>1.0</td>\n",
       "      <td>0</td>\n",
       "      <td>0.0</td>\n",
       "    </tr>\n",
       "    <tr>\n",
       "      <th>17</th>\n",
       "      <td>1</td>\n",
       "      <td>7.0</td>\n",
       "      <td>7.0</td>\n",
       "      <td>1</td>\n",
       "      <td>7.0</td>\n",
       "    </tr>\n",
       "    <tr>\n",
       "      <th>22</th>\n",
       "      <td>0</td>\n",
       "      <td>0.0</td>\n",
       "      <td>0.0</td>\n",
       "      <td>1</td>\n",
       "      <td>1.0</td>\n",
       "    </tr>\n",
       "    <tr>\n",
       "      <th>23</th>\n",
       "      <td>0</td>\n",
       "      <td>0.0</td>\n",
       "      <td>0.0</td>\n",
       "      <td>1</td>\n",
       "      <td>6.0</td>\n",
       "    </tr>\n",
       "    <tr>\n",
       "      <th>25</th>\n",
       "      <td>1</td>\n",
       "      <td>6.0</td>\n",
       "      <td>6.0</td>\n",
       "      <td>0</td>\n",
       "      <td>0.0</td>\n",
       "    </tr>\n",
       "    <tr>\n",
       "      <th>27</th>\n",
       "      <td>0</td>\n",
       "      <td>0.0</td>\n",
       "      <td>0.0</td>\n",
       "      <td>0</td>\n",
       "      <td>0.0</td>\n",
       "    </tr>\n",
       "    <tr>\n",
       "      <th>30</th>\n",
       "      <td>0</td>\n",
       "      <td>0.0</td>\n",
       "      <td>0.0</td>\n",
       "      <td>0</td>\n",
       "      <td>0.0</td>\n",
       "    </tr>\n",
       "    <tr>\n",
       "      <th>33</th>\n",
       "      <td>1</td>\n",
       "      <td>6.0</td>\n",
       "      <td>6.0</td>\n",
       "      <td>1</td>\n",
       "      <td>6.0</td>\n",
       "    </tr>\n",
       "    <tr>\n",
       "      <th>35</th>\n",
       "      <td>1</td>\n",
       "      <td>4.0</td>\n",
       "      <td>4.0</td>\n",
       "      <td>1</td>\n",
       "      <td>6.0</td>\n",
       "    </tr>\n",
       "    <tr>\n",
       "      <th>38</th>\n",
       "      <td>1</td>\n",
       "      <td>3.0</td>\n",
       "      <td>3.0</td>\n",
       "      <td>1</td>\n",
       "      <td>7.0</td>\n",
       "    </tr>\n",
       "    <tr>\n",
       "      <th>41</th>\n",
       "      <td>1</td>\n",
       "      <td>2.0</td>\n",
       "      <td>2.0</td>\n",
       "      <td>1</td>\n",
       "      <td>3.0</td>\n",
       "    </tr>\n",
       "    <tr>\n",
       "      <th>42</th>\n",
       "      <td>0</td>\n",
       "      <td>0.0</td>\n",
       "      <td>0.0</td>\n",
       "      <td>0</td>\n",
       "      <td>0.0</td>\n",
       "    </tr>\n",
       "    <tr>\n",
       "      <th>44</th>\n",
       "      <td>0</td>\n",
       "      <td>0.0</td>\n",
       "      <td>0.0</td>\n",
       "      <td>0</td>\n",
       "      <td>0.0</td>\n",
       "    </tr>\n",
       "  </tbody>\n",
       "</table>\n",
       "</div>"
      ],
      "text/plain": [
       "    VH01a_1_mod  VH01a_1_mod2  VH01a_1  VH01a_3_mod  VH01a_3\n",
       "0             1           2.0      2.0            0     99.0\n",
       "12            0           0.0      0.0            0      0.0\n",
       "16            1           1.0      1.0            0      0.0\n",
       "17            1           7.0      7.0            1      7.0\n",
       "22            0           0.0      0.0            1      1.0\n",
       "23            0           0.0      0.0            1      6.0\n",
       "25            1           6.0      6.0            0      0.0\n",
       "27            0           0.0      0.0            0      0.0\n",
       "30            0           0.0      0.0            0      0.0\n",
       "33            1           6.0      6.0            1      6.0\n",
       "35            1           4.0      4.0            1      6.0\n",
       "38            1           3.0      3.0            1      7.0\n",
       "41            1           2.0      2.0            1      3.0\n",
       "42            0           0.0      0.0            0      0.0\n",
       "44            0           0.0      0.0            0      0.0"
      ]
     },
     "execution_count": 23,
     "metadata": {},
     "output_type": "execute_result"
    }
   ],
   "source": [
    "col_check = ['VH01a_1_mod', 'VH01a_1_mod2', 'VH01a_1', 'VH01a_3_mod', 'VH01a_3']\n",
    "df_subset_job_seekers[col_check].head(15)"
   ]
  },
  {
   "cell_type": "markdown",
   "id": "fda1fdab-031c-4ebd-bb13-50f7847fd3bc",
   "metadata": {},
   "source": [
    "### <u>Extent of discrimination on different grounds in country</u>\n",
    "For each of the following types of discrimination, could you please tell me whether, in your \n",
    "opinion, it is very rare, fairly rare, fairly widespread, or very widespread in [COUNTRY]  \n",
    "<span style=\"color:red\"><b>Use alternative?</b></span>| "
   ]
  },
  {
   "cell_type": "markdown",
   "id": "9aeeb6f3-6bd8-4c31-8ef4-c01368d553ce",
   "metadata": {},
   "source": [
    "**RA03_1:** Discrimination on the basis of skin colour"
   ]
  },
  {
   "cell_type": "code",
   "execution_count": 15,
   "id": "15968ec9-cc2e-4cce-aa84-c4fe27b4392f",
   "metadata": {},
   "outputs": [
    {
     "name": "stdout",
     "output_type": "stream",
     "text": [
      "Data type of RA03_1: float64\n",
      "Number of missing values in RA03_1: 0\n",
      "RA03_1\n",
      "3.0     3902\n",
      "2.0     3286\n",
      "1.0     3137\n",
      "4.0     1974\n",
      "5.0      908\n",
      "99.0     139\n",
      "98.0      24\n",
      "97.0      18\n",
      "96.0      18\n",
      "Name: count, dtype: int64\n"
     ]
    }
   ],
   "source": [
    "# Print data type of variable RA03_1\n",
    "print(\"Data type of RA03_1:\", df_subset_job_seekers['RA03_1'].dtype)\n",
    "\n",
    "# Check for missing values in variable RA03_1\n",
    "print(\"Number of missing values in RA03_1:\", df_subset_job_seekers['RA03_1'].isnull().sum())\n",
    "\n",
    "# Print frequency table\n",
    "print(df_subset_job_seekers['RA03_1'].value_counts())"
   ]
  },
  {
   "cell_type": "code",
   "execution_count": 16,
   "id": "bcc9fa13-60ae-4705-8cac-9a31e7fed42c",
   "metadata": {},
   "outputs": [
    {
     "name": "stdout",
     "output_type": "stream",
     "text": [
      "RA03_1_mod\n",
      "1    12299\n",
      "0     1107\n",
      "Name: count, dtype: int64\n"
     ]
    }
   ],
   "source": [
    "# Create new variable RA03_1_mod based on conditions\n",
    "df_subset_job_seekers['RA03_1_mod'] = df_subset_job_seekers['RA03_1'].apply(lambda x: 1 if x >= 1 and x <= 4 else 0) # exists or doesn't exist\n",
    "\n",
    "# Print frequency table\n",
    "print(df_subset_job_seekers['RA03_1_mod'].value_counts())"
   ]
  },
  {
   "cell_type": "markdown",
   "id": "01490586-2a2a-4c8b-8d15-b5963a233ff4",
   "metadata": {},
   "source": [
    "**RA03_2:** Discrimination on the basis of ethnic origin or immigrant background"
   ]
  },
  {
   "cell_type": "code",
   "execution_count": 13,
   "id": "8eadd623-3408-4561-82e1-5a4dc57f06c3",
   "metadata": {},
   "outputs": [
    {
     "name": "stdout",
     "output_type": "stream",
     "text": [
      "Data type of RA03_2: float64\n",
      "Number of missing values in RA03_2: 0\n",
      "RA03_2\n",
      "3.0     4211\n",
      "2.0     3170\n",
      "1.0     2771\n",
      "4.0     2262\n",
      "5.0      774\n",
      "99.0     138\n",
      "97.0      40\n",
      "98.0      21\n",
      "96.0      19\n",
      "Name: count, dtype: int64\n"
     ]
    }
   ],
   "source": [
    "# Print data type of variable RA03_2\n",
    "print(\"Data type of RA03_2:\", df_subset_job_seekers['RA03_2'].dtype)\n",
    "\n",
    "# Check for missing values in variable RA03_2\n",
    "print(\"Number of missing values in RA03_2:\", df_subset_job_seekers['RA03_2'].isnull().sum())\n",
    "\n",
    "# Print frequency table\n",
    "print(df_subset_job_seekers['RA03_2'].value_counts())"
   ]
  },
  {
   "cell_type": "code",
   "execution_count": 14,
   "id": "78920cfa-2a58-432c-991d-8560fa8ea4c2",
   "metadata": {},
   "outputs": [
    {
     "name": "stdout",
     "output_type": "stream",
     "text": [
      "RA03_2_mod\n",
      "1    12414\n",
      "0      992\n",
      "Name: count, dtype: int64\n"
     ]
    }
   ],
   "source": [
    "# Create new variable RA03_2_mod based on conditions\n",
    "df_subset_job_seekers['RA03_2_mod'] = df_subset_job_seekers['RA03_2'].apply(lambda x: 1 if x >= 1 and x <= 4 else 0) # exists or doesn't exist\n",
    "\n",
    "# Print frequency table\n",
    "print(df_subset_job_seekers['RA03_2_mod'].value_counts())"
   ]
  },
  {
   "cell_type": "markdown",
   "id": "7de0f9f3-cb60-4a40-a5d4-8c2500852f1e",
   "metadata": {},
   "source": [
    "**RA03_3:** Discrimination on the basis of religion or religious beliefs"
   ]
  },
  {
   "cell_type": "code",
   "execution_count": null,
   "id": "20494897-7e06-4582-be76-0f9e93a17d0e",
   "metadata": {},
   "outputs": [],
   "source": [
    "# Print data type of variable RA03_3\n",
    "print(\"Data type of RA03_2:\", df_subset_job_seekers['RA03_2'].dtype)\n",
    "\n",
    "# Check for missing values in variable RA03_2\n",
    "print(\"Number of missing values in RA03_2:\", df_subset_job_seekers['RA03_2'].isnull().sum())\n",
    "\n",
    "# Print frequency table\n",
    "print(df_subset_job_seekers['RA03_2'].value_counts())"
   ]
  },
  {
   "cell_type": "code",
   "execution_count": null,
   "id": "568ff2f8-b15e-4785-8f14-b49dc0e785a9",
   "metadata": {},
   "outputs": [],
   "source": [
    "# Create new variable RA03_3_mod based on conditions\n",
    "df_subset_job_seekers['RA03_3_mod'] = df_subset_job_seekers['RA03_3'].apply(lambda x: 1 if x >= 1 and x <= 4 else 0) # exists or doesn't exist\n",
    "\n",
    "# Print frequency table\n",
    "print(df_subset_job_seekers['RA03_3_mod'].value_counts())"
   ]
  },
  {
   "cell_type": "markdown",
   "id": "8266b76d-67c2-4071-b690-6e16a89210d5",
   "metadata": {},
   "source": [
    "### <u>Main source of income of household</u>  \n",
    "And which of these is the main source of income in your household?  \n",
    "**SI02**"
   ]
  },
  {
   "cell_type": "markdown",
   "id": "d6a4fd22-d90f-41c0-99f5-b64e94df4cc1",
   "metadata": {},
   "source": [
    "<span style=\"color:red\"><b>DEAL WITH MISSINGNESS!</b></span>"
   ]
  },
  {
   "cell_type": "code",
   "execution_count": 44,
   "id": "905d661e-c570-4db8-b309-85d72b610f8e",
   "metadata": {},
   "outputs": [
    {
     "name": "stdout",
     "output_type": "stream",
     "text": [
      "Data type of SI02: float64\n",
      "Number of missing values in SI02: 3863\n",
      "Number of missing values in SI01: 3863\n",
      "SI02\n",
      "1.0     4958\n",
      "8.0     1212\n",
      "6.0     1003\n",
      "2.0      523\n",
      "3.0      521\n",
      "5.0      421\n",
      "7.0      387\n",
      "4.0      190\n",
      "9.0      148\n",
      "96.0      77\n",
      "99.0      73\n",
      "10.0      16\n",
      "97.0      14\n",
      "Name: count, dtype: int64\n"
     ]
    }
   ],
   "source": [
    "# Print data type of variable SI02\n",
    "print(\"Data type of SI02:\", df_subset_job_seekers['SI02'].dtype)\n",
    "\n",
    "# Check for missing values in variable SI02\n",
    "print(\"Number of missing values in SI02:\", df_subset_job_seekers['SI02'].isnull().sum())\n",
    "print(\"Number of missing values in SI01:\", df_subset_job_seekers['SI02'].isnull().sum())\n",
    "\n",
    "# Print frequency table\n",
    "print(df_subset_job_seekers['SI02'].value_counts())"
   ]
  },
  {
   "cell_type": "code",
   "execution_count": 20,
   "id": "a1c48faf-443a-44cb-a192-54ea3bd49d27",
   "metadata": {},
   "outputs": [
    {
     "name": "stdout",
     "output_type": "stream",
     "text": [
      "SI02_inc_work\n",
      "0    7404\n",
      "1    6002\n",
      "Name: count, dtype: int64\n",
      "SI02_inc_ben\n",
      "0    10193\n",
      "1     3213\n",
      "Name: count, dtype: int64\n"
     ]
    }
   ],
   "source": [
    "# Create new variables SI02_inc_work and SI02_inc_ben based on conditions\n",
    "df_subset_job_seekers['SI02_inc_work'] = df_subset_job_seekers['SI02'].apply(lambda x: 1 if x in [1, 2, 3] else 0) # salary, self-employement or occasional work\n",
    "df_subset_job_seekers['SI02_inc_ben'] = df_subset_job_seekers['SI02'].apply(lambda x: 1 if x in [4, 5, 6, 7, 8] else 0) # education allowance, pensions, unemployment benefits, child benefits, other social benefits\n",
    "\n",
    "# Print frequency table\n",
    "print(df_subset_job_seekers['SI02_inc_work'].value_counts())\n",
    "print(df_subset_job_seekers['SI02_inc_ben'].value_counts())"
   ]
  },
  {
   "cell_type": "markdown",
   "id": "4416890b-c0cb-4e1e-b13e-648a7a0f1d5a",
   "metadata": {},
   "source": [
    "### <u> Ability of household to make ends meet </u>\n",
    "\n",
    "**SI06:** Thinking of your household’s total income, is your household able to make ends meet?  "
   ]
  },
  {
   "cell_type": "code",
   "execution_count": 28,
   "id": "037a07bc-6e31-4267-9e7c-2f247930e16e",
   "metadata": {},
   "outputs": [
    {
     "name": "stdout",
     "output_type": "stream",
     "text": [
      "Data type of SI06: float64\n",
      "Number of missing values in SI06: 0\n",
      "SI06\n",
      "1.0     3934\n",
      "3.0     3192\n",
      "2.0     2776\n",
      "4.0     2102\n",
      "5.0      945\n",
      "6.0      262\n",
      "96.0      95\n",
      "99.0      93\n",
      "97.0       7\n",
      "Name: count, dtype: int64\n"
     ]
    }
   ],
   "source": [
    "# Print data type of variable SI06\n",
    "print(\"Data type of SI06:\", df_subset_job_seekers['SI06'].dtype)\n",
    "\n",
    "# Check for missing values in variable SI06\n",
    "print(\"Number of missing values in SI06:\", df_subset_job_seekers['SI06'].isnull().sum())\n",
    "\n",
    "# Print frequency table\n",
    "print(df_subset_job_seekers['SI06'].value_counts())"
   ]
  },
  {
   "cell_type": "code",
   "execution_count": 7,
   "id": "e3beb4f4-fe0a-4157-941a-08b19278dfda",
   "metadata": {},
   "outputs": [
    {
     "name": "stdout",
     "output_type": "stream",
     "text": [
      "SI06_mod\n",
      "0    10097\n",
      "1     3309\n",
      "Name: count, dtype: int64\n"
     ]
    }
   ],
   "source": [
    "# Create new variable SI06_mod based on conditions\n",
    "df_subset_job_seekers['SI06_mod'] = df_subset_job_seekers['SI06'].apply(lambda x: 1 if x >= 4 and x <= 6 else 0) # fairly easily, easily or very easily\n",
    "\n",
    "# Print frequency table\n",
    "print(df_subset_job_seekers['SI06_mod'].value_counts())"
   ]
  },
  {
   "cell_type": "markdown",
   "id": "565170cc-0531-4fec-80d9-c54aab72d73a",
   "metadata": {},
   "source": [
    "### <u>Housing tenure</u>  \n",
    "**HLS02:** Do you own or rent your accommodation?"
   ]
  },
  {
   "cell_type": "code",
   "execution_count": 4,
   "id": "244f216f-0d1d-436f-9c62-66283febf421",
   "metadata": {},
   "outputs": [
    {
     "name": "stdout",
     "output_type": "stream",
     "text": [
      "Data type of HLS02: float64\n",
      "Number of missing values in HLS02: 2\n",
      "HLS02\n",
      "4.0     4212\n",
      "3.0     4188\n",
      "1.0     2667\n",
      "2.0     1048\n",
      "5.0      985\n",
      "6.0      178\n",
      "96.0      84\n",
      "99.0      39\n",
      "97.0       3\n",
      "Name: count, dtype: int64\n"
     ]
    }
   ],
   "source": [
    "# Print data type of variable HLS02\n",
    "print(\"Data type of HLS02:\", df_subset_job_seekers['HLS02'].dtype)\n",
    "\n",
    "# Check for missing values in variable HLS02\n",
    "print(\"Number of missing values in HLS02:\", df_subset_job_seekers['HLS02'].isnull().sum())\n",
    "\n",
    "# Print frequency table\n",
    "print(df_subset_job_seekers['HLS02'].value_counts())"
   ]
  },
  {
   "cell_type": "code",
   "execution_count": 6,
   "id": "57568dc6-bdbf-408f-91ab-61b8a14fcf0a",
   "metadata": {},
   "outputs": [
    {
     "name": "stdout",
     "output_type": "stream",
     "text": [
      "HLS02_mod\n",
      "0    9691\n",
      "1    3715\n",
      "Name: count, dtype: int64\n"
     ]
    }
   ],
   "source": [
    "# Create new variable HLS02_mod based on conditions\n",
    "df_subset_job_seekers['HLS02_mod'] = df_subset_job_seekers['HLS02'].apply(lambda x: 1 if x == 1 or x == 2 else 0) # own with or without mortgage\n",
    "\n",
    "# Print frequency table\n",
    "print(df_subset_job_seekers['HLS02_mod'].value_counts())"
   ]
  },
  {
   "cell_type": "markdown",
   "id": "6dafb28a-1865-4fc6-b47f-ee5d779d4f6a",
   "metadata": {},
   "source": [
    "### <u>Subjective assessment of own health condition</u>  \n",
    "**DHE01:** How is your health in general? Is it…  \n",
    "<span style=\"color:red\"><b>Should we deal with it as a discrete or as a binary?</b></span>"
   ]
  },
  {
   "cell_type": "code",
   "execution_count": 9,
   "id": "6b7f92c2-9159-4bb5-b872-5e31f64d5689",
   "metadata": {},
   "outputs": [
    {
     "name": "stdout",
     "output_type": "stream",
     "text": [
      "Data type of DHE01: float64\n",
      "Number of missing values in DHE01: 0\n",
      "DHE01\n",
      "1.0     5642\n",
      "2.0     5230\n",
      "3.0     1807\n",
      "4.0      596\n",
      "5.0      120\n",
      "96.0       7\n",
      "99.0       3\n",
      "97.0       1\n",
      "Name: count, dtype: int64\n"
     ]
    }
   ],
   "source": [
    "# Print data type of variable DHE01\n",
    "print(\"Data type of DHE01:\", df_subset_job_seekers['DHE01'].dtype)\n",
    "\n",
    "# Check for missing values in variable DHE01\n",
    "print(\"Number of missing values in DHE01:\", df_subset_job_seekers['DHE01'].isnull().sum())\n",
    "\n",
    "# Print frequency table\n",
    "print(df_subset_job_seekers['DHE01'].value_counts())"
   ]
  },
  {
   "cell_type": "code",
   "execution_count": 16,
   "id": "18845fb3-82fd-4793-ae48-a76ab5d7514f",
   "metadata": {},
   "outputs": [
    {
     "name": "stdout",
     "output_type": "stream",
     "text": [
      "DHE01_mod\n",
      "5.0    5642\n",
      "4.0    5230\n",
      "3.0    1807\n",
      "2.0     596\n",
      "1.0     120\n",
      "0.0      11\n",
      "Name: count, dtype: int64\n"
     ]
    }
   ],
   "source": [
    "# Define the mapping dictionary for the new variable\n",
    "map_DHE01 = {96: 0, 97: 0, 99: 0, 1: 5, 5: 1, 2: 4, 4: 2}\n",
    "\n",
    "# Create new variable DHE01_mod based on the mapping\n",
    "df_subset_job_seekers['DHE01_mod'] = df_subset_job_seekers['DHE01'].map(map_DHE01).fillna(df_subset_job_seekers['DHE01'])\n",
    "print(df_subset_job_seekers['DHE01_mod'].value_counts())\n",
    "# Growing from non-existing answer (0) and very bad health (1) to very good health (5)"
   ]
  },
  {
   "cell_type": "markdown",
   "id": "4689b933-e9c4-41b9-a9ed-76b7f48cc5f2",
   "metadata": {},
   "source": [
    "### <u>Ethnic or immigrant background of residents of neighbourhood</u>  \n",
    "**PB11:** In the neighbourhood where you live, how many of the residents would you say are of the same: [TAILORED TO TARGET GROUP CATEGORIES ethnic or immigrant background / Roma background / ethnic minority background] as you: all of the residents, most of them, some or none of them?  \n",
    "<span style=\"color:red\"><b>Two options</b></span>"
   ]
  },
  {
   "cell_type": "code",
   "execution_count": 14,
   "id": "3ceae9ca-ea34-47ee-9028-443c92edd085",
   "metadata": {},
   "outputs": [
    {
     "name": "stdout",
     "output_type": "stream",
     "text": [
      "Data type of PB11: float64\n",
      "Number of missing values in PB11: 0\n",
      "PB11\n",
      "3.0     6624\n",
      "2.0     4482\n",
      "1.0     1304\n",
      "4.0      671\n",
      "99.0     288\n",
      "97.0      20\n",
      "96.0      17\n",
      "Name: count, dtype: int64\n"
     ]
    }
   ],
   "source": [
    "# Print data type of variable PB11\n",
    "print(\"Data type of PB11:\", df_subset_job_seekers['PB11'].dtype)\n",
    "\n",
    "# Check for missing values in variable PB11\n",
    "print(\"Number of missing values in PB11:\", df_subset_job_seekers['PB11'].isnull().sum())\n",
    "\n",
    "# Print frequency table\n",
    "print(df_subset_job_seekers['PB11'].value_counts())"
   ]
  },
  {
   "cell_type": "code",
   "execution_count": 17,
   "id": "14f220fc-7143-4338-97ec-61aee7ee88e8",
   "metadata": {},
   "outputs": [
    {
     "name": "stdout",
     "output_type": "stream",
     "text": [
      "PB11_mod\n",
      "0    7620\n",
      "1    5786\n",
      "Name: count, dtype: int64\n"
     ]
    }
   ],
   "source": [
    "# New variable: is the majority of your neighbourhood from the same ethnic background as you? ##### WINNER\n",
    "# Create new variable PB11_mod based on conditions\n",
    "df_subset_job_seekers['PB11_mod'] = df_subset_job_seekers['PB11'].apply(lambda x: 1 if x == 1 or x == 2 else 0) # all or most of the neighbourhood\n",
    "\n",
    "# Print frequency table\n",
    "print(df_subset_job_seekers['PB11_mod'].value_counts())"
   ]
  },
  {
   "cell_type": "code",
   "execution_count": 18,
   "id": "48685614-c6aa-4c38-84b6-18ac556d4c76",
   "metadata": {},
   "outputs": [
    {
     "name": "stdout",
     "output_type": "stream",
     "text": [
      "PB11_mod2\n",
      "1    11106\n",
      "0     2300\n",
      "Name: count, dtype: int64\n"
     ]
    }
   ],
   "source": [
    "# New variable 2: is your neighbourhood of mixed ethnicity?\n",
    "# Create new variable PB11_mod2 based on conditions\n",
    "df_subset_job_seekers['PB11_mod2'] = df_subset_job_seekers['PB11'].apply(lambda x: 1 if x == 2 or x == 3 else 0) # all or most of the neighbourhood\n",
    "\n",
    "# Print frequency table\n",
    "print(df_subset_job_seekers['PB11_mod2'].value_counts())"
   ]
  },
  {
   "attachments": {},
   "cell_type": "markdown",
   "id": "870508b7-0108-416b-9540-2d9f30bd809f",
   "metadata": {},
   "source": [
    "### <u>Employment situation</u>  \n",
    "**HH04:** Employment situation  \n",
    "<span style=\"color:red\"><b>Same info as variable 'activ'</b></span>  \n",
    "1\temployed  \r\n",
    "2\tunemploye  d\r\n",
    "3\tnot working due to illness or disabili  y \r\n",
    "4\tdomestic w  rk \r\n",
    "6\tret  ired\r\n",
    "7\tother inactive (education, military service, oher)\r\n"
   ]
  },
  {
   "cell_type": "code",
   "execution_count": 20,
   "id": "6c09e59e-7e09-4ffe-a30d-acb9ca4cf6c4",
   "metadata": {},
   "outputs": [
    {
     "name": "stdout",
     "output_type": "stream",
     "text": [
      "Data type of HH04: float64\n",
      "Number of missing values in HH04: 0\n",
      "HH04\n",
      "1.0     5155\n",
      "4.0     4861\n",
      "5.0     1213\n",
      "7.0      959\n",
      "2.0      540\n",
      "8.0      215\n",
      "10.0     194\n",
      "6.0      193\n",
      "3.0       33\n",
      "9.0       20\n",
      "96.0      20\n",
      "99.0       2\n",
      "97.0       1\n",
      "Name: count, dtype: int64\n"
     ]
    }
   ],
   "source": [
    "# Print data type of variable HH04\n",
    "print(\"Data type of HH04:\", df_subset_job_seekers['HH04'].dtype)\n",
    "\n",
    "# Check for missing values in variable HH04\n",
    "print(\"Number of missing values in HH04:\", df_subset_job_seekers['HH04'].isnull().sum())\n",
    "\n",
    "# Print frequency table\n",
    "print(df_subset_job_seekers['HH04'].value_counts())"
   ]
  },
  {
   "cell_type": "code",
   "execution_count": 30,
   "id": "2d16d812-c5dc-4851-846f-6a8b9fe15d79",
   "metadata": {},
   "outputs": [
    {
     "name": "stdout",
     "output_type": "stream",
     "text": [
      "Frequency table for HH04_empl:\n",
      "HH04_empl\n",
      "0    7691\n",
      "1    5715\n",
      "Name: count, dtype: int64\n",
      "\n",
      "Frequency table for HH04_stud:\n",
      "HH04_stud\n",
      "0    12193\n",
      "1     1213\n",
      "Name: count, dtype: int64\n"
     ]
    }
   ],
   "source": [
    "# Create new variables HH04_empl and HH04_stud based on conditions\n",
    "df_subset_job_seekers['HH04_empl'] = df_subset_job_seekers['HH04'].apply(lambda x: 1 if x in [1, 2, 9] else 0) # employed, self-employed or military\n",
    "df_subset_job_seekers['HH04_stud'] = np.where(df_subset_job_seekers['HH04'] == 5, 1, 0) # student\n",
    "\n",
    "# Print frequency table for HH04_empl\n",
    "print(\"Frequency table for HH04_empl:\")\n",
    "print(df_subset_job_seekers['HH04_empl'].value_counts())\n",
    "\n",
    "# Print frequency table for HH04_stud\n",
    "print(\"\\nFrequency table for HH04_stud:\")\n",
    "print(df_subset_job_seekers['HH04_stud'].value_counts())"
   ]
  },
  {
   "cell_type": "markdown",
   "id": "5d97ffc6-2b19-4f97-9997-804163a58649",
   "metadata": {},
   "source": [
    "### <u> Awareness of experiences of violence among friends and family because of ethnic minority background in past 12 months </u>  \n",
    "And in the past 12 months, have you heard of anyone in your circle of family or friends being…  \n",
    "\n",
    "**VV10_1:** insulted or called names because of their [TAILORED TO TARGET GROUP CATEGORIES ethnic or immigrant background / Roma background / ethnic minority background]?"
   ]
  },
  {
   "cell_type": "code",
   "execution_count": 31,
   "id": "2068e21d-901c-44a2-8712-924ec967ce16",
   "metadata": {},
   "outputs": [
    {
     "name": "stdout",
     "output_type": "stream",
     "text": [
      "Data type of VV10_1: float64\n",
      "Number of missing values in VV10_1: 0\n",
      "VV10_1\n",
      "2.0     8833\n",
      "1.0     4194\n",
      "99.0     291\n",
      "96.0      43\n",
      "98.0      37\n",
      "97.0       8\n",
      "Name: count, dtype: int64\n"
     ]
    }
   ],
   "source": [
    "# Print data type of variable VV10_1\n",
    "print(\"Data type of VV10_1:\", df_subset_job_seekers['VV10_1'].dtype)\n",
    "\n",
    "# Check for missing values in variable VV10_1\n",
    "print(\"Number of missing values in VV10_1:\", df_subset_job_seekers['VV10_1'].isnull().sum())\n",
    "\n",
    "# Print frequency table\n",
    "print(df_subset_job_seekers['VV10_1'].value_counts())"
   ]
  },
  {
   "cell_type": "markdown",
   "id": "1ea5e2e2-ed0f-45a9-88d9-3ff49c46d9e3",
   "metadata": {},
   "source": [
    "<span style=\"color:red\"><b>Transform it into binary? Are 99, 96, 98 and 97 zeros?</b></span>  \n",
    "Refused  \r\n",
    "Does'nt \r\n",
    "undetsna the question   Not applicable   Don't know\n",
    "know"
   ]
  },
  {
   "cell_type": "markdown",
   "id": "68fb6dd1-d7ef-414b-9e93-41b3a0d3ab7e",
   "metadata": {},
   "source": [
    "### <u> Residence / citizenship status </u>  \n",
    "\n",
    "res_stat"
   ]
  },
  {
   "cell_type": "code",
   "execution_count": 32,
   "id": "c7a803e4-b0d0-4221-9c28-cd9ec7b1a44c",
   "metadata": {},
   "outputs": [
    {
     "name": "stdout",
     "output_type": "stream",
     "text": [
      "Data type of res_stat: float64\n",
      "Number of missing values in res_stat: 3987\n",
      "res_stat\n",
      "1.0     4196\n",
      "5.0     2299\n",
      "3.0     1417\n",
      "99.0     629\n",
      "6.0      366\n",
      "2.0      288\n",
      "4.0      224\n",
      "Name: count, dtype: int64\n"
     ]
    }
   ],
   "source": [
    "# Print data type of variable res_stat\n",
    "print(\"Data type of res_stat:\", df_subset_job_seekers['res_stat'].dtype)\n",
    "\n",
    "# Check for missing values in variable res_stat\n",
    "print(\"Number of missing values in res_stat:\", df_subset_job_seekers['res_stat'].isnull().sum())\n",
    "\n",
    "# Print frequency table\n",
    "print(df_subset_job_seekers['res_stat'].value_counts())"
   ]
  },
  {
   "cell_type": "markdown",
   "id": "35a656f0-19ab-4083-8df6-072a5256727e",
   "metadata": {},
   "source": [
    "<span style=\"color:red\"><b>Too many missing values, what do we do?  ### WINNER: binary from EU or not >> wait for Gayatri to see if any other variables are better</b></span>  \n",
    "Not exactly sure what is relevant here, I thought there'd be more illegal people. Should we separate nationals from non nationals? Citizens from non-citizens?  \n",
    "1\tNational citizen  \n",
    "2\tEU citizen, but not national  \n",
    "3\tUnlimited residence permit  \n",
    "4\tLimited residence permit, valid for more than 5 years  \n",
    "5\tLimited residence permit, valid for less than 5 years  \n",
    "6\tNo residence permit  \n",
    "99\tOther (e.g. currently renewing, don't know)"
   ]
  },
  {
   "cell_type": "markdown",
   "id": "d932e9e3-2886-4789-a90b-1daab61e7e63",
   "metadata": {},
   "source": [
    "### <u> Target group (derived from country of origin or self-identification) </u>  \n",
    "**IN02**  \n",
    "1\tAsians and their descendants  \n",
    "2\tImmigrants from  Turkey and their descendants  \n",
    "3\tImmigrants from North Africa and their descendants  \n",
    "4\tRecent immigrants  \n",
    "5\tRoma  \n",
    "6\tRussian  \n",
    "7\tSouth Asians and their descendants  \n",
    "8\tSub-Saharans and people of African descent"
   ]
  },
  {
   "cell_type": "code",
   "execution_count": 34,
   "id": "434f67e3-5bfa-412d-bf07-fb9e95ddc252",
   "metadata": {},
   "outputs": [
    {
     "name": "stdout",
     "output_type": "stream",
     "text": [
      "Data type of IN02: float64\n",
      "Number of missing values in IN02: 0\n",
      "IN02\n",
      "5.0    3987\n",
      "8.0    3732\n",
      "3.0    2192\n",
      "2.0    1688\n",
      "7.0     914\n",
      "4.0     439\n",
      "6.0     350\n",
      "1.0     104\n",
      "Name: count, dtype: int64\n"
     ]
    }
   ],
   "source": [
    "# Print data type of variable IN02\n",
    "print(\"Data type of IN02:\", df_subset_job_seekers['IN02'].dtype)\n",
    "\n",
    "# Check for missing values in variable IN02\n",
    "print(\"Number of missing values in IN02:\", df_subset_job_seekers['IN02'].isnull().sum())\n",
    "\n",
    "# Print frequency table\n",
    "print(df_subset_job_seekers['IN02'].value_counts())"
   ]
  },
  {
   "cell_type": "markdown",
   "id": "547b57c6-5601-4b00-841b-fb89e7c69574",
   "metadata": {},
   "source": [
    "<span style=\"color:red\"><b>Roma???</b></span>  \n",
    "100% categorical, keep it like this?  \n",
    "Wtf is recent immigrants? How is that the same type of category as the others?"
   ]
  },
  {
   "attachments": {},
   "cell_type": "markdown",
   "id": "7ace496a-53f0-4b78-a0e3-f71d090387e1",
   "metadata": {},
   "source": [
    "### <u> Current marrital status </u>  \n",
    "**S01**  \n",
    "              "
   ]
  },
  {
   "cell_type": "code",
   "execution_count": 36,
   "id": "37cb8fd4-a5aa-4008-a62d-30f08e208a53",
   "metadata": {},
   "outputs": [
    {
     "name": "stdout",
     "output_type": "stream",
     "text": [
      "Data type of S01: float64\n",
      "Number of missing values in S01: 0\n",
      "S01\n",
      "1.0     6728\n",
      "5.0     5124\n",
      "3.0      792\n",
      "2.0      392\n",
      "4.0      264\n",
      "96.0      91\n",
      "99.0       9\n",
      "97.0       6\n",
      "Name: count, dtype: int64\n"
     ]
    }
   ],
   "source": [
    "# Print data type of variable S01\n",
    "print(\"Data type of S01:\", df_subset_job_seekers['S01'].dtype)\n",
    "\n",
    "# Check for missing values in variable S01\n",
    "print(\"Number of missing values in S01:\", df_subset_job_seekers['S01'].isnull().sum())\n",
    "\n",
    "# Print frequency table\n",
    "print(df_subset_job_seekers['S01'].value_counts())"
   ]
  },
  {
   "cell_type": "code",
   "execution_count": 37,
   "id": "87148fde-31d2-4b18-9329-39b227056514",
   "metadata": {},
   "outputs": [
    {
     "name": "stdout",
     "output_type": "stream",
     "text": [
      "S01_mod\n",
      "1    6728\n",
      "0    6678\n",
      "Name: count, dtype: int64\n"
     ]
    }
   ],
   "source": [
    "# Create new variable S01_mod based on condition\n",
    "df_subset_job_seekers['S01_mod'] = np.where(df_subset_job_seekers['S01'] == 1, 1, 0)\n",
    "\n",
    "# Print frequency table\n",
    "print(df_subset_job_seekers['S01_mod'].value_counts())"
   ]
  },
  {
   "cell_type": "markdown",
   "id": "62c3d406-2dda-4f3b-b608-e382ceba19ee",
   "metadata": {},
   "source": [
    "### <u> Religion </u>  \n",
    "**PB01**"
   ]
  },
  {
   "cell_type": "markdown",
   "id": "4b9727ca-3178-4008-bb02-15e6e2221b37",
   "metadata": {},
   "source": [
    "<span style=\"color:red\"><b>100% categorical, keep it like this?</b></span>  "
   ]
  },
  {
   "cell_type": "markdown",
   "id": "7bea2ecc-3e07-4cfb-8d54-b2e46c185213",
   "metadata": {},
   "source": [
    "### <u> Degree of urbanisation </u>  \n",
    "**DEGURBA**  \n",
    "1\tDensely populated area  \n",
    "2\tIntermediate density area  \n",
    "3\tThinly populated area  \n",
    "-2\tNot on route"
   ]
  },
  {
   "cell_type": "code",
   "execution_count": 40,
   "id": "8c419156-f0ef-4b50-a3ae-16951f6be32f",
   "metadata": {},
   "outputs": [
    {
     "name": "stdout",
     "output_type": "stream",
     "text": [
      "Data type of DEGURBA: float64\n",
      "Number of missing values in DEGURBA: 0\n",
      "DEGURBA\n",
      "1.0    8233\n",
      "2.0    2789\n",
      "3.0    2384\n",
      "Name: count, dtype: int64\n"
     ]
    }
   ],
   "source": [
    "# Print data type of variable DEGURBA\n",
    "print(\"Data type of DEGURBA:\", df_subset_job_seekers['DEGURBA'].dtype)\n",
    "\n",
    "# Check for missing values in variable DEGURBA\n",
    "print(\"Number of missing values in DEGURBA:\", df_subset_job_seekers['DEGURBA'].isnull().sum())\n",
    "\n",
    "# Print frequency table\n",
    "print(df_subset_job_seekers['DEGURBA'].value_counts())"
   ]
  },
  {
   "cell_type": "markdown",
   "id": "47fec3b8-79b7-4583-8bd0-3d4591b634d6",
   "metadata": {},
   "source": [
    "<span style=\"color:red\"><b>Can we flip it and use it as a discrete variable?</b></span>"
   ]
  },
  {
   "cell_type": "code",
   "execution_count": null,
   "id": "ba81e67d-772f-49c3-b712-33f18c1171c3",
   "metadata": {},
   "outputs": [],
   "source": []
  }
 ],
 "metadata": {
  "kernelspec": {
   "display_name": "Python 3 (ipykernel)",
   "language": "python",
   "name": "python3"
  },
  "language_info": {
   "codemirror_mode": {
    "name": "ipython",
    "version": 3
   },
   "file_extension": ".py",
   "mimetype": "text/x-python",
   "name": "python",
   "nbconvert_exporter": "python",
   "pygments_lexer": "ipython3",
   "version": "3.12.2"
  }
 },
 "nbformat": 4,
 "nbformat_minor": 5
}
